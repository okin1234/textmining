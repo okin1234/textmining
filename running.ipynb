{
 "cells": [
  {
   "cell_type": "code",
   "execution_count": 1,
   "id": "4f7a8360-cc7f-468e-a349-55d42eee04c7",
   "metadata": {},
   "outputs": [
    {
     "name": "stderr",
     "output_type": "stream",
     "text": [
      "/home/rnwnsgud1234/0.Files/anaconda3/envs/text/lib/python3.9/site-packages/tqdm/auto.py:22: TqdmWarning: IProgress not found. Please update jupyter and ipywidgets. See https://ipywidgets.readthedocs.io/en/stable/user_install.html\n",
      "  from .autonotebook import tqdm as notebook_tqdm\n"
     ]
    }
   ],
   "source": [
    "from main_code import run\n",
    "from main_code.run import NLP_classification\n",
    "import wandb"
   ]
  },
  {
   "cell_type": "code",
   "execution_count": 3,
   "id": "f6b336f2-2f45-42cd-ab57-7949bdb55e18",
   "metadata": {
    "collapsed": true,
    "jupyter": {
     "outputs_hidden": true
    },
    "tags": []
   },
   "outputs": [
    {
     "name": "stderr",
     "output_type": "stream",
     "text": [
      "100%|██████████████████████████████████████████████████████████████████████████████████████████████████████████████████████████████████████████████████| 80/80 [00:04<00:00, 19.24it/s]\n",
      "100%|██████████████████████████████████████████████████████████████████████████████████████████████████████████████████████████████████████████████████| 20/20 [00:00<00:00, 87.57it/s]\n"
     ]
    },
    {
     "name": "stdout",
     "output_type": "stream",
     "text": [
      "Abstract   Intro      Main       Method     Summary    Caption   \n",
      "0/1        0/2        8/8        0/5        0/1        0/3       \n",
      "Epoch: 001, Train Loss: 1.6151094, Val Loss: 1.5611447, Val Acc: 0.4000000, Val Precision: 0.0666667, Val Recall: 0.1666667, Val F1: 0.0952381 \n",
      "Validation loss decreased (inf --> 1.561145). \n"
     ]
    },
    {
     "name": "stderr",
     "output_type": "stream",
     "text": [
      "100%|██████████████████████████████████████████████████████████████████████████████████████████████████████████████████████████████████████████████████| 80/80 [00:03<00:00, 22.47it/s]\n",
      "100%|██████████████████████████████████████████████████████████████████████████████████████████████████████████████████████████████████████████████████| 20/20 [00:00<00:00, 89.86it/s]\n"
     ]
    },
    {
     "name": "stdout",
     "output_type": "stream",
     "text": [
      "Abstract   Intro      Main       Method     Summary    Caption   \n",
      "0/1        0/2        8/8        0/5        0/1        0/3       \n",
      "Epoch: 002, Train Loss: 1.5078429, Val Loss: 1.5059165, Val Acc: 0.4000000, Val Precision: 0.0666667, Val Recall: 0.1666667, Val F1: 0.0952381 \n",
      "Validation loss decreased (1.561145 --> 1.505916). \n"
     ]
    },
    {
     "name": "stderr",
     "output_type": "stream",
     "text": [
      "100%|██████████████████████████████████████████████████████████████████████████████████████████████████████████████████████████████████████████████████| 80/80 [00:03<00:00, 22.60it/s]\n",
      "100%|██████████████████████████████████████████████████████████████████████████████████████████████████████████████████████████████████████████████████| 20/20 [00:00<00:00, 89.28it/s]\n"
     ]
    },
    {
     "name": "stdout",
     "output_type": "stream",
     "text": [
      "Abstract   Intro      Main       Method     Summary    Caption   \n",
      "0/1        0/2        8/8        5/5        0/1        0/3       \n",
      "Epoch: 003, Train Loss: 1.4596621, Val Loss: 1.4722499, Val Acc: 0.6500000, Val Precision: 0.2152778, Val Recall: 0.3333333, Val F1: 0.2615385 \n",
      "Validation loss decreased (1.505916 --> 1.472250). \n"
     ]
    },
    {
     "name": "stderr",
     "output_type": "stream",
     "text": [
      " 60%|███████████████████████████████████████████████████████████████████████████████████████▌                                                          | 48/80 [00:02<00:01, 22.56it/s]\n"
     ]
    },
    {
     "ename": "KeyboardInterrupt",
     "evalue": "",
     "output_type": "error",
     "traceback": [
      "\u001b[0;31m---------------------------------------------------------------------------\u001b[0m",
      "\u001b[0;31mKeyboardInterrupt\u001b[0m                         Traceback (most recent call last)",
      "Input \u001b[0;32mIn [3]\u001b[0m, in \u001b[0;36m<cell line: 16>\u001b[0;34m()\u001b[0m\n\u001b[1;32m     13\u001b[0m num_classifier\u001b[38;5;241m=\u001b[39m\u001b[38;5;241m2\u001b[39m\n\u001b[1;32m     15\u001b[0m trainer \u001b[38;5;241m=\u001b[39m NLP_classification(model_name\u001b[38;5;241m=\u001b[39mmodel_name, max_length\u001b[38;5;241m=\u001b[39mmax_length, random_state\u001b[38;5;241m=\u001b[39mrandom_state, task_type\u001b[38;5;241m=\u001b[39mtask_type, freeze_layers\u001b[38;5;241m=\u001b[39mfreeze_layers, num_classifier\u001b[38;5;241m=\u001b[39mnum_classifier)\n\u001b[0;32m---> 16\u001b[0m \u001b[43mtrainer\u001b[49m\u001b[38;5;241;43m.\u001b[39;49m\u001b[43mtraining\u001b[49m\u001b[43m(\u001b[49m\u001b[43mdata_file\u001b[49m\u001b[43m,\u001b[49m\u001b[43m \u001b[49m\u001b[43mepochs\u001b[49m\u001b[38;5;241;43m=\u001b[39;49m\u001b[43mepochs\u001b[49m\u001b[43m,\u001b[49m\u001b[43m \u001b[49m\u001b[43mbatch_size\u001b[49m\u001b[38;5;241;43m=\u001b[39;49m\u001b[43mbatch_size\u001b[49m\u001b[43m,\u001b[49m\u001b[43m \u001b[49m\u001b[43mlr\u001b[49m\u001b[38;5;241;43m=\u001b[39;49m\u001b[43mlr\u001b[49m\u001b[43m,\u001b[49m\u001b[43m \u001b[49m\u001b[43mdropout\u001b[49m\u001b[38;5;241;43m=\u001b[39;49m\u001b[43mdropout\u001b[49m\u001b[43m,\u001b[49m\u001b[43m \u001b[49m\u001b[43mdata_cut\u001b[49m\u001b[38;5;241;43m=\u001b[39;49m\u001b[43mdata_cut\u001b[49m\u001b[43m)\u001b[49m\n",
      "File \u001b[0;32m~/1.text/textmining/main_code/run.py:98\u001b[0m, in \u001b[0;36mNLP_classification.training\u001b[0;34m(self, data_file, epochs, batch_size, lr, dropout, data_cut, wandb_log, wandb_project, wandb_group, wandb_name, wandb_memo)\u001b[0m\n\u001b[1;32m     93\u001b[0m     targets\u001b[38;5;241m=\u001b[39mdata[\u001b[38;5;124m'\u001b[39m\u001b[38;5;124mlabel\u001b[39m\u001b[38;5;124m'\u001b[39m]\u001b[38;5;241m.\u001b[39mto(device, dtype\u001b[38;5;241m=\u001b[39mtorch\u001b[38;5;241m.\u001b[39mlong)\n\u001b[1;32m     95\u001b[0m inputs \u001b[38;5;241m=\u001b[39m {\u001b[38;5;124m'\u001b[39m\u001b[38;5;124minput_ids\u001b[39m\u001b[38;5;124m'\u001b[39m: input_ids, \u001b[38;5;124m'\u001b[39m\u001b[38;5;124mattention_mask\u001b[39m\u001b[38;5;124m'\u001b[39m: mask,\n\u001b[1;32m     96\u001b[0m   \u001b[38;5;124m'\u001b[39m\u001b[38;5;124mlabels\u001b[39m\u001b[38;5;124m'\u001b[39m: targets}\n\u001b[0;32m---> 98\u001b[0m outputs \u001b[38;5;241m=\u001b[39m \u001b[43mmodel\u001b[49m\u001b[43m(\u001b[49m\u001b[43minputs\u001b[49m\u001b[43m)\u001b[49m\n\u001b[1;32m     99\u001b[0m output \u001b[38;5;241m=\u001b[39m outputs[\u001b[38;5;241m1\u001b[39m]\n\u001b[1;32m    100\u001b[0m loss \u001b[38;5;241m=\u001b[39m outputs[\u001b[38;5;241m0\u001b[39m]\n",
      "File \u001b[0;32m~/0.Files/anaconda3/envs/text/lib/python3.9/site-packages/torch/nn/modules/module.py:1110\u001b[0m, in \u001b[0;36mModule._call_impl\u001b[0;34m(self, *input, **kwargs)\u001b[0m\n\u001b[1;32m   1106\u001b[0m \u001b[38;5;66;03m# If we don't have any hooks, we want to skip the rest of the logic in\u001b[39;00m\n\u001b[1;32m   1107\u001b[0m \u001b[38;5;66;03m# this function, and just call forward.\u001b[39;00m\n\u001b[1;32m   1108\u001b[0m \u001b[38;5;28;01mif\u001b[39;00m \u001b[38;5;129;01mnot\u001b[39;00m (\u001b[38;5;28mself\u001b[39m\u001b[38;5;241m.\u001b[39m_backward_hooks \u001b[38;5;129;01mor\u001b[39;00m \u001b[38;5;28mself\u001b[39m\u001b[38;5;241m.\u001b[39m_forward_hooks \u001b[38;5;129;01mor\u001b[39;00m \u001b[38;5;28mself\u001b[39m\u001b[38;5;241m.\u001b[39m_forward_pre_hooks \u001b[38;5;129;01mor\u001b[39;00m _global_backward_hooks\n\u001b[1;32m   1109\u001b[0m         \u001b[38;5;129;01mor\u001b[39;00m _global_forward_hooks \u001b[38;5;129;01mor\u001b[39;00m _global_forward_pre_hooks):\n\u001b[0;32m-> 1110\u001b[0m     \u001b[38;5;28;01mreturn\u001b[39;00m \u001b[43mforward_call\u001b[49m\u001b[43m(\u001b[49m\u001b[38;5;241;43m*\u001b[39;49m\u001b[38;5;28;43minput\u001b[39;49m\u001b[43m,\u001b[49m\u001b[43m \u001b[49m\u001b[38;5;241;43m*\u001b[39;49m\u001b[38;5;241;43m*\u001b[39;49m\u001b[43mkwargs\u001b[49m\u001b[43m)\u001b[49m\n\u001b[1;32m   1111\u001b[0m \u001b[38;5;66;03m# Do not call functions when jit is used\u001b[39;00m\n\u001b[1;32m   1112\u001b[0m full_backward_hooks, non_full_backward_hooks \u001b[38;5;241m=\u001b[39m [], []\n",
      "File \u001b[0;32m~/1.text/textmining/main_code/model.py:25\u001b[0m, in \u001b[0;36mclassification_model.forward\u001b[0;34m(self, inputs)\u001b[0m\n\u001b[1;32m     24\u001b[0m \u001b[38;5;28;01mdef\u001b[39;00m \u001b[38;5;21mforward\u001b[39m(\u001b[38;5;28mself\u001b[39m, inputs):\n\u001b[0;32m---> 25\u001b[0m     output \u001b[38;5;241m=\u001b[39m \u001b[38;5;28;43mself\u001b[39;49m\u001b[38;5;241;43m.\u001b[39;49m\u001b[43mpretrained_model\u001b[49m\u001b[43m(\u001b[49m\u001b[38;5;241;43m*\u001b[39;49m\u001b[38;5;241;43m*\u001b[39;49m\u001b[43minputs\u001b[49m\u001b[43m)\u001b[49m[\u001b[38;5;241m0\u001b[39m]\n\u001b[1;32m     26\u001b[0m     output \u001b[38;5;241m=\u001b[39m \u001b[38;5;28mself\u001b[39m\u001b[38;5;241m.\u001b[39msequence_summary(output)\n\u001b[1;32m     27\u001b[0m     \u001b[38;5;28;01mfor\u001b[39;00m layer \u001b[38;5;129;01min\u001b[39;00m \u001b[38;5;28mself\u001b[39m\u001b[38;5;241m.\u001b[39mclassifiers:\n",
      "File \u001b[0;32m~/0.Files/anaconda3/envs/text/lib/python3.9/site-packages/torch/nn/modules/module.py:1110\u001b[0m, in \u001b[0;36mModule._call_impl\u001b[0;34m(self, *input, **kwargs)\u001b[0m\n\u001b[1;32m   1106\u001b[0m \u001b[38;5;66;03m# If we don't have any hooks, we want to skip the rest of the logic in\u001b[39;00m\n\u001b[1;32m   1107\u001b[0m \u001b[38;5;66;03m# this function, and just call forward.\u001b[39;00m\n\u001b[1;32m   1108\u001b[0m \u001b[38;5;28;01mif\u001b[39;00m \u001b[38;5;129;01mnot\u001b[39;00m (\u001b[38;5;28mself\u001b[39m\u001b[38;5;241m.\u001b[39m_backward_hooks \u001b[38;5;129;01mor\u001b[39;00m \u001b[38;5;28mself\u001b[39m\u001b[38;5;241m.\u001b[39m_forward_hooks \u001b[38;5;129;01mor\u001b[39;00m \u001b[38;5;28mself\u001b[39m\u001b[38;5;241m.\u001b[39m_forward_pre_hooks \u001b[38;5;129;01mor\u001b[39;00m _global_backward_hooks\n\u001b[1;32m   1109\u001b[0m         \u001b[38;5;129;01mor\u001b[39;00m _global_forward_hooks \u001b[38;5;129;01mor\u001b[39;00m _global_forward_pre_hooks):\n\u001b[0;32m-> 1110\u001b[0m     \u001b[38;5;28;01mreturn\u001b[39;00m \u001b[43mforward_call\u001b[49m\u001b[43m(\u001b[49m\u001b[38;5;241;43m*\u001b[39;49m\u001b[38;5;28;43minput\u001b[39;49m\u001b[43m,\u001b[49m\u001b[43m \u001b[49m\u001b[38;5;241;43m*\u001b[39;49m\u001b[38;5;241;43m*\u001b[39;49m\u001b[43mkwargs\u001b[49m\u001b[43m)\u001b[49m\n\u001b[1;32m   1111\u001b[0m \u001b[38;5;66;03m# Do not call functions when jit is used\u001b[39;00m\n\u001b[1;32m   1112\u001b[0m full_backward_hooks, non_full_backward_hooks \u001b[38;5;241m=\u001b[39m [], []\n",
      "File \u001b[0;32m~/0.Files/anaconda3/envs/text/lib/python3.9/site-packages/transformers/models/xlnet/modeling_xlnet.py:1246\u001b[0m, in \u001b[0;36mXLNetModel.forward\u001b[0;34m(self, input_ids, attention_mask, mems, perm_mask, target_mapping, token_type_ids, input_mask, head_mask, inputs_embeds, use_mems, output_attentions, output_hidden_states, return_dict, **kwargs)\u001b[0m\n\u001b[1;32m   1243\u001b[0m \u001b[38;5;28;01mif\u001b[39;00m output_hidden_states:\n\u001b[1;32m   1244\u001b[0m     hidden_states\u001b[38;5;241m.\u001b[39mappend((output_h, output_g) \u001b[38;5;28;01mif\u001b[39;00m output_g \u001b[38;5;129;01mis\u001b[39;00m \u001b[38;5;129;01mnot\u001b[39;00m \u001b[38;5;28;01mNone\u001b[39;00m \u001b[38;5;28;01melse\u001b[39;00m output_h)\n\u001b[0;32m-> 1246\u001b[0m outputs \u001b[38;5;241m=\u001b[39m \u001b[43mlayer_module\u001b[49m\u001b[43m(\u001b[49m\n\u001b[1;32m   1247\u001b[0m \u001b[43m    \u001b[49m\u001b[43moutput_h\u001b[49m\u001b[43m,\u001b[49m\n\u001b[1;32m   1248\u001b[0m \u001b[43m    \u001b[49m\u001b[43moutput_g\u001b[49m\u001b[43m,\u001b[49m\n\u001b[1;32m   1249\u001b[0m \u001b[43m    \u001b[49m\u001b[43mattn_mask_h\u001b[49m\u001b[38;5;241;43m=\u001b[39;49m\u001b[43mnon_tgt_mask\u001b[49m\u001b[43m,\u001b[49m\n\u001b[1;32m   1250\u001b[0m \u001b[43m    \u001b[49m\u001b[43mattn_mask_g\u001b[49m\u001b[38;5;241;43m=\u001b[39;49m\u001b[43mattn_mask\u001b[49m\u001b[43m,\u001b[49m\n\u001b[1;32m   1251\u001b[0m \u001b[43m    \u001b[49m\u001b[43mr\u001b[49m\u001b[38;5;241;43m=\u001b[39;49m\u001b[43mpos_emb\u001b[49m\u001b[43m,\u001b[49m\n\u001b[1;32m   1252\u001b[0m \u001b[43m    \u001b[49m\u001b[43mseg_mat\u001b[49m\u001b[38;5;241;43m=\u001b[39;49m\u001b[43mseg_mat\u001b[49m\u001b[43m,\u001b[49m\n\u001b[1;32m   1253\u001b[0m \u001b[43m    \u001b[49m\u001b[43mmems\u001b[49m\u001b[38;5;241;43m=\u001b[39;49m\u001b[43mmems\u001b[49m\u001b[43m[\u001b[49m\u001b[43mi\u001b[49m\u001b[43m]\u001b[49m\u001b[43m,\u001b[49m\n\u001b[1;32m   1254\u001b[0m \u001b[43m    \u001b[49m\u001b[43mtarget_mapping\u001b[49m\u001b[38;5;241;43m=\u001b[39;49m\u001b[43mtarget_mapping\u001b[49m\u001b[43m,\u001b[49m\n\u001b[1;32m   1255\u001b[0m \u001b[43m    \u001b[49m\u001b[43mhead_mask\u001b[49m\u001b[38;5;241;43m=\u001b[39;49m\u001b[43mhead_mask\u001b[49m\u001b[43m[\u001b[49m\u001b[43mi\u001b[49m\u001b[43m]\u001b[49m\u001b[43m,\u001b[49m\n\u001b[1;32m   1256\u001b[0m \u001b[43m    \u001b[49m\u001b[43moutput_attentions\u001b[49m\u001b[38;5;241;43m=\u001b[39;49m\u001b[43moutput_attentions\u001b[49m\u001b[43m,\u001b[49m\n\u001b[1;32m   1257\u001b[0m \u001b[43m\u001b[49m\u001b[43m)\u001b[49m\n\u001b[1;32m   1258\u001b[0m output_h, output_g \u001b[38;5;241m=\u001b[39m outputs[:\u001b[38;5;241m2\u001b[39m]\n\u001b[1;32m   1259\u001b[0m \u001b[38;5;28;01mif\u001b[39;00m output_attentions:\n",
      "File \u001b[0;32m~/0.Files/anaconda3/envs/text/lib/python3.9/site-packages/torch/nn/modules/module.py:1110\u001b[0m, in \u001b[0;36mModule._call_impl\u001b[0;34m(self, *input, **kwargs)\u001b[0m\n\u001b[1;32m   1106\u001b[0m \u001b[38;5;66;03m# If we don't have any hooks, we want to skip the rest of the logic in\u001b[39;00m\n\u001b[1;32m   1107\u001b[0m \u001b[38;5;66;03m# this function, and just call forward.\u001b[39;00m\n\u001b[1;32m   1108\u001b[0m \u001b[38;5;28;01mif\u001b[39;00m \u001b[38;5;129;01mnot\u001b[39;00m (\u001b[38;5;28mself\u001b[39m\u001b[38;5;241m.\u001b[39m_backward_hooks \u001b[38;5;129;01mor\u001b[39;00m \u001b[38;5;28mself\u001b[39m\u001b[38;5;241m.\u001b[39m_forward_hooks \u001b[38;5;129;01mor\u001b[39;00m \u001b[38;5;28mself\u001b[39m\u001b[38;5;241m.\u001b[39m_forward_pre_hooks \u001b[38;5;129;01mor\u001b[39;00m _global_backward_hooks\n\u001b[1;32m   1109\u001b[0m         \u001b[38;5;129;01mor\u001b[39;00m _global_forward_hooks \u001b[38;5;129;01mor\u001b[39;00m _global_forward_pre_hooks):\n\u001b[0;32m-> 1110\u001b[0m     \u001b[38;5;28;01mreturn\u001b[39;00m \u001b[43mforward_call\u001b[49m\u001b[43m(\u001b[49m\u001b[38;5;241;43m*\u001b[39;49m\u001b[38;5;28;43minput\u001b[39;49m\u001b[43m,\u001b[49m\u001b[43m \u001b[49m\u001b[38;5;241;43m*\u001b[39;49m\u001b[38;5;241;43m*\u001b[39;49m\u001b[43mkwargs\u001b[49m\u001b[43m)\u001b[49m\n\u001b[1;32m   1111\u001b[0m \u001b[38;5;66;03m# Do not call functions when jit is used\u001b[39;00m\n\u001b[1;32m   1112\u001b[0m full_backward_hooks, non_full_backward_hooks \u001b[38;5;241m=\u001b[39m [], []\n",
      "File \u001b[0;32m~/0.Files/anaconda3/envs/text/lib/python3.9/site-packages/transformers/models/xlnet/modeling_xlnet.py:515\u001b[0m, in \u001b[0;36mXLNetLayer.forward\u001b[0;34m(self, output_h, output_g, attn_mask_h, attn_mask_g, r, seg_mat, mems, target_mapping, head_mask, output_attentions)\u001b[0m\n\u001b[1;32m    502\u001b[0m \u001b[38;5;28;01mdef\u001b[39;00m \u001b[38;5;21mforward\u001b[39m(\n\u001b[1;32m    503\u001b[0m     \u001b[38;5;28mself\u001b[39m,\n\u001b[1;32m    504\u001b[0m     output_h,\n\u001b[0;32m   (...)\u001b[0m\n\u001b[1;32m    513\u001b[0m     output_attentions\u001b[38;5;241m=\u001b[39m\u001b[38;5;28;01mFalse\u001b[39;00m,\n\u001b[1;32m    514\u001b[0m ):\n\u001b[0;32m--> 515\u001b[0m     outputs \u001b[38;5;241m=\u001b[39m \u001b[38;5;28;43mself\u001b[39;49m\u001b[38;5;241;43m.\u001b[39;49m\u001b[43mrel_attn\u001b[49m\u001b[43m(\u001b[49m\n\u001b[1;32m    516\u001b[0m \u001b[43m        \u001b[49m\u001b[43moutput_h\u001b[49m\u001b[43m,\u001b[49m\n\u001b[1;32m    517\u001b[0m \u001b[43m        \u001b[49m\u001b[43moutput_g\u001b[49m\u001b[43m,\u001b[49m\n\u001b[1;32m    518\u001b[0m \u001b[43m        \u001b[49m\u001b[43mattn_mask_h\u001b[49m\u001b[43m,\u001b[49m\n\u001b[1;32m    519\u001b[0m \u001b[43m        \u001b[49m\u001b[43mattn_mask_g\u001b[49m\u001b[43m,\u001b[49m\n\u001b[1;32m    520\u001b[0m \u001b[43m        \u001b[49m\u001b[43mr\u001b[49m\u001b[43m,\u001b[49m\n\u001b[1;32m    521\u001b[0m \u001b[43m        \u001b[49m\u001b[43mseg_mat\u001b[49m\u001b[43m,\u001b[49m\n\u001b[1;32m    522\u001b[0m \u001b[43m        \u001b[49m\u001b[43mmems\u001b[49m\u001b[38;5;241;43m=\u001b[39;49m\u001b[43mmems\u001b[49m\u001b[43m,\u001b[49m\n\u001b[1;32m    523\u001b[0m \u001b[43m        \u001b[49m\u001b[43mtarget_mapping\u001b[49m\u001b[38;5;241;43m=\u001b[39;49m\u001b[43mtarget_mapping\u001b[49m\u001b[43m,\u001b[49m\n\u001b[1;32m    524\u001b[0m \u001b[43m        \u001b[49m\u001b[43mhead_mask\u001b[49m\u001b[38;5;241;43m=\u001b[39;49m\u001b[43mhead_mask\u001b[49m\u001b[43m,\u001b[49m\n\u001b[1;32m    525\u001b[0m \u001b[43m        \u001b[49m\u001b[43moutput_attentions\u001b[49m\u001b[38;5;241;43m=\u001b[39;49m\u001b[43moutput_attentions\u001b[49m\u001b[43m,\u001b[49m\n\u001b[1;32m    526\u001b[0m \u001b[43m    \u001b[49m\u001b[43m)\u001b[49m\n\u001b[1;32m    527\u001b[0m     output_h, output_g \u001b[38;5;241m=\u001b[39m outputs[:\u001b[38;5;241m2\u001b[39m]\n\u001b[1;32m    529\u001b[0m     \u001b[38;5;28;01mif\u001b[39;00m output_g \u001b[38;5;129;01mis\u001b[39;00m \u001b[38;5;129;01mnot\u001b[39;00m \u001b[38;5;28;01mNone\u001b[39;00m:\n",
      "File \u001b[0;32m~/0.Files/anaconda3/envs/text/lib/python3.9/site-packages/torch/nn/modules/module.py:1110\u001b[0m, in \u001b[0;36mModule._call_impl\u001b[0;34m(self, *input, **kwargs)\u001b[0m\n\u001b[1;32m   1106\u001b[0m \u001b[38;5;66;03m# If we don't have any hooks, we want to skip the rest of the logic in\u001b[39;00m\n\u001b[1;32m   1107\u001b[0m \u001b[38;5;66;03m# this function, and just call forward.\u001b[39;00m\n\u001b[1;32m   1108\u001b[0m \u001b[38;5;28;01mif\u001b[39;00m \u001b[38;5;129;01mnot\u001b[39;00m (\u001b[38;5;28mself\u001b[39m\u001b[38;5;241m.\u001b[39m_backward_hooks \u001b[38;5;129;01mor\u001b[39;00m \u001b[38;5;28mself\u001b[39m\u001b[38;5;241m.\u001b[39m_forward_hooks \u001b[38;5;129;01mor\u001b[39;00m \u001b[38;5;28mself\u001b[39m\u001b[38;5;241m.\u001b[39m_forward_pre_hooks \u001b[38;5;129;01mor\u001b[39;00m _global_backward_hooks\n\u001b[1;32m   1109\u001b[0m         \u001b[38;5;129;01mor\u001b[39;00m _global_forward_hooks \u001b[38;5;129;01mor\u001b[39;00m _global_forward_pre_hooks):\n\u001b[0;32m-> 1110\u001b[0m     \u001b[38;5;28;01mreturn\u001b[39;00m \u001b[43mforward_call\u001b[49m\u001b[43m(\u001b[49m\u001b[38;5;241;43m*\u001b[39;49m\u001b[38;5;28;43minput\u001b[39;49m\u001b[43m,\u001b[49m\u001b[43m \u001b[49m\u001b[38;5;241;43m*\u001b[39;49m\u001b[38;5;241;43m*\u001b[39;49m\u001b[43mkwargs\u001b[49m\u001b[43m)\u001b[49m\n\u001b[1;32m   1111\u001b[0m \u001b[38;5;66;03m# Do not call functions when jit is used\u001b[39;00m\n\u001b[1;32m   1112\u001b[0m full_backward_hooks, non_full_backward_hooks \u001b[38;5;241m=\u001b[39m [], []\n",
      "File \u001b[0;32m~/0.Files/anaconda3/envs/text/lib/python3.9/site-packages/transformers/models/xlnet/modeling_xlnet.py:446\u001b[0m, in \u001b[0;36mXLNetRelativeAttention.forward\u001b[0;34m(self, h, g, attn_mask_h, attn_mask_g, r, seg_mat, mems, target_mapping, head_mask, output_attentions)\u001b[0m\n\u001b[1;32m    443\u001b[0m k_head_r \u001b[38;5;241m=\u001b[39m torch\u001b[38;5;241m.\u001b[39meinsum(\u001b[38;5;124m\"\u001b[39m\u001b[38;5;124mibh,hnd->ibnd\u001b[39m\u001b[38;5;124m\"\u001b[39m, r\u001b[38;5;241m.\u001b[39mtype(\u001b[38;5;28mself\u001b[39m\u001b[38;5;241m.\u001b[39mr\u001b[38;5;241m.\u001b[39mdtype), \u001b[38;5;28mself\u001b[39m\u001b[38;5;241m.\u001b[39mr)\n\u001b[1;32m    445\u001b[0m \u001b[38;5;66;03m# core attention ops\u001b[39;00m\n\u001b[0;32m--> 446\u001b[0m attn_vec \u001b[38;5;241m=\u001b[39m \u001b[38;5;28;43mself\u001b[39;49m\u001b[38;5;241;43m.\u001b[39;49m\u001b[43mrel_attn_core\u001b[49m\u001b[43m(\u001b[49m\n\u001b[1;32m    447\u001b[0m \u001b[43m    \u001b[49m\u001b[43mq_head_h\u001b[49m\u001b[43m,\u001b[49m\n\u001b[1;32m    448\u001b[0m \u001b[43m    \u001b[49m\u001b[43mk_head_h\u001b[49m\u001b[43m,\u001b[49m\n\u001b[1;32m    449\u001b[0m \u001b[43m    \u001b[49m\u001b[43mv_head_h\u001b[49m\u001b[43m,\u001b[49m\n\u001b[1;32m    450\u001b[0m \u001b[43m    \u001b[49m\u001b[43mk_head_r\u001b[49m\u001b[43m,\u001b[49m\n\u001b[1;32m    451\u001b[0m \u001b[43m    \u001b[49m\u001b[43mseg_mat\u001b[49m\u001b[38;5;241;43m=\u001b[39;49m\u001b[43mseg_mat\u001b[49m\u001b[43m,\u001b[49m\n\u001b[1;32m    452\u001b[0m \u001b[43m    \u001b[49m\u001b[43mattn_mask\u001b[49m\u001b[38;5;241;43m=\u001b[39;49m\u001b[43mattn_mask_h\u001b[49m\u001b[43m,\u001b[49m\n\u001b[1;32m    453\u001b[0m \u001b[43m    \u001b[49m\u001b[43mhead_mask\u001b[49m\u001b[38;5;241;43m=\u001b[39;49m\u001b[43mhead_mask\u001b[49m\u001b[43m,\u001b[49m\n\u001b[1;32m    454\u001b[0m \u001b[43m    \u001b[49m\u001b[43moutput_attentions\u001b[49m\u001b[38;5;241;43m=\u001b[39;49m\u001b[43moutput_attentions\u001b[49m\u001b[43m,\u001b[49m\n\u001b[1;32m    455\u001b[0m \u001b[43m\u001b[49m\u001b[43m)\u001b[49m\n\u001b[1;32m    457\u001b[0m \u001b[38;5;28;01mif\u001b[39;00m output_attentions:\n\u001b[1;32m    458\u001b[0m     attn_vec, attn_prob \u001b[38;5;241m=\u001b[39m attn_vec\n",
      "File \u001b[0;32m~/0.Files/anaconda3/envs/text/lib/python3.9/site-packages/transformers/models/xlnet/modeling_xlnet.py:315\u001b[0m, in \u001b[0;36mXLNetRelativeAttention.rel_attn_core\u001b[0;34m(self, q_head, k_head_h, v_head_h, k_head_r, seg_mat, attn_mask, head_mask, output_attentions)\u001b[0m\n\u001b[1;32m    312\u001b[0m     attn_prob \u001b[38;5;241m=\u001b[39m attn_prob \u001b[38;5;241m*\u001b[39m torch\u001b[38;5;241m.\u001b[39meinsum(\u001b[38;5;124m\"\u001b[39m\u001b[38;5;124mijbn->bnij\u001b[39m\u001b[38;5;124m\"\u001b[39m, head_mask)\n\u001b[1;32m    314\u001b[0m \u001b[38;5;66;03m# attention output\u001b[39;00m\n\u001b[0;32m--> 315\u001b[0m attn_vec \u001b[38;5;241m=\u001b[39m \u001b[43mtorch\u001b[49m\u001b[38;5;241;43m.\u001b[39;49m\u001b[43meinsum\u001b[49m\u001b[43m(\u001b[49m\u001b[38;5;124;43m\"\u001b[39;49m\u001b[38;5;124;43mbnij,jbnd->ibnd\u001b[39;49m\u001b[38;5;124;43m\"\u001b[39;49m\u001b[43m,\u001b[49m\u001b[43m \u001b[49m\u001b[43mattn_prob\u001b[49m\u001b[43m,\u001b[49m\u001b[43m \u001b[49m\u001b[43mv_head_h\u001b[49m\u001b[43m)\u001b[49m\n\u001b[1;32m    317\u001b[0m \u001b[38;5;28;01mif\u001b[39;00m output_attentions:\n\u001b[1;32m    318\u001b[0m     \u001b[38;5;28;01mreturn\u001b[39;00m attn_vec, torch\u001b[38;5;241m.\u001b[39meinsum(\u001b[38;5;124m\"\u001b[39m\u001b[38;5;124mbnij->ijbn\u001b[39m\u001b[38;5;124m\"\u001b[39m, attn_prob)\n",
      "File \u001b[0;32m~/0.Files/anaconda3/envs/text/lib/python3.9/site-packages/torch/functional.py:330\u001b[0m, in \u001b[0;36meinsum\u001b[0;34m(*args)\u001b[0m\n\u001b[1;32m    326\u001b[0m     \u001b[38;5;66;03m# recurse incase operands contains value that has torch function\u001b[39;00m\n\u001b[1;32m    327\u001b[0m     \u001b[38;5;66;03m# in the original implementation this line is omitted\u001b[39;00m\n\u001b[1;32m    328\u001b[0m     \u001b[38;5;28;01mreturn\u001b[39;00m einsum(equation, \u001b[38;5;241m*\u001b[39m_operands)\n\u001b[0;32m--> 330\u001b[0m \u001b[38;5;28;01mreturn\u001b[39;00m \u001b[43m_VF\u001b[49m\u001b[38;5;241;43m.\u001b[39;49m\u001b[43meinsum\u001b[49m\u001b[43m(\u001b[49m\u001b[43mequation\u001b[49m\u001b[43m,\u001b[49m\u001b[43m \u001b[49m\u001b[43moperands\u001b[49m\u001b[43m)\u001b[49m\n",
      "\u001b[0;31mKeyboardInterrupt\u001b[0m: "
     ]
    }
   ],
   "source": [
    "model_name = 'xlnet-base-cased'\n",
    "data_file = './Datasets/check.csv'\n",
    "\n",
    "dropout=0.1\n",
    "lr=1e-5\n",
    "batch_size=16\n",
    "random_state=1000\n",
    "epochs=100\n",
    "data_cut=None\n",
    "max_length=512\n",
    "task_type='scalar'\n",
    "freeze_layers=0\n",
    "num_classifier=1\n",
    "\n",
    "trainer = NLP_classification(model_name=model_name, max_length=max_length, random_state=random_state, task_type=task_type, freeze_layers=freeze_layers, num_classifier=num_classifier)\n",
    "trainer.training(data_file, epochs=epochs, batch_size=batch_size, lr=lr, dropout=dropout, data_cut=data_cut)"
   ]
  },
  {
   "cell_type": "markdown",
   "id": "bdce4560-c858-4bf2-811a-8fc58bebb613",
   "metadata": {
    "jp-MarkdownHeadingCollapsed": true,
    "tags": []
   },
   "source": [
    "# freeze layer test"
   ]
  },
  {
   "cell_type": "code",
   "execution_count": 2,
   "id": "29c885d0-51f9-4d9a-b447-ea6b1a62d760",
   "metadata": {
    "collapsed": true,
    "jupyter": {
     "outputs_hidden": true
    },
    "tags": []
   },
   "outputs": [
    {
     "name": "stderr",
     "output_type": "stream",
     "text": [
      "Failed to detect the name of this notebook, you can set it manually with the WANDB_NOTEBOOK_NAME environment variable to enable code saving.\n",
      "\u001b[34m\u001b[1mwandb\u001b[0m: Currently logged in as: \u001b[33mihateml\u001b[0m (use `wandb login --relogin` to force relogin)\n"
     ]
    },
    {
     "data": {
      "text/html": [
       "Tracking run with wandb version 0.12.14"
      ],
      "text/plain": [
       "<IPython.core.display.HTML object>"
      ]
     },
     "metadata": {},
     "output_type": "display_data"
    },
    {
     "data": {
      "text/html": [
       "Run data is saved locally in <code>/home/rnwnsgud1234/1.text/textmining/wandb/run-20220414_013615-2cppty5w</code>"
      ],
      "text/plain": [
       "<IPython.core.display.HTML object>"
      ]
     },
     "metadata": {},
     "output_type": "display_data"
    },
    {
     "data": {
      "text/html": [
       "Syncing run <strong><a href=\"https://wandb.ai/ihateml/xlnet_classification/runs/2cppty5w\" target=\"_blank\">vague-cosmos-1</a></strong> to <a href=\"https://wandb.ai/ihateml/xlnet_classification\" target=\"_blank\">Weights & Biases</a> (<a href=\"https://wandb.me/run\" target=\"_blank\">docs</a>)<br/>"
      ],
      "text/plain": [
       "<IPython.core.display.HTML object>"
      ]
     },
     "metadata": {},
     "output_type": "display_data"
    },
    {
     "name": "stderr",
     "output_type": "stream",
     "text": [
      "\u001b[34m\u001b[1mwandb\u001b[0m: \u001b[33mWARNING\u001b[0m Calling wandb.run.save without any arguments is deprecated.Changes to attributes are automatically persisted.\n",
      "100%|████████████████████████████████████████████████████████████████████████████████████████████████████████████████████████████████████████████████| 575/575 [21:36<00:00,  2.26s/it]\n",
      "100%|████████████████████████████████████████████████████████████████████████████████████████████████████████████████████████████████████████████████| 144/144 [03:16<00:00,  1.36s/it]\n"
     ]
    },
    {
     "name": "stdout",
     "output_type": "stream",
     "text": [
      "Abstract   Intro      Main       Method     Summary    Caption   \n",
      "52/156     224/361    1302/1584  76/399     32/190     723/757   \n",
      "Epoch: 001, Train Loss: 1.0409780, Val Loss: 0.8249936, Val Acc: 0.6988686, Val Precision: 0.5873670, Val Recall: 0.5149641, Val F1: 0.5189876 \n",
      "Validation loss decreased (inf --> 0.824994). \n"
     ]
    },
    {
     "name": "stderr",
     "output_type": "stream",
     "text": [
      " 99%|██████████████████████████████████████████████████████████████████████████████████████████████████████████████████████████████████████████████▉ | 571/575 [21:28<00:09,  2.26s/it]wandb: Network error (ReadTimeout), entering retry loop.\n",
      "100%|████████████████████████████████████████████████████████████████████████████████████████████████████████████████████████████████████████████████| 575/575 [21:36<00:00,  2.25s/it]\n",
      " 47%|████████████████████████████████████████████████████████████████████▍                                                                            | 68/144 [01:32<01:43,  1.37s/it]wandb: Network error (ReadTimeout), entering retry loop.\n",
      "100%|████████████████████████████████████████████████████████████████████████████████████████████████████████████████████████████████████████████████| 144/144 [03:16<00:00,  1.36s/it]\n"
     ]
    },
    {
     "name": "stdout",
     "output_type": "stream",
     "text": [
      "Abstract   Intro      Main       Method     Summary    Caption   \n",
      "78/156     172/361    1421/1584  105/399    81/190     700/757   \n",
      "Epoch: 002, Train Loss: 0.7392844, Val Loss: 0.7268530, Val Acc: 0.7418045, Val Precision: 0.6607327, Val Recall: 0.5812878, Val F1: 0.6014410 \n",
      "Validation loss decreased (0.824994 --> 0.726853). \n"
     ]
    },
    {
     "name": "stderr",
     "output_type": "stream",
     "text": [
      "100%|████████████████████████████████████████████████████████████████████████████████████████████████████████████████████████████████████████████████| 575/575 [21:35<00:00,  2.25s/it]\n",
      "100%|████████████████████████████████████████████████████████████████████████████████████████████████████████████████████████████████████████████████| 144/144 [03:16<00:00,  1.36s/it]\n"
     ]
    },
    {
     "name": "stdout",
     "output_type": "stream",
     "text": [
      "Abstract   Intro      Main       Method     Summary    Caption   \n",
      "54/156     181/361    1468/1584  94/399     105/190    696/757   \n",
      "Epoch: 003, Train Loss: 0.6207338, Val Loss: 0.7099660, Val Acc: 0.7536989, Val Precision: 0.7046888, Val Recall: 0.5803243, Val F1: 0.6107771 \n",
      "Validation loss decreased (0.726853 --> 0.709966). \n"
     ]
    },
    {
     "name": "stderr",
     "output_type": "stream",
     "text": [
      "100%|████████████████████████████████████████████████████████████████████████████████████████████████████████████████████████████████████████████████| 575/575 [21:35<00:00,  2.25s/it]\n",
      "100%|████████████████████████████████████████████████████████████████████████████████████████████████████████████████████████████████████████████████| 144/144 [03:16<00:00,  1.36s/it]\n"
     ]
    },
    {
     "name": "stdout",
     "output_type": "stream",
     "text": [
      "Abstract   Intro      Main       Method     Summary    Caption   \n",
      "80/156     248/361    1384/1584  157/399    109/190    721/757   \n",
      "Epoch: 004, Train Loss: 0.5363576, Val Loss: 0.6253202, Val Acc: 0.7829997, Val Precision: 0.7223745, Val Recall: 0.6655250, Val F1: 0.6868894 \n",
      "Validation loss decreased (0.709966 --> 0.625320). \n"
     ]
    },
    {
     "name": "stderr",
     "output_type": "stream",
     "text": [
      "100%|████████████████████████████████████████████████████████████████████████████████████████████████████████████████████████████████████████████████| 575/575 [21:35<00:00,  2.25s/it]\n",
      "100%|████████████████████████████████████████████████████████████████████████████████████████████████████████████████████████████████████████████████| 144/144 [03:16<00:00,  1.36s/it]\n"
     ]
    },
    {
     "name": "stdout",
     "output_type": "stream",
     "text": [
      "Abstract   Intro      Main       Method     Summary    Caption   \n",
      "112/156    249/361    1425/1584  121/399    112/190    702/757   \n",
      "Epoch: 005, Train Loss: 0.4544047, Val Loss: 0.6232694, Val Acc: 0.7893821, Val Precision: 0.7456104, Val Recall: 0.6878995, Val F1: 0.7004445 \n",
      "Validation loss decreased (0.625320 --> 0.623269). \n"
     ]
    },
    {
     "name": "stderr",
     "output_type": "stream",
     "text": [
      " 56%|████████████████████████████████████████████████████████████████████████████████▋                                                               | 322/575 [12:06<09:32,  2.26s/it]wandb: Network error (ReadTimeout), entering retry loop.\n",
      "100%|████████████████████████████████████████████████████████████████████████████████████████████████████████████████████████████████████████████████| 575/575 [21:35<00:00,  2.25s/it]\n",
      "100%|████████████████████████████████████████████████████████████████████████████████████████████████████████████████████████████████████████████████| 144/144 [03:16<00:00,  1.36s/it]\n"
     ]
    },
    {
     "name": "stdout",
     "output_type": "stream",
     "text": [
      "Abstract   Intro      Main       Method     Summary    Caption   \n",
      "102/156    255/361    1375/1584  177/399    108/190    730/757   \n",
      "Epoch: 006, Train Loss: 0.4025311, Val Loss: 0.5978759, Val Acc: 0.7969249, Val Precision: 0.7522151, Val Recall: 0.7007726, Val F1: 0.7213184 \n",
      "Validation loss decreased (0.623269 --> 0.597876). \n"
     ]
    },
    {
     "name": "stderr",
     "output_type": "stream",
     "text": [
      "100%|████████████████████████████████████████████████████████████████████████████████████████████████████████████████████████████████████████████████| 575/575 [21:35<00:00,  2.25s/it]\n",
      "100%|████████████████████████████████████████████████████████████████████████████████████████████████████████████████████████████████████████████████| 144/144 [03:16<00:00,  1.36s/it]\n"
     ]
    },
    {
     "name": "stdout",
     "output_type": "stream",
     "text": [
      "Abstract   Intro      Main       Method     Summary    Caption   \n",
      "99/156     258/361    1410/1584  139/399    98/190     741/757   \n",
      "Epoch: 007, Train Loss: 0.3511640, Val Loss: 0.6432750, Val Acc: 0.7963446, Val Precision: 0.7754543, Val Recall: 0.6804121, Val F1: 0.7107896 \n",
      "EarlyStopping counter: 1 out of 10\n"
     ]
    },
    {
     "name": "stderr",
     "output_type": "stream",
     "text": [
      "100%|████████████████████████████████████████████████████████████████████████████████████████████████████████████████████████████████████████████████| 575/575 [21:35<00:00,  2.25s/it]\n",
      "100%|████████████████████████████████████████████████████████████████████████████████████████████████████████████████████████████████████████████████| 144/144 [03:16<00:00,  1.36s/it]\n"
     ]
    },
    {
     "name": "stdout",
     "output_type": "stream",
     "text": [
      "Abstract   Intro      Main       Method     Summary    Caption   \n",
      "109/156    214/361    1369/1584  204/399    96/190     738/757   \n",
      "Epoch: 008, Train Loss: 0.3052626, Val Loss: 0.6670929, Val Acc: 0.7919930, Val Precision: 0.7560378, Val Recall: 0.6912043, Val F1: 0.7164221 \n",
      "EarlyStopping counter: 2 out of 10\n"
     ]
    },
    {
     "name": "stderr",
     "output_type": "stream",
     "text": [
      "100%|████████████████████████████████████████████████████████████████████████████████████████████████████████████████████████████████████████████████| 575/575 [21:35<00:00,  2.25s/it]\n",
      "100%|████████████████████████████████████████████████████████████████████████████████████████████████████████████████████████████████████████████████| 144/144 [03:16<00:00,  1.36s/it]\n"
     ]
    },
    {
     "name": "stdout",
     "output_type": "stream",
     "text": [
      "Abstract   Intro      Main       Method     Summary    Caption   \n",
      "102/156    238/361    1366/1584  189/399    115/190    745/757   \n",
      "Epoch: 009, Train Loss: 0.2628508, Val Loss: 0.6752648, Val Acc: 0.7992457, Val Precision: 0.7482255, Val Recall: 0.7064325, Val F1: 0.7245864 \n",
      "EarlyStopping counter: 3 out of 10\n"
     ]
    },
    {
     "name": "stderr",
     "output_type": "stream",
     "text": [
      " 54%|█████████████████████████████████████████████████████████████████████████████▋                                                                  | 310/575 [11:39<09:57,  2.26s/it]wandb: Network error (ReadTimeout), entering retry loop.\n",
      "100%|████████████████████████████████████████████████████████████████████████████████████████████████████████████████████████████████████████████████| 575/575 [21:35<00:00,  2.25s/it]\n",
      "100%|████████████████████████████████████████████████████████████████████████████████████████████████████████████████████████████████████████████████| 144/144 [03:16<00:00,  1.36s/it]\n"
     ]
    },
    {
     "name": "stdout",
     "output_type": "stream",
     "text": [
      "Abstract   Intro      Main       Method     Summary    Caption   \n",
      "86/156     275/361    1371/1584  169/399    109/190    725/757   \n",
      "Epoch: 010, Train Loss: 0.2346703, Val Loss: 0.7213268, Val Acc: 0.7934436, Val Precision: 0.7547751, Val Recall: 0.6889260, Val F1: 0.7113198 \n",
      "EarlyStopping counter: 4 out of 10\n"
     ]
    },
    {
     "name": "stderr",
     "output_type": "stream",
     "text": [
      "100%|████████████████████████████████████████████████████████████████████████████████████████████████████████████████████████████████████████████████| 575/575 [21:36<00:00,  2.25s/it]\n",
      "100%|████████████████████████████████████████████████████████████████████████████████████████████████████████████████████████████████████████████████| 144/144 [03:16<00:00,  1.36s/it]\n"
     ]
    },
    {
     "name": "stdout",
     "output_type": "stream",
     "text": [
      "Abstract   Intro      Main       Method     Summary    Caption   \n",
      "96/156     247/361    1337/1584  204/399    117/190    735/757   \n",
      "Epoch: 011, Train Loss: 0.2025713, Val Loss: 0.7232109, Val Acc: 0.7937337, Val Precision: 0.7388668, Val Recall: 0.7069444, Val F1: 0.7213555 \n",
      "EarlyStopping counter: 5 out of 10\n"
     ]
    },
    {
     "name": "stderr",
     "output_type": "stream",
     "text": [
      "100%|████████████████████████████████████████████████████████████████████████████████████████████████████████████████████████████████████████████████| 575/575 [21:36<00:00,  2.25s/it]\n",
      "100%|████████████████████████████████████████████████████████████████████████████████████████████████████████████████████████████████████████████████| 144/144 [03:16<00:00,  1.36s/it]\n"
     ]
    },
    {
     "name": "stdout",
     "output_type": "stream",
     "text": [
      "Abstract   Intro      Main       Method     Summary    Caption   \n",
      "81/156     179/361    1375/1584  207/399    99/190     738/757   \n",
      "Epoch: 012, Train Loss: 0.1894965, Val Loss: 0.8173338, Val Acc: 0.7771976, Val Precision: 0.7575823, Val Recall: 0.6496470, Val F1: 0.6909042 \n",
      "EarlyStopping counter: 6 out of 10\n"
     ]
    },
    {
     "name": "stderr",
     "output_type": "stream",
     "text": [
      "100%|████████████████████████████████████████████████████████████████████████████████████████████████████████████████████████████████████████████████| 575/575 [21:36<00:00,  2.25s/it]\n",
      "100%|████████████████████████████████████████████████████████████████████████████████████████████████████████████████████████████████████████████████| 144/144 [03:16<00:00,  1.36s/it]\n"
     ]
    },
    {
     "name": "stdout",
     "output_type": "stream",
     "text": [
      "Abstract   Intro      Main       Method     Summary    Caption   \n",
      "112/156    266/361    1256/1584  218/399    111/190    736/757   \n",
      "Epoch: 013, Train Loss: 0.1593067, Val Loss: 0.8130129, Val Acc: 0.7829997, Val Precision: 0.7176262, Val Recall: 0.7250926, Val F1: 0.7195090 \n",
      "EarlyStopping counter: 7 out of 10\n"
     ]
    },
    {
     "name": "stderr",
     "output_type": "stream",
     "text": [
      "100%|████████████████████████████████████████████████████████████████████████████████████████████████████████████████████████████████████████████████| 575/575 [21:36<00:00,  2.25s/it]\n",
      "100%|████████████████████████████████████████████████████████████████████████████████████████████████████████████████████████████████████████████████| 144/144 [03:16<00:00,  1.36s/it]\n"
     ]
    },
    {
     "name": "stdout",
     "output_type": "stream",
     "text": [
      "Abstract   Intro      Main       Method     Summary    Caption   \n",
      "64/156     245/361    1420/1584  137/399    103/190    733/757   \n",
      "Epoch: 014, Train Loss: 0.1363145, Val Loss: 0.9146256, Val Acc: 0.7838700, Val Precision: 0.7602724, Val Recall: 0.6398585, Val F1: 0.6768074 \n",
      "EarlyStopping counter: 8 out of 10\n"
     ]
    },
    {
     "name": "stderr",
     "output_type": "stream",
     "text": [
      " 29%|██████████████████████████████████████████                                                                                                      | 168/575 [06:19<15:18,  2.26s/it]wandb: Network error (ReadTimeout), entering retry loop.\n",
      "100%|████████████████████████████████████████████████████████████████████████████████████████████████████████████████████████████████████████████████| 575/575 [21:36<00:00,  2.25s/it]\n",
      "100%|████████████████████████████████████████████████████████████████████████████████████████████████████████████████████████████████████████████████| 144/144 [03:16<00:00,  1.36s/it]\n"
     ]
    },
    {
     "name": "stdout",
     "output_type": "stream",
     "text": [
      "Abstract   Intro      Main       Method     Summary    Caption   \n",
      "91/156     203/361    1305/1584  212/399    117/190    734/757   \n",
      "Epoch: 015, Train Loss: 0.1299641, Val Loss: 0.9102478, Val Acc: 0.7722657, Val Precision: 0.7199391, Val Recall: 0.6810431, Val F1: 0.6975602 \n",
      "EarlyStopping counter: 9 out of 10\n"
     ]
    },
    {
     "name": "stderr",
     "output_type": "stream",
     "text": [
      "100%|████████████████████████████████████████████████████████████████████████████████████████████████████████████████████████████████████████████████| 575/575 [21:36<00:00,  2.25s/it]\n",
      "100%|████████████████████████████████████████████████████████████████████████████████████████████████████████████████████████████████████████████████| 144/144 [03:16<00:00,  1.36s/it]\n"
     ]
    },
    {
     "name": "stdout",
     "output_type": "stream",
     "text": [
      "Abstract   Intro      Main       Method     Summary    Caption   \n",
      "119/156    195/361    1038/1584  279/399    114/190    752/757   \n",
      "Epoch: 016, Train Loss: 0.1059266, Val Loss: 1.1893654, Val Acc: 0.7243980, Val Precision: 0.6851169, Val Recall: 0.7084888, Val F1: 0.6822235 \n",
      "EarlyStopping counter: 10 out of 10\n",
      "Early stopping\n",
      "\n"
     ]
    },
    {
     "data": {
      "text/html": [
       "Waiting for W&B process to finish... <strong style=\"color:green\">(success).</strong>"
      ],
      "text/plain": [
       "<IPython.core.display.HTML object>"
      ]
     },
     "metadata": {},
     "output_type": "display_data"
    },
    {
     "data": {
      "text/html": [
       "<style>\n",
       "    table.wandb td:nth-child(1) { padding: 0 10px; text-align: right }\n",
       "    .wandb-row { display: flex; flex-direction: row; flex-wrap: wrap; width: 100% }\n",
       "    .wandb-col { display: flex; flex-direction: column; flex-basis: 100%; flex: 1; padding: 10px; }\n",
       "    </style>\n",
       "<div class=\"wandb-row\"><div class=\"wandb-col\"><h3>Run history:</h3><br/><table class=\"wandb\"><tr><td>train_loss</td><td>█▆▅▄▄▃▃▂▂▂▂▂▁▁▁▁</td></tr><tr><td>val_acc</td><td>▁▄▅▇▇██▇███▆▇▇▆▃</td></tr><tr><td>val_f1</td><td>▁▄▄▇▇██████▇█▆▇▇</td></tr><tr><td>val_loss</td><td>▄▃▂▁▁▁▂▂▂▂▂▄▄▅▅█</td></tr><tr><td>val_precision</td><td>▁▄▅▆▇▇█▇▇▇▇▇▆▇▆▅</td></tr><tr><td>val_recall</td><td>▁▃▃▆▇▇▇▇▇▇▇▅█▅▇▇</td></tr></table><br/></div><div class=\"wandb-col\"><h3>Run summary:</h3><br/><table class=\"wandb\"><tr><td>train_loss</td><td>0.10593</td></tr><tr><td>val_acc</td><td>0.7244</td></tr><tr><td>val_f1</td><td>0.68222</td></tr><tr><td>val_loss</td><td>1.18937</td></tr><tr><td>val_precision</td><td>0.68512</td></tr><tr><td>val_recall</td><td>0.70849</td></tr></table><br/></div></div>"
      ],
      "text/plain": [
       "<IPython.core.display.HTML object>"
      ]
     },
     "metadata": {},
     "output_type": "display_data"
    },
    {
     "data": {
      "text/html": [
       "Synced <strong style=\"color:#cdcd00\">vague-cosmos-1</strong>: <a href=\"https://wandb.ai/ihateml/xlnet_classification/runs/2cppty5w\" target=\"_blank\">https://wandb.ai/ihateml/xlnet_classification/runs/2cppty5w</a><br/>Synced 7 W&B file(s), 0 media file(s), 0 artifact file(s) and 1 other file(s)"
      ],
      "text/plain": [
       "<IPython.core.display.HTML object>"
      ]
     },
     "metadata": {},
     "output_type": "display_data"
    },
    {
     "data": {
      "text/html": [
       "Find logs at: <code>./wandb/run-20220414_013615-2cppty5w/logs</code>"
      ],
      "text/plain": [
       "<IPython.core.display.HTML object>"
      ]
     },
     "metadata": {},
     "output_type": "display_data"
    },
    {
     "name": "stdout",
     "output_type": "stream",
     "text": [
      "huggingface/tokenizers: The current process just got forked, after parallelism has already been used. Disabling parallelism to avoid deadlocks...\n",
      "To disable this warning, you can either:\n",
      "\t- Avoid using `tokenizers` before the fork if possible\n",
      "\t- Explicitly set the environment variable TOKENIZERS_PARALLELISM=(true | false)\n",
      "huggingface/tokenizers: The current process just got forked, after parallelism has already been used. Disabling parallelism to avoid deadlocks...\n",
      "To disable this warning, you can either:\n",
      "\t- Avoid using `tokenizers` before the fork if possible\n",
      "\t- Explicitly set the environment variable TOKENIZERS_PARALLELISM=(true | false)\n"
     ]
    },
    {
     "data": {
      "text/html": [
       "Tracking run with wandb version 0.12.14"
      ],
      "text/plain": [
       "<IPython.core.display.HTML object>"
      ]
     },
     "metadata": {},
     "output_type": "display_data"
    },
    {
     "data": {
      "text/html": [
       "Run data is saved locally in <code>/home/rnwnsgud1234/1.text/textmining/wandb/run-20220414_081445-ecasrjj8</code>"
      ],
      "text/plain": [
       "<IPython.core.display.HTML object>"
      ]
     },
     "metadata": {},
     "output_type": "display_data"
    },
    {
     "data": {
      "text/html": [
       "Syncing run <strong><a href=\"https://wandb.ai/ihateml/xlnet_classification/runs/ecasrjj8\" target=\"_blank\">generous-snow-2</a></strong> to <a href=\"https://wandb.ai/ihateml/xlnet_classification\" target=\"_blank\">Weights & Biases</a> (<a href=\"https://wandb.me/run\" target=\"_blank\">docs</a>)<br/>"
      ],
      "text/plain": [
       "<IPython.core.display.HTML object>"
      ]
     },
     "metadata": {},
     "output_type": "display_data"
    },
    {
     "name": "stderr",
     "output_type": "stream",
     "text": [
      "100%|████████████████████████████████████████████████████████████████████████████████████████████████████████████████████████████████████████████████| 575/575 [20:02<00:00,  2.09s/it]\n",
      "100%|████████████████████████████████████████████████████████████████████████████████████████████████████████████████████████████████████████████████| 144/144 [03:15<00:00,  1.36s/it]\n"
     ]
    },
    {
     "name": "stdout",
     "output_type": "stream",
     "text": [
      "Abstract   Intro      Main       Method     Summary    Caption   \n",
      "18/156     140/361    1446/1584  3/399      4/190      696/757   \n",
      "Epoch: 001, Train Loss: 1.1011573, Val Loss: 0.9067079, Val Acc: 0.6692776, Val Precision: 0.6121545, Val Recall: 0.3940109, Val F1: 0.3826496 \n",
      "Validation loss decreased (inf --> 0.906708). \n"
     ]
    },
    {
     "name": "stderr",
     "output_type": "stream",
     "text": [
      "100%|████████████████████████████████████████████████████████████████████████████████████████████████████████████████████████████████████████████████| 575/575 [20:02<00:00,  2.09s/it]\n",
      "100%|████████████████████████████████████████████████████████████████████████████████████████████████████████████████████████████████████████████████| 144/144 [03:15<00:00,  1.36s/it]\n"
     ]
    },
    {
     "name": "stdout",
     "output_type": "stream",
     "text": [
      "Abstract   Intro      Main       Method     Summary    Caption   \n",
      "70/156     151/361    1373/1584  89/399     46/190     728/757   \n",
      "Epoch: 002, Train Loss: 0.8192538, Val Loss: 0.7862092, Val Acc: 0.7127937, Val Precision: 0.6192559, Val Recall: 0.5267745, Val F1: 0.5482354 \n",
      "Validation loss decreased (0.906708 --> 0.786209). \n"
     ]
    },
    {
     "name": "stderr",
     "output_type": "stream",
     "text": [
      "100%|████████████████████████████████████████████████████████████████████████████████████████████████████████████████████████████████████████████████| 575/575 [20:03<00:00,  2.09s/it]\n",
      "100%|████████████████████████████████████████████████████████████████████████████████████████████████████████████████████████████████████████████████| 144/144 [03:15<00:00,  1.36s/it]\n"
     ]
    },
    {
     "name": "stdout",
     "output_type": "stream",
     "text": [
      "Abstract   Intro      Main       Method     Summary    Caption   \n",
      "39/156     179/361    1454/1584  105/399    73/190     704/757   \n",
      "Epoch: 003, Train Loss: 0.7187739, Val Loss: 0.7286919, Val Acc: 0.7409341, Val Precision: 0.7105812, Val Recall: 0.5401882, Val F1: 0.5859188 \n",
      "Validation loss decreased (0.786209 --> 0.728692). \n"
     ]
    },
    {
     "name": "stderr",
     "output_type": "stream",
     "text": [
      "100%|████████████████████████████████████████████████████████████████████████████████████████████████████████████████████████████████████████████████| 575/575 [20:03<00:00,  2.09s/it]\n",
      "100%|████████████████████████████████████████████████████████████████████████████████████████████████████████████████████████████████████████████████| 144/144 [03:15<00:00,  1.36s/it]\n"
     ]
    },
    {
     "name": "stdout",
     "output_type": "stream",
     "text": [
      "Abstract   Intro      Main       Method     Summary    Caption   \n",
      "70/156     188/361    1419/1584  132/399    108/190    721/757   \n",
      "Epoch: 004, Train Loss: 0.6626422, Val Loss: 0.6549971, Val Acc: 0.7653032, Val Precision: 0.7223133, Val Recall: 0.6195031, Val F1: 0.6560000 \n",
      "Validation loss decreased (0.728692 --> 0.654997). \n"
     ]
    },
    {
     "name": "stderr",
     "output_type": "stream",
     "text": [
      " 65%|█████████████████████████████████████████████████████████████████████████████████████████████▏                                                  | 372/575 [12:59<07:05,  2.09s/it]wandb: Network error (ReadTimeout), entering retry loop.\n",
      "100%|████████████████████████████████████████████████████████████████████████████████████████████████████████████████████████████████████████████████| 575/575 [20:03<00:00,  2.09s/it]\n",
      "100%|████████████████████████████████████████████████████████████████████████████████████████████████████████████████████████████████████████████████| 144/144 [03:15<00:00,  1.36s/it]\n"
     ]
    },
    {
     "name": "stdout",
     "output_type": "stream",
     "text": [
      "Abstract   Intro      Main       Method     Summary    Caption   \n",
      "102/156    205/361    1438/1584  34/399     104/190    746/757   \n",
      "Epoch: 005, Train Loss: 0.6078179, Val Loss: 0.6646221, Val Acc: 0.7626922, Val Precision: 0.7245774, Val Recall: 0.6245986, Val F1: 0.6246194 \n",
      "EarlyStopping counter: 1 out of 10\n"
     ]
    },
    {
     "name": "stderr",
     "output_type": "stream",
     "text": [
      "100%|████████████████████████████████████████████████████████████████████████████████████████████████████████████████████████████████████████████████| 575/575 [20:03<00:00,  2.09s/it]\n",
      "100%|████████████████████████████████████████████████████████████████████████████████████████████████████████████████████████████████████████████████| 144/144 [03:15<00:00,  1.36s/it]\n"
     ]
    },
    {
     "name": "stdout",
     "output_type": "stream",
     "text": [
      "Abstract   Intro      Main       Method     Summary    Caption   \n",
      "77/156     236/361    1430/1584  88/399     96/190     744/757   \n",
      "Epoch: 006, Train Loss: 0.5805106, Val Loss: 0.6055859, Val Acc: 0.7748767, Val Precision: 0.7536796, Val Recall: 0.6264581, Val F1: 0.6583246 \n",
      "Validation loss decreased (0.654997 --> 0.605586). \n"
     ]
    },
    {
     "name": "stderr",
     "output_type": "stream",
     "text": [
      "100%|████████████████████████████████████████████████████████████████████████████████████████████████████████████████████████████████████████████████| 575/575 [20:03<00:00,  2.09s/it]\n",
      "100%|████████████████████████████████████████████████████████████████████████████████████████████████████████████████████████████████████████████████| 144/144 [03:15<00:00,  1.36s/it]\n"
     ]
    },
    {
     "name": "stdout",
     "output_type": "stream",
     "text": [
      "Abstract   Intro      Main       Method     Summary    Caption   \n",
      "75/156     241/361    1396/1584  140/399    105/190    749/757   \n",
      "Epoch: 007, Train Loss: 0.5532465, Val Loss: 0.5859718, Val Acc: 0.7850305, Val Precision: 0.7656638, Val Recall: 0.6537689, Val F1: 0.6895918 \n",
      "Validation loss decreased (0.605586 --> 0.585972). \n"
     ]
    },
    {
     "name": "stderr",
     "output_type": "stream",
     "text": [
      "100%|████████████████████████████████████████████████████████████████████████████████████████████████████████████████████████████████████████████████| 575/575 [20:03<00:00,  2.09s/it]\n",
      "100%|████████████████████████████████████████████████████████████████████████████████████████████████████████████████████████████████████████████████| 144/144 [03:15<00:00,  1.36s/it]\n"
     ]
    },
    {
     "name": "stdout",
     "output_type": "stream",
     "text": [
      "Abstract   Intro      Main       Method     Summary    Caption   \n",
      "85/156     230/361    1433/1584  123/399    88/190     745/757   \n",
      "Epoch: 008, Train Loss: 0.5266689, Val Loss: 0.6247957, Val Acc: 0.7844502, Val Precision: 0.7787975, Val Recall: 0.6403732, Val F1: 0.6812967 \n",
      "EarlyStopping counter: 1 out of 10\n"
     ]
    },
    {
     "name": "stderr",
     "output_type": "stream",
     "text": [
      "100%|████████████████████████████████████████████████████████████████████████████████████████████████████████████████████████████████████████████████| 575/575 [20:03<00:00,  2.09s/it]\n",
      "100%|████████████████████████████████████████████████████████████████████████████████████████████████████████████████████████████████████████████████| 144/144 [03:15<00:00,  1.36s/it]\n"
     ]
    },
    {
     "name": "stdout",
     "output_type": "stream",
     "text": [
      "Abstract   Intro      Main       Method     Summary    Caption   \n",
      "102/156    262/361    1318/1584  167/399    107/190    749/757   \n",
      "Epoch: 009, Train Loss: 0.5105784, Val Loss: 0.5984436, Val Acc: 0.7847404, Val Precision: 0.7379983, Val Recall: 0.6971358, Val F1: 0.7085618 \n",
      "EarlyStopping counter: 2 out of 10\n"
     ]
    },
    {
     "name": "stderr",
     "output_type": "stream",
     "text": [
      " 81%|████████████████████████████████████████████████████████████████████████████████████████████████████████████████████▍                           | 465/575 [16:14<03:50,  2.09s/it]wandb: Network error (ReadTimeout), entering retry loop.\n",
      "100%|████████████████████████████████████████████████████████████████████████████████████████████████████████████████████████████████████████████████| 575/575 [20:03<00:00,  2.09s/it]\n",
      "100%|████████████████████████████████████████████████████████████████████████████████████████████████████████████████████████████████████████████████| 144/144 [03:15<00:00,  1.36s/it]\n"
     ]
    },
    {
     "name": "stdout",
     "output_type": "stream",
     "text": [
      "Abstract   Intro      Main       Method     Summary    Caption   \n",
      "88/156     224/361    1427/1584  138/399    104/190    740/757   \n",
      "Epoch: 010, Train Loss: 0.4863723, Val Loss: 0.5863631, Val Acc: 0.7893821, Val Precision: 0.7673086, Val Recall: 0.6593768, Val F1: 0.6958043 \n",
      "EarlyStopping counter: 3 out of 10\n"
     ]
    },
    {
     "name": "stderr",
     "output_type": "stream",
     "text": [
      "100%|████████████████████████████████████████████████████████████████████████████████████████████████████████████████████████████████████████████████| 575/575 [20:03<00:00,  2.09s/it]\n",
      "100%|████████████████████████████████████████████████████████████████████████████████████████████████████████████████████████████████████████████████| 144/144 [03:15<00:00,  1.36s/it]\n"
     ]
    },
    {
     "name": "stdout",
     "output_type": "stream",
     "text": [
      "Abstract   Intro      Main       Method     Summary    Caption   \n",
      "112/156    195/361    1427/1584  98/399     131/190    735/757   \n",
      "Epoch: 011, Train Loss: 0.4690587, Val Loss: 0.6015469, Val Acc: 0.7827096, Val Precision: 0.7226707, Val Recall: 0.6775041, Val F1: 0.6792348 \n",
      "EarlyStopping counter: 4 out of 10\n"
     ]
    },
    {
     "name": "stderr",
     "output_type": "stream",
     "text": [
      "100%|████████████████████████████████████████████████████████████████████████████████████████████████████████████████████████████████████████████████| 575/575 [20:03<00:00,  2.09s/it]\n",
      "100%|████████████████████████████████████████████████████████████████████████████████████████████████████████████████████████████████████████████████| 144/144 [03:15<00:00,  1.36s/it]\n"
     ]
    },
    {
     "name": "stdout",
     "output_type": "stream",
     "text": [
      "Abstract   Intro      Main       Method     Summary    Caption   \n",
      "92/156     264/361    1368/1584  163/399    104/190    747/757   \n",
      "Epoch: 012, Train Loss: 0.4445561, Val Loss: 0.5794511, Val Acc: 0.7943139, Val Precision: 0.7783711, Val Recall: 0.6878936, Val F1: 0.7182823 \n",
      "Validation loss decreased (0.585972 --> 0.579451). \n"
     ]
    },
    {
     "name": "stderr",
     "output_type": "stream",
     "text": [
      "100%|████████████████████████████████████████████████████████████████████████████████████████████████████████████████████████████████████████████████| 575/575 [20:03<00:00,  2.09s/it]\n",
      "100%|████████████████████████████████████████████████████████████████████████████████████████████████████████████████████████████████████████████████| 144/144 [03:15<00:00,  1.36s/it]\n"
     ]
    },
    {
     "name": "stdout",
     "output_type": "stream",
     "text": [
      "Abstract   Intro      Main       Method     Summary    Caption   \n",
      "122/156    236/361    1407/1584  117/399    115/190    751/757   \n",
      "Epoch: 013, Train Loss: 0.4226426, Val Loss: 0.5879272, Val Acc: 0.7972150, Val Precision: 0.7538783, Val Recall: 0.7024364, Val F1: 0.7131142 \n",
      "EarlyStopping counter: 1 out of 10\n"
     ]
    },
    {
     "name": "stderr",
     "output_type": "stream",
     "text": [
      "100%|████████████████████████████████████████████████████████████████████████████████████████████████████████████████████████████████████████████████| 575/575 [20:03<00:00,  2.09s/it]\n",
      "100%|████████████████████████████████████████████████████████████████████████████████████████████████████████████████████████████████████████████████| 144/144 [03:15<00:00,  1.36s/it]\n"
     ]
    },
    {
     "name": "stdout",
     "output_type": "stream",
     "text": [
      "Abstract   Intro      Main       Method     Summary    Caption   \n",
      "100/156    244/361    1467/1584  69/399     108/190    748/757   \n",
      "Epoch: 014, Train Loss: 0.3967204, Val Loss: 0.6168773, Val Acc: 0.7937337, Val Precision: 0.7997035, Val Recall: 0.6620878, Val F1: 0.6889937 \n",
      "EarlyStopping counter: 2 out of 10\n"
     ]
    },
    {
     "name": "stderr",
     "output_type": "stream",
     "text": [
      " 57%|██████████████████████████████████████████████████████████████████████████████████▍                                                             | 329/575 [11:28<08:34,  2.09s/it]wandb: Network error (ReadTimeout), entering retry loop.\n",
      "100%|████████████████████████████████████████████████████████████████████████████████████████████████████████████████████████████████████████████████| 575/575 [20:02<00:00,  2.09s/it]\n",
      "100%|████████████████████████████████████████████████████████████████████████████████████████████████████████████████████████████████████████████████| 144/144 [03:15<00:00,  1.36s/it]\n"
     ]
    },
    {
     "name": "stdout",
     "output_type": "stream",
     "text": [
      "Abstract   Intro      Main       Method     Summary    Caption   \n",
      "104/156    226/361    1423/1584  112/399    122/190    751/757   \n",
      "Epoch: 015, Train Loss: 0.3759677, Val Loss: 0.6083789, Val Acc: 0.7943139, Val Precision: 0.7510860, Val Recall: 0.6843242, Val F1: 0.7004185 \n",
      "EarlyStopping counter: 3 out of 10\n"
     ]
    },
    {
     "name": "stderr",
     "output_type": "stream",
     "text": [
      "100%|████████████████████████████████████████████████████████████████████████████████████████████████████████████████████████████████████████████████| 575/575 [20:02<00:00,  2.09s/it]\n",
      "100%|████████████████████████████████████████████████████████████████████████████████████████████████████████████████████████████████████████████████| 144/144 [03:15<00:00,  1.36s/it]\n"
     ]
    },
    {
     "name": "stdout",
     "output_type": "stream",
     "text": [
      "Abstract   Intro      Main       Method     Summary    Caption   \n",
      "100/156    218/361    1330/1584  194/399    130/190    749/757   \n",
      "Epoch: 016, Train Loss: 0.3518770, Val Loss: 0.6214097, Val Acc: 0.7893821, Val Precision: 0.7260632, Val Recall: 0.7074014, Val F1: 0.7142469 \n",
      "EarlyStopping counter: 4 out of 10\n"
     ]
    },
    {
     "name": "stderr",
     "output_type": "stream",
     "text": [
      "100%|████████████████████████████████████████████████████████████████████████████████████████████████████████████████████████████████████████████████| 575/575 [20:03<00:00,  2.09s/it]\n",
      "100%|████████████████████████████████████████████████████████████████████████████████████████████████████████████████████████████████████████████████| 144/144 [03:15<00:00,  1.36s/it]\n"
     ]
    },
    {
     "name": "stdout",
     "output_type": "stream",
     "text": [
      "Abstract   Intro      Main       Method     Summary    Caption   \n",
      "109/156    231/361    1449/1584  108/399    106/190    753/757   \n",
      "Epoch: 017, Train Loss: 0.3278743, Val Loss: 0.6575362, Val Acc: 0.7995358, Val Precision: 0.7822774, Val Recall: 0.6794445, Val F1: 0.7068018 \n",
      "EarlyStopping counter: 5 out of 10\n"
     ]
    },
    {
     "name": "stderr",
     "output_type": "stream",
     "text": [
      "100%|████████████████████████████████████████████████████████████████████████████████████████████████████████████████████████████████████████████████| 575/575 [20:03<00:00,  2.09s/it]\n",
      "100%|████████████████████████████████████████████████████████████████████████████████████████████████████████████████████████████████████████████████| 144/144 [03:15<00:00,  1.36s/it]\n"
     ]
    },
    {
     "name": "stdout",
     "output_type": "stream",
     "text": [
      "Abstract   Intro      Main       Method     Summary    Caption   \n",
      "105/156    241/361    1401/1584  152/399    113/190    753/757   \n",
      "Epoch: 018, Train Loss: 0.3066299, Val Loss: 0.6298807, Val Acc: 0.8021468, Val Precision: 0.7624887, Val Recall: 0.6992570, Val F1: 0.7224352 \n",
      "EarlyStopping counter: 6 out of 10\n"
     ]
    },
    {
     "name": "stderr",
     "output_type": "stream",
     "text": [
      "100%|████████████████████████████████████████████████████████████████████████████████████████████████████████████████████████████████████████████████| 575/575 [20:03<00:00,  2.09s/it]\n",
      "100%|████████████████████████████████████████████████████████████████████████████████████████████████████████████████████████████████████████████████| 144/144 [03:15<00:00,  1.36s/it]\n"
     ]
    },
    {
     "name": "stdout",
     "output_type": "stream",
     "text": [
      "Abstract   Intro      Main       Method     Summary    Caption   \n",
      "106/156    224/361    1360/1584  170/399    136/190    748/757   \n",
      "Epoch: 019, Train Loss: 0.2763631, Val Loss: 0.6683214, Val Acc: 0.7960545, Val Precision: 0.7255760, Val Recall: 0.7147562, Val F1: 0.7149817 \n",
      "EarlyStopping counter: 7 out of 10\n"
     ]
    },
    {
     "name": "stderr",
     "output_type": "stream",
     "text": [
      "100%|████████████████████████████████████████████████████████████████████████████████████████████████████████████████████████████████████████████████| 575/575 [20:03<00:00,  2.09s/it]\n",
      "100%|████████████████████████████████████████████████████████████████████████████████████████████████████████████████████████████████████████████████| 144/144 [03:15<00:00,  1.36s/it]\n"
     ]
    },
    {
     "name": "stdout",
     "output_type": "stream",
     "text": [
      "Abstract   Intro      Main       Method     Summary    Caption   \n",
      "111/156    241/361    1334/1584  186/399    120/190    750/757   \n",
      "Epoch: 020, Train Loss: 0.2496167, Val Loss: 0.6615198, Val Acc: 0.7954743, Val Precision: 0.7340441, Val Recall: 0.7182996, Val F1: 0.7253761 \n",
      "EarlyStopping counter: 8 out of 10\n"
     ]
    },
    {
     "name": "stderr",
     "output_type": "stream",
     "text": [
      "100%|████████████████████████████████████████████████████████████████████████████████████████████████████████████████████████████████████████████████| 575/575 [20:03<00:00,  2.09s/it]\n",
      "100%|████████████████████████████████████████████████████████████████████████████████████████████████████████████████████████████████████████████████| 144/144 [03:15<00:00,  1.36s/it]\n"
     ]
    },
    {
     "name": "stdout",
     "output_type": "stream",
     "text": [
      "Abstract   Intro      Main       Method     Summary    Caption   \n",
      "109/156    280/361    1286/1584  183/399    114/190    753/757   \n",
      "Epoch: 021, Train Loss: 0.2229552, Val Loss: 0.7427761, Val Acc: 0.7905425, Val Precision: 0.7378908, Val Recall: 0.7232621, Val F1: 0.7262821 \n",
      "EarlyStopping counter: 9 out of 10\n"
     ]
    },
    {
     "name": "stderr",
     "output_type": "stream",
     "text": [
      "100%|████████████████████████████████████████████████████████████████████████████████████████████████████████████████████████████████████████████████| 575/575 [20:02<00:00,  2.09s/it]\n",
      "100%|████████████████████████████████████████████████████████████████████████████████████████████████████████████████████████████████████████████████| 144/144 [03:15<00:00,  1.36s/it]\n"
     ]
    },
    {
     "name": "stdout",
     "output_type": "stream",
     "text": [
      "Abstract   Intro      Main       Method     Summary    Caption   \n",
      "106/156    231/361    1332/1584  188/399    121/190    751/757   \n",
      "Epoch: 022, Train Loss: 0.2077637, Val Loss: 0.7035083, Val Acc: 0.7917029, Val Precision: 0.7326038, Val Recall: 0.7100632, Val F1: 0.7203237 \n",
      "EarlyStopping counter: 10 out of 10\n",
      "Early stopping\n",
      "\n"
     ]
    },
    {
     "data": {
      "text/html": [
       "Waiting for W&B process to finish... <strong style=\"color:green\">(success).</strong>"
      ],
      "text/plain": [
       "<IPython.core.display.HTML object>"
      ]
     },
     "metadata": {},
     "output_type": "display_data"
    },
    {
     "data": {
      "text/html": [
       "<style>\n",
       "    table.wandb td:nth-child(1) { padding: 0 10px; text-align: right }\n",
       "    .wandb-row { display: flex; flex-direction: row; flex-wrap: wrap; width: 100% }\n",
       "    .wandb-col { display: flex; flex-direction: column; flex-basis: 100%; flex: 1; padding: 10px; }\n",
       "    </style>\n",
       "<div class=\"wandb-row\"><div class=\"wandb-col\"><h3>Run history:</h3><br/><table class=\"wandb\"><tr><td>train_loss</td><td>█▆▅▅▄▄▄▃▃▃▃▃▃▂▂▂▂▂▂▁▁▁</td></tr><tr><td>val_acc</td><td>▁▃▅▆▆▇▇▇▇▇▇████▇████▇▇</td></tr><tr><td>val_f1</td><td>▁▄▅▇▆▇▇▇█▇▇██▇▇███████</td></tr><tr><td>val_loss</td><td>█▅▄▃▃▂▁▂▁▁▁▁▁▂▂▂▃▂▃▃▄▄</td></tr><tr><td>val_precision</td><td>▁▁▅▅▅▆▇▇▆▇▅▇▆█▆▅▇▇▅▆▆▅</td></tr><tr><td>val_recall</td><td>▁▄▄▆▆▆▇▆▇▇▇▇█▇▇█▇▇████</td></tr></table><br/></div><div class=\"wandb-col\"><h3>Run summary:</h3><br/><table class=\"wandb\"><tr><td>train_loss</td><td>0.20776</td></tr><tr><td>val_acc</td><td>0.7917</td></tr><tr><td>val_f1</td><td>0.72032</td></tr><tr><td>val_loss</td><td>0.70351</td></tr><tr><td>val_precision</td><td>0.7326</td></tr><tr><td>val_recall</td><td>0.71006</td></tr></table><br/></div></div>"
      ],
      "text/plain": [
       "<IPython.core.display.HTML object>"
      ]
     },
     "metadata": {},
     "output_type": "display_data"
    },
    {
     "data": {
      "text/html": [
       "Synced <strong style=\"color:#cdcd00\">generous-snow-2</strong>: <a href=\"https://wandb.ai/ihateml/xlnet_classification/runs/ecasrjj8\" target=\"_blank\">https://wandb.ai/ihateml/xlnet_classification/runs/ecasrjj8</a><br/>Synced 7 W&B file(s), 0 media file(s), 0 artifact file(s) and 1 other file(s)"
      ],
      "text/plain": [
       "<IPython.core.display.HTML object>"
      ]
     },
     "metadata": {},
     "output_type": "display_data"
    },
    {
     "data": {
      "text/html": [
       "Find logs at: <code>./wandb/run-20220414_081445-ecasrjj8/logs</code>"
      ],
      "text/plain": [
       "<IPython.core.display.HTML object>"
      ]
     },
     "metadata": {},
     "output_type": "display_data"
    },
    {
     "name": "stdout",
     "output_type": "stream",
     "text": [
      "huggingface/tokenizers: The current process just got forked, after parallelism has already been used. Disabling parallelism to avoid deadlocks...\n",
      "To disable this warning, you can either:\n",
      "\t- Avoid using `tokenizers` before the fork if possible\n",
      "\t- Explicitly set the environment variable TOKENIZERS_PARALLELISM=(true | false)\n",
      "huggingface/tokenizers: The current process just got forked, after parallelism has already been used. Disabling parallelism to avoid deadlocks...\n",
      "To disable this warning, you can either:\n",
      "\t- Avoid using `tokenizers` before the fork if possible\n",
      "\t- Explicitly set the environment variable TOKENIZERS_PARALLELISM=(true | false)\n"
     ]
    },
    {
     "data": {
      "text/html": [
       "Tracking run with wandb version 0.12.14"
      ],
      "text/plain": [
       "<IPython.core.display.HTML object>"
      ]
     },
     "metadata": {},
     "output_type": "display_data"
    },
    {
     "data": {
      "text/html": [
       "Run data is saved locally in <code>/home/rnwnsgud1234/1.text/textmining/wandb/run-20220414_164807-2b2up8od</code>"
      ],
      "text/plain": [
       "<IPython.core.display.HTML object>"
      ]
     },
     "metadata": {},
     "output_type": "display_data"
    },
    {
     "data": {
      "text/html": [
       "Syncing run <strong><a href=\"https://wandb.ai/ihateml/xlnet_classification/runs/2b2up8od\" target=\"_blank\">eager-dream-3</a></strong> to <a href=\"https://wandb.ai/ihateml/xlnet_classification\" target=\"_blank\">Weights & Biases</a> (<a href=\"https://wandb.me/run\" target=\"_blank\">docs</a>)<br/>"
      ],
      "text/plain": [
       "<IPython.core.display.HTML object>"
      ]
     },
     "metadata": {},
     "output_type": "display_data"
    },
    {
     "name": "stderr",
     "output_type": "stream",
     "text": [
      "100%|████████████████████████████████████████████████████████████████████████████████████████████████████████████████████████████████████████████████| 575/575 [18:46<00:00,  1.96s/it]\n",
      "100%|████████████████████████████████████████████████████████████████████████████████████████████████████████████████████████████████████████████████| 144/144 [03:16<00:00,  1.36s/it]\n"
     ]
    },
    {
     "name": "stdout",
     "output_type": "stream",
     "text": [
      "Abstract   Intro      Main       Method     Summary    Caption   \n",
      "14/156     158/361    1378/1584  0/399      0/190      703/757   \n",
      "Epoch: 001, Train Loss: 1.1245772, Val Loss: 0.9637972, Val Acc: 0.6536118, Val Precision: 0.3840133, Val Recall: 0.3876720, Val F1: 0.3637390 \n",
      "Validation loss decreased (inf --> 0.963797). \n"
     ]
    },
    {
     "name": "stderr",
     "output_type": "stream",
     "text": [
      "100%|████████████████████████████████████████████████████████████████████████████████████████████████████████████████████████████████████████████████| 575/575 [18:45<00:00,  1.96s/it]\n",
      "100%|████████████████████████████████████████████████████████████████████████████████████████████████████████████████████████████████████████████████| 144/144 [03:16<00:00,  1.36s/it]\n"
     ]
    },
    {
     "name": "stdout",
     "output_type": "stream",
     "text": [
      "Abstract   Intro      Main       Method     Summary    Caption   \n",
      "40/156     172/361    1380/1584  84/399     47/190     724/757   \n",
      "Epoch: 002, Train Loss: 0.8508509, Val Loss: 0.8076307, Val Acc: 0.7098927, Val Precision: 0.6185834, Val Recall: 0.5030630, Val F1: 0.5304500 \n",
      "Validation loss decreased (0.963797 --> 0.807631). \n"
     ]
    },
    {
     "name": "stderr",
     "output_type": "stream",
     "text": [
      "100%|████████████████████████████████████████████████████████████████████████████████████████████████████████████████████████████████████████████████| 575/575 [18:45<00:00,  1.96s/it]\n",
      "100%|████████████████████████████████████████████████████████████████████████████████████████████████████████████████████████████████████████████████| 144/144 [03:16<00:00,  1.36s/it]\n"
     ]
    },
    {
     "name": "stdout",
     "output_type": "stream",
     "text": [
      "Abstract   Intro      Main       Method     Summary    Caption   \n",
      "44/156     176/361    1420/1584  126/399    73/190     709/757   \n",
      "Epoch: 003, Train Loss: 0.7574890, Val Loss: 0.7512323, Val Acc: 0.7391935, Val Precision: 0.6954557, Val Recall: 0.5504404, Val F1: 0.5946923 \n",
      "Validation loss decreased (0.807631 --> 0.751232). \n"
     ]
    },
    {
     "name": "stderr",
     "output_type": "stream",
     "text": [
      " 15%|██████████████████████▏                                                                                                                          | 88/575 [02:52<15:54,  1.96s/it]wandb: Network error (ReadTimeout), entering retry loop.\n",
      "100%|████████████████████████████████████████████████████████████████████████████████████████████████████████████████████████████████████████████████| 575/575 [18:45<00:00,  1.96s/it]\n",
      "100%|████████████████████████████████████████████████████████████████████████████████████████████████████████████████████████████████████████████████| 144/144 [03:16<00:00,  1.36s/it]\n"
     ]
    },
    {
     "name": "stdout",
     "output_type": "stream",
     "text": [
      "Abstract   Intro      Main       Method     Summary    Caption   \n",
      "50/156     167/361    1440/1584  135/399    96/190     723/757   \n",
      "Epoch: 004, Train Loss: 0.6861664, Val Loss: 0.6892223, Val Acc: 0.7574703, Val Precision: 0.7259094, Val Recall: 0.5818171, Val F1: 0.6286414 \n",
      "Validation loss decreased (0.751232 --> 0.689222). \n"
     ]
    },
    {
     "name": "stderr",
     "output_type": "stream",
     "text": [
      "100%|████████████████████████████████████████████████████████████████████████████████████████████████████████████████████████████████████████████████| 575/575 [18:46<00:00,  1.96s/it]\n",
      "100%|████████████████████████████████████████████████████████████████████████████████████████████████████████████████████████████████████████████████| 144/144 [03:16<00:00,  1.36s/it]\n"
     ]
    },
    {
     "name": "stdout",
     "output_type": "stream",
     "text": [
      "Abstract   Intro      Main       Method     Summary    Caption   \n",
      "90/156     198/361    1483/1584  36/399     98/190     711/757   \n",
      "Epoch: 005, Train Loss: 0.6273917, Val Loss: 0.6774946, Val Acc: 0.7589208, Val Precision: 0.7344980, Val Recall: 0.6011476, Val F1: 0.6240635 \n",
      "Validation loss decreased (0.689222 --> 0.677495). \n"
     ]
    },
    {
     "name": "stderr",
     "output_type": "stream",
     "text": [
      "100%|████████████████████████████████████████████████████████████████████████████████████████████████████████████████████████████████████████████████| 575/575 [18:46<00:00,  1.96s/it]\n",
      "100%|████████████████████████████████████████████████████████████████████████████████████████████████████████████████████████████████████████████████| 144/144 [03:16<00:00,  1.36s/it]\n"
     ]
    },
    {
     "name": "stdout",
     "output_type": "stream",
     "text": [
      "Abstract   Intro      Main       Method     Summary    Caption   \n",
      "73/156     240/361    1423/1584  110/399    101/190    736/757   \n",
      "Epoch: 006, Train Loss: 0.6002232, Val Loss: 0.6079716, Val Acc: 0.7783580, Val Precision: 0.7543274, Val Recall: 0.6351091, Val F1: 0.6690958 \n",
      "Validation loss decreased (0.677495 --> 0.607972). \n"
     ]
    },
    {
     "name": "stderr",
     "output_type": "stream",
     "text": [
      "100%|████████████████████████████████████████████████████████████████████████████████████████████████████████████████████████████████████████████████| 575/575 [18:45<00:00,  1.96s/it]\n",
      "100%|████████████████████████████████████████████████████████████████████████████████████████████████████████████████████████████████████████████████| 144/144 [03:16<00:00,  1.36s/it]\n"
     ]
    },
    {
     "name": "stdout",
     "output_type": "stream",
     "text": [
      "Abstract   Intro      Main       Method     Summary    Caption   \n",
      "82/156     232/361    1420/1584  122/399    97/190     743/757   \n",
      "Epoch: 007, Train Loss: 0.5711936, Val Loss: 0.6030635, Val Acc: 0.7821294, Val Precision: 0.7658232, Val Recall: 0.6437603, Val F1: 0.6827430 \n",
      "Validation loss decreased (0.607972 --> 0.603064). \n"
     ]
    },
    {
     "name": "stderr",
     "output_type": "stream",
     "text": [
      "100%|████████████████████████████████████████████████████████████████████████████████████████████████████████████████████████████████████████████████| 575/575 [18:46<00:00,  1.96s/it]\n",
      "100%|████████████████████████████████████████████████████████████████████████████████████████████████████████████████████████████████████████████████| 144/144 [03:16<00:00,  1.36s/it]\n"
     ]
    },
    {
     "name": "stdout",
     "output_type": "stream",
     "text": [
      "Abstract   Intro      Main       Method     Summary    Caption   \n",
      "58/156     211/361    1457/1584  131/399    92/190     746/757   \n",
      "Epoch: 008, Train Loss: 0.5403542, Val Loss: 0.6549690, Val Acc: 0.7818393, Val Precision: 0.8011957, Val Recall: 0.6123510, Val F1: 0.6676264 \n",
      "EarlyStopping counter: 1 out of 10\n"
     ]
    },
    {
     "name": "stderr",
     "output_type": "stream",
     "text": [
      "100%|████████████████████████████████████████████████████████████████████████████████████████████████████████████████████████████████████████████████| 575/575 [18:46<00:00,  1.96s/it]\n",
      "100%|████████████████████████████████████████████████████████████████████████████████████████████████████████████████████████████████████████████████| 144/144 [03:16<00:00,  1.36s/it]\n"
     ]
    },
    {
     "name": "stdout",
     "output_type": "stream",
     "text": [
      "Abstract   Intro      Main       Method     Summary    Caption   \n",
      "81/156     259/361    1371/1584  151/399    105/190    748/757   \n",
      "Epoch: 009, Train Loss: 0.5198408, Val Loss: 0.5960287, Val Acc: 0.7876414, Val Precision: 0.7625675, Val Recall: 0.6702335, Val F1: 0.7012923 \n",
      "Validation loss decreased (0.603064 --> 0.596029). \n"
     ]
    },
    {
     "name": "stderr",
     "output_type": "stream",
     "text": [
      "100%|████████████████████████████████████████████████████████████████████████████████████████████████████████████████████████████████████████████████| 575/575 [18:47<00:00,  1.96s/it]\n",
      "100%|████████████████████████████████████████████████████████████████████████████████████████████████████████████████████████████████████████████████| 144/144 [03:16<00:00,  1.37s/it]\n"
     ]
    },
    {
     "name": "stdout",
     "output_type": "stream",
     "text": [
      "Abstract   Intro      Main       Method     Summary    Caption   \n",
      "81/156     225/361    1434/1584  129/399    113/190    746/757   \n",
      "Epoch: 010, Train Loss: 0.4981264, Val Loss: 0.5886266, Val Acc: 0.7914128, Val Precision: 0.7710818, Val Recall: 0.6585528, Val F1: 0.6980397 \n",
      "Validation loss decreased (0.596029 --> 0.588627). \n"
     ]
    },
    {
     "name": "stderr",
     "output_type": "stream",
     "text": [
      "100%|████████████████████████████████████████████████████████████████████████████████████████████████████████████████████████████████████████████████| 575/575 [18:46<00:00,  1.96s/it]\n",
      "100%|████████████████████████████████████████████████████████████████████████████████████████████████████████████████████████████████████████████████| 144/144 [03:16<00:00,  1.37s/it]\n"
     ]
    },
    {
     "name": "stdout",
     "output_type": "stream",
     "text": [
      "Abstract   Intro      Main       Method     Summary    Caption   \n",
      "113/156    183/361    1462/1584  100/399    123/190    744/757   \n",
      "Epoch: 011, Train Loss: 0.4725823, Val Loss: 0.5979374, Val Acc: 0.7905425, Val Precision: 0.7548766, Val Recall: 0.6725143, Val F1: 0.6902069 \n",
      "EarlyStopping counter: 1 out of 10\n"
     ]
    },
    {
     "name": "stderr",
     "output_type": "stream",
     "text": [
      "100%|████████████████████████████████████████████████████████████████████████████████████████████████████████████████████████████████████████████████| 575/575 [18:46<00:00,  1.96s/it]\n",
      "100%|████████████████████████████████████████████████████████████████████████████████████████████████████████████████████████████████████████████████| 144/144 [03:16<00:00,  1.36s/it]\n"
     ]
    },
    {
     "name": "stdout",
     "output_type": "stream",
     "text": [
      "Abstract   Intro      Main       Method     Summary    Caption   \n",
      "97/156     239/361    1419/1584  127/399    110/190    751/757   \n",
      "Epoch: 012, Train Loss: 0.4531684, Val Loss: 0.5839875, Val Acc: 0.7957644, Val Precision: 0.7668035, Val Recall: 0.6781659, Val F1: 0.7072508 \n",
      "Validation loss decreased (0.588627 --> 0.583987). \n"
     ]
    },
    {
     "name": "stderr",
     "output_type": "stream",
     "text": [
      "100%|████████████████████████████████████████████████████████████████████████████████████████████████████████████████████████████████████████████████| 575/575 [18:46<00:00,  1.96s/it]\n",
      "100%|████████████████████████████████████████████████████████████████████████████████████████████████████████████████████████████████████████████████| 144/144 [03:16<00:00,  1.36s/it]\n"
     ]
    },
    {
     "name": "stdout",
     "output_type": "stream",
     "text": [
      "Abstract   Intro      Main       Method     Summary    Caption   \n",
      "119/156    226/361    1413/1584  118/399    124/190    745/757   \n",
      "Epoch: 013, Train Loss: 0.4317359, Val Loss: 0.5882127, Val Acc: 0.7963446, Val Precision: 0.7542883, Val Recall: 0.7022373, Val F1: 0.7134995 \n",
      "EarlyStopping counter: 1 out of 10\n"
     ]
    },
    {
     "name": "stderr",
     "output_type": "stream",
     "text": [
      "100%|████████████████████████████████████████████████████████████████████████████████████████████████████████████████████████████████████████████████| 575/575 [18:41<00:00,  1.95s/it]\n",
      "100%|████████████████████████████████████████████████████████████████████████████████████████████████████████████████████████████████████████████████| 144/144 [03:15<00:00,  1.36s/it]\n"
     ]
    },
    {
     "name": "stdout",
     "output_type": "stream",
     "text": [
      "Abstract   Intro      Main       Method     Summary    Caption   \n",
      "63/156     230/361    1483/1584  84/399     107/190    752/757   \n",
      "Epoch: 014, Train Loss: 0.4090681, Val Loss: 0.6764594, Val Acc: 0.7888019, Val Precision: 0.8173024, Val Recall: 0.6240470, Val F1: 0.6703045 \n",
      "EarlyStopping counter: 2 out of 10\n"
     ]
    },
    {
     "name": "stderr",
     "output_type": "stream",
     "text": [
      "100%|████████████████████████████████████████████████████████████████████████████████████████████████████████████████████████████████████████████████| 575/575 [18:42<00:00,  1.95s/it]\n",
      "100%|████████████████████████████████████████████████████████████████████████████████████████████████████████████████████████████████████████████████| 144/144 [03:16<00:00,  1.36s/it]\n"
     ]
    },
    {
     "name": "stdout",
     "output_type": "stream",
     "text": [
      "Abstract   Intro      Main       Method     Summary    Caption   \n",
      "93/156     243/361    1395/1584  126/399    133/190    752/757   \n",
      "Epoch: 015, Train Loss: 0.3867040, Val Loss: 0.6245878, Val Acc: 0.7954743, Val Precision: 0.7421791, Val Recall: 0.6931917, Val F1: 0.7026535 \n",
      "EarlyStopping counter: 3 out of 10\n"
     ]
    },
    {
     "name": "stderr",
     "output_type": "stream",
     "text": [
      "100%|████████████████████████████████████████████████████████████████████████████████████████████████████████████████████████████████████████████████| 575/575 [18:45<00:00,  1.96s/it]\n",
      "100%|████████████████████████████████████████████████████████████████████████████████████████████████████████████████████████████████████████████████| 144/144 [03:16<00:00,  1.36s/it]\n"
     ]
    },
    {
     "name": "stdout",
     "output_type": "stream",
     "text": [
      "Abstract   Intro      Main       Method     Summary    Caption   \n",
      "86/156     201/361    1334/1584  180/399    136/190    749/757   \n",
      "Epoch: 016, Train Loss: 0.3583561, Val Loss: 0.6674642, Val Acc: 0.7792283, Val Precision: 0.7207653, Val Recall: 0.6844316, Val F1: 0.6940802 \n",
      "EarlyStopping counter: 4 out of 10\n"
     ]
    },
    {
     "name": "stderr",
     "output_type": "stream",
     "text": [
      "100%|████████████████████████████████████████████████████████████████████████████████████████████████████████████████████████████████████████████████| 575/575 [18:46<00:00,  1.96s/it]\n",
      "100%|████████████████████████████████████████████████████████████████████████████████████████████████████████████████████████████████████████████████| 144/144 [03:16<00:00,  1.36s/it]\n"
     ]
    },
    {
     "name": "stdout",
     "output_type": "stream",
     "text": [
      "Abstract   Intro      Main       Method     Summary    Caption   \n",
      "110/156    209/361    1444/1584  135/399    116/190    749/757   \n",
      "Epoch: 017, Train Loss: 0.3306816, Val Loss: 0.6653948, Val Acc: 0.8015666, Val Precision: 0.7717939, Val Recall: 0.6889993, Val F1: 0.7167346 \n",
      "EarlyStopping counter: 5 out of 10\n"
     ]
    },
    {
     "name": "stderr",
     "output_type": "stream",
     "text": [
      "100%|████████████████████████████████████████████████████████████████████████████████████████████████████████████████████████████████████████████████| 575/575 [18:45<00:00,  1.96s/it]\n",
      "100%|████████████████████████████████████████████████████████████████████████████████████████████████████████████████████████████████████████████████| 144/144 [03:16<00:00,  1.37s/it]\n"
     ]
    },
    {
     "name": "stdout",
     "output_type": "stream",
     "text": [
      "Abstract   Intro      Main       Method     Summary    Caption   \n",
      "106/156    272/361    1349/1584  169/399    114/190    753/757   \n",
      "Epoch: 018, Train Loss: 0.3086631, Val Loss: 0.6920657, Val Acc: 0.8015666, Val Precision: 0.7624556, Val Recall: 0.7171443, Val F1: 0.7323727 \n",
      "EarlyStopping counter: 6 out of 10\n"
     ]
    },
    {
     "name": "stderr",
     "output_type": "stream",
     "text": [
      " 51%|████████████████████████████████████████████████████████████████████████▉                                                                       | 291/575 [09:30<09:16,  1.96s/it]wandb: Network error (ReadTimeout), entering retry loop.\n",
      "100%|████████████████████████████████████████████████████████████████████████████████████████████████████████████████████████████████████████████████| 575/575 [18:45<00:00,  1.96s/it]\n",
      "100%|████████████████████████████████████████████████████████████████████████████████████████████████████████████████████████████████████████████████| 144/144 [03:16<00:00,  1.36s/it]\n"
     ]
    },
    {
     "name": "stdout",
     "output_type": "stream",
     "text": [
      "Abstract   Intro      Main       Method     Summary    Caption   \n",
      "90/156     234/361    1348/1584  181/399    132/190    750/757   \n",
      "Epoch: 019, Train Loss: 0.2860705, Val Loss: 0.6883363, Val Acc: 0.7934436, Val Precision: 0.7327971, Val Recall: 0.7025428, Val F1: 0.7136227 \n",
      "EarlyStopping counter: 7 out of 10\n"
     ]
    },
    {
     "name": "stderr",
     "output_type": "stream",
     "text": [
      "100%|████████████████████████████████████████████████████████████████████████████████████████████████████████████████████████████████████████████████| 575/575 [18:45<00:00,  1.96s/it]\n",
      "100%|████████████████████████████████████████████████████████████████████████████████████████████████████████████████████████████████████████████████| 144/144 [03:16<00:00,  1.36s/it]\n"
     ]
    },
    {
     "name": "stdout",
     "output_type": "stream",
     "text": [
      "Abstract   Intro      Main       Method     Summary    Caption   \n",
      "108/156    254/361    1310/1584  193/399    129/190    752/757   \n",
      "Epoch: 020, Train Loss: 0.2568664, Val Loss: 0.7177992, Val Acc: 0.7966348, Val Precision: 0.7398104, Val Recall: 0.7298301, Val F1: 0.7340105 \n",
      "EarlyStopping counter: 8 out of 10\n"
     ]
    },
    {
     "name": "stderr",
     "output_type": "stream",
     "text": [
      "100%|████████████████████████████████████████████████████████████████████████████████████████████████████████████████████████████████████████████████| 575/575 [18:45<00:00,  1.96s/it]\n",
      "100%|████████████████████████████████████████████████████████████████████████████████████████████████████████████████████████████████████████████████| 144/144 [03:16<00:00,  1.36s/it]\n"
     ]
    },
    {
     "name": "stdout",
     "output_type": "stream",
     "text": [
      "Abstract   Intro      Main       Method     Summary    Caption   \n",
      "107/156    237/361    1338/1584  186/399    125/190    753/757   \n",
      "Epoch: 021, Train Loss: 0.2309361, Val Loss: 0.7468297, Val Acc: 0.7966348, Val Precision: 0.7412756, Val Recall: 0.7176467, Val F1: 0.7280186 \n",
      "EarlyStopping counter: 9 out of 10\n"
     ]
    },
    {
     "name": "stderr",
     "output_type": "stream",
     "text": [
      "100%|████████████████████████████████████████████████████████████████████████████████████████████████████████████████████████████████████████████████| 575/575 [18:45<00:00,  1.96s/it]\n",
      "100%|████████████████████████████████████████████████████████████████████████████████████████████████████████████████████████████████████████████████| 144/144 [03:16<00:00,  1.37s/it]\n"
     ]
    },
    {
     "name": "stdout",
     "output_type": "stream",
     "text": [
      "Abstract   Intro      Main       Method     Summary    Caption   \n",
      "100/156    253/361    1227/1584  220/399    125/190    754/757   \n",
      "Epoch: 022, Train Loss: 0.2077637, Val Loss: 0.7907768, Val Acc: 0.7771976, Val Precision: 0.7273492, Val Recall: 0.7202980, Val F1: 0.7220976 \n",
      "EarlyStopping counter: 10 out of 10\n",
      "Early stopping\n",
      "\n"
     ]
    },
    {
     "data": {
      "text/html": [
       "Waiting for W&B process to finish... <strong style=\"color:green\">(success).</strong>"
      ],
      "text/plain": [
       "<IPython.core.display.HTML object>"
      ]
     },
     "metadata": {},
     "output_type": "display_data"
    },
    {
     "data": {
      "text/html": [
       "<style>\n",
       "    table.wandb td:nth-child(1) { padding: 0 10px; text-align: right }\n",
       "    .wandb-row { display: flex; flex-direction: row; flex-wrap: wrap; width: 100% }\n",
       "    .wandb-col { display: flex; flex-direction: column; flex-basis: 100%; flex: 1; padding: 10px; }\n",
       "    </style>\n",
       "<div class=\"wandb-row\"><div class=\"wandb-col\"><h3>Run history:</h3><br/><table class=\"wandb\"><tr><td>train_loss</td><td>█▆▅▅▄▄▄▄▃▃▃▃▃▃▂▂▂▂▂▁▁▁</td></tr><tr><td>val_acc</td><td>▁▄▅▆▆▇▇▇▇█▇██▇█▇█████▇</td></tr><tr><td>val_f1</td><td>▁▄▅▆▆▇▇▇▇▇▇▇█▇▇▇██████</td></tr><tr><td>val_loss</td><td>█▅▄▃▃▁▁▂▁▁▁▁▁▃▂▃▃▃▃▃▄▅</td></tr><tr><td>val_precision</td><td>▁▅▆▇▇▇▇█▇▇▇▇▇█▇▆▇▇▇▇▇▇</td></tr><tr><td>val_recall</td><td>▁▃▄▅▅▆▆▆▇▇▇▇▇▆▇▇▇█▇███</td></tr></table><br/></div><div class=\"wandb-col\"><h3>Run summary:</h3><br/><table class=\"wandb\"><tr><td>train_loss</td><td>0.20776</td></tr><tr><td>val_acc</td><td>0.7772</td></tr><tr><td>val_f1</td><td>0.7221</td></tr><tr><td>val_loss</td><td>0.79078</td></tr><tr><td>val_precision</td><td>0.72735</td></tr><tr><td>val_recall</td><td>0.7203</td></tr></table><br/></div></div>"
      ],
      "text/plain": [
       "<IPython.core.display.HTML object>"
      ]
     },
     "metadata": {},
     "output_type": "display_data"
    },
    {
     "data": {
      "text/html": [
       "Synced <strong style=\"color:#cdcd00\">eager-dream-3</strong>: <a href=\"https://wandb.ai/ihateml/xlnet_classification/runs/2b2up8od\" target=\"_blank\">https://wandb.ai/ihateml/xlnet_classification/runs/2b2up8od</a><br/>Synced 7 W&B file(s), 0 media file(s), 0 artifact file(s) and 1 other file(s)"
      ],
      "text/plain": [
       "<IPython.core.display.HTML object>"
      ]
     },
     "metadata": {},
     "output_type": "display_data"
    },
    {
     "data": {
      "text/html": [
       "Find logs at: <code>./wandb/run-20220414_164807-2b2up8od/logs</code>"
      ],
      "text/plain": [
       "<IPython.core.display.HTML object>"
      ]
     },
     "metadata": {},
     "output_type": "display_data"
    },
    {
     "name": "stdout",
     "output_type": "stream",
     "text": [
      "huggingface/tokenizers: The current process just got forked, after parallelism has already been used. Disabling parallelism to avoid deadlocks...\n",
      "To disable this warning, you can either:\n",
      "\t- Avoid using `tokenizers` before the fork if possible\n",
      "\t- Explicitly set the environment variable TOKENIZERS_PARALLELISM=(true | false)\n",
      "huggingface/tokenizers: The current process just got forked, after parallelism has already been used. Disabling parallelism to avoid deadlocks...\n",
      "To disable this warning, you can either:\n",
      "\t- Avoid using `tokenizers` before the fork if possible\n",
      "\t- Explicitly set the environment variable TOKENIZERS_PARALLELISM=(true | false)\n"
     ]
    },
    {
     "data": {
      "text/html": [
       "Tracking run with wandb version 0.12.14"
      ],
      "text/plain": [
       "<IPython.core.display.HTML object>"
      ]
     },
     "metadata": {},
     "output_type": "display_data"
    },
    {
     "data": {
      "text/html": [
       "Run data is saved locally in <code>/home/rnwnsgud1234/1.text/textmining/wandb/run-20220415_005328-3m9d5d9b</code>"
      ],
      "text/plain": [
       "<IPython.core.display.HTML object>"
      ]
     },
     "metadata": {},
     "output_type": "display_data"
    },
    {
     "data": {
      "text/html": [
       "Syncing run <strong><a href=\"https://wandb.ai/ihateml/xlnet_classification/runs/3m9d5d9b\" target=\"_blank\">daily-universe-4</a></strong> to <a href=\"https://wandb.ai/ihateml/xlnet_classification\" target=\"_blank\">Weights & Biases</a> (<a href=\"https://wandb.me/run\" target=\"_blank\">docs</a>)<br/>"
      ],
      "text/plain": [
       "<IPython.core.display.HTML object>"
      ]
     },
     "metadata": {},
     "output_type": "display_data"
    },
    {
     "name": "stderr",
     "output_type": "stream",
     "text": [
      "100%|████████████████████████████████████████████████████████████████████████████████████████████████████████████████████████████████████████████████| 575/575 [17:25<00:00,  1.82s/it]\n",
      "100%|████████████████████████████████████████████████████████████████████████████████████████████████████████████████████████████████████████████████| 144/144 [03:16<00:00,  1.36s/it]\n"
     ]
    },
    {
     "name": "stdout",
     "output_type": "stream",
     "text": [
      "Abstract   Intro      Main       Method     Summary    Caption   \n",
      "1/156      112/361    1383/1584  0/399      0/190      711/757   \n",
      "Epoch: 001, Train Loss: 1.1580163, Val Loss: 1.0399778, Val Acc: 0.6402669, Val Precision: 0.3889379, Val Recall: 0.3548332, Val F1: 0.3239935 \n",
      "Validation loss decreased (inf --> 1.039978). \n"
     ]
    },
    {
     "name": "stderr",
     "output_type": "stream",
     "text": [
      "100%|████████████████████████████████████████████████████████████████████████████████████████████████████████████████████████████████████████████████| 575/575 [17:25<00:00,  1.82s/it]\n",
      "100%|████████████████████████████████████████████████████████████████████████████████████████████████████████████████████████████████████████████████| 144/144 [03:16<00:00,  1.37s/it]\n"
     ]
    },
    {
     "name": "stdout",
     "output_type": "stream",
     "text": [
      "Abstract   Intro      Main       Method     Summary    Caption   \n",
      "33/156     171/361    1377/1584  74/399     30/190     732/757   \n",
      "Epoch: 002, Train Loss: 0.8760460, Val Loss: 0.8386028, Val Acc: 0.7011894, Val Precision: 0.6071867, Val Recall: 0.4774790, Val F1: 0.5004014 \n",
      "Validation loss decreased (1.039978 --> 0.838603). \n"
     ]
    },
    {
     "name": "stderr",
     "output_type": "stream",
     "text": [
      "100%|████████████████████████████████████████████████████████████████████████████████████████████████████████████████████████████████████████████████| 575/575 [17:24<00:00,  1.82s/it]\n",
      "100%|████████████████████████████████████████████████████████████████████████████████████████████████████████████████████████████████████████████████| 144/144 [03:16<00:00,  1.36s/it]\n"
     ]
    },
    {
     "name": "stdout",
     "output_type": "stream",
     "text": [
      "Abstract   Intro      Main       Method     Summary    Caption   \n",
      "31/156     158/361    1416/1584  122/399    54/190     721/757   \n",
      "Epoch: 003, Train Loss: 0.7725920, Val Loss: 0.7939734, Val Acc: 0.7258486, Val Precision: 0.6847414, Val Recall: 0.5121249, Val F1: 0.5538183 \n",
      "Validation loss decreased (0.838603 --> 0.793973). \n"
     ]
    },
    {
     "name": "stderr",
     "output_type": "stream",
     "text": [
      "100%|████████████████████████████████████████████████████████████████████████████████████████████████████████████████████████████████████████████████| 575/575 [17:24<00:00,  1.82s/it]\n",
      "100%|████████████████████████████████████████████████████████████████████████████████████████████████████████████████████████████████████████████████| 144/144 [03:16<00:00,  1.36s/it]\n"
     ]
    },
    {
     "name": "stdout",
     "output_type": "stream",
     "text": [
      "Abstract   Intro      Main       Method     Summary    Caption   \n",
      "38/156     160/361    1441/1584  135/399    96/190     725/757   \n",
      "Epoch: 004, Train Loss: 0.7011137, Val Loss: 0.7155234, Val Acc: 0.7528285, Val Precision: 0.7371555, Val Recall: 0.5663104, Val F1: 0.6136305 \n",
      "Validation loss decreased (0.793973 --> 0.715523). \n"
     ]
    },
    {
     "name": "stderr",
     "output_type": "stream",
     "text": [
      "100%|████████████████████████████████████████████████████████████████████████████████████████████████████████████████████████████████████████████████| 575/575 [17:24<00:00,  1.82s/it]\n",
      "100%|████████████████████████████████████████████████████████████████████████████████████████████████████████████████████████████████████████████████| 144/144 [03:16<00:00,  1.37s/it]\n"
     ]
    },
    {
     "name": "stdout",
     "output_type": "stream",
     "text": [
      "Abstract   Intro      Main       Method     Summary    Caption   \n",
      "77/156     196/361    1473/1584  61/399     94/190     730/757   \n",
      "Epoch: 005, Train Loss: 0.6469958, Val Loss: 0.6766605, Val Acc: 0.7632724, Val Precision: 0.7380536, Val Recall: 0.5964004, Val F1: 0.6301854 \n",
      "Validation loss decreased (0.715523 --> 0.676661). \n"
     ]
    },
    {
     "name": "stderr",
     "output_type": "stream",
     "text": [
      "100%|████████████████████████████████████████████████████████████████████████████████████████████████████████████████████████████████████████████████| 575/575 [17:24<00:00,  1.82s/it]\n",
      "100%|████████████████████████████████████████████████████████████████████████████████████████████████████████████████████████████████████████████████| 144/144 [03:16<00:00,  1.36s/it]\n"
     ]
    },
    {
     "name": "stdout",
     "output_type": "stream",
     "text": [
      "Abstract   Intro      Main       Method     Summary    Caption   \n",
      "73/156     231/361    1420/1584  107/399    96/190     738/757   \n",
      "Epoch: 006, Train Loss: 0.6215159, Val Loss: 0.6217974, Val Acc: 0.7731361, Val Precision: 0.7432370, Val Recall: 0.6254395, Val F1: 0.6596156 \n",
      "Validation loss decreased (0.676661 --> 0.621797). \n"
     ]
    },
    {
     "name": "stderr",
     "output_type": "stream",
     "text": [
      "100%|████████████████████████████████████████████████████████████████████████████████████████████████████████████████████████████████████████████████| 575/575 [17:23<00:00,  1.81s/it]\n",
      "100%|████████████████████████████████████████████████████████████████████████████████████████████████████████████████████████████████████████████████| 144/144 [03:16<00:00,  1.36s/it]\n"
     ]
    },
    {
     "name": "stdout",
     "output_type": "stream",
     "text": [
      "Abstract   Intro      Main       Method     Summary    Caption   \n",
      "64/156     234/361    1403/1584  124/399    93/190     749/757   \n",
      "Epoch: 007, Train Loss: 0.5969144, Val Loss: 0.6351426, Val Acc: 0.7737163, Val Precision: 0.7533577, Val Recall: 0.6223118, Val F1: 0.6608789 \n",
      "EarlyStopping counter: 1 out of 10\n"
     ]
    },
    {
     "name": "stderr",
     "output_type": "stream",
     "text": [
      "100%|████████████████████████████████████████████████████████████████████████████████████████████████████████████████████████████████████████████████| 575/575 [17:24<00:00,  1.82s/it]\n",
      "100%|████████████████████████████████████████████████████████████████████████████████████████████████████████████████████████████████████████████████| 144/144 [03:16<00:00,  1.36s/it]\n"
     ]
    },
    {
     "name": "stdout",
     "output_type": "stream",
     "text": [
      "Abstract   Intro      Main       Method     Summary    Caption   \n",
      "44/156     178/361    1481/1584  109/399    93/190     745/757   \n",
      "Epoch: 008, Train Loss: 0.5654522, Val Loss: 0.6938635, Val Acc: 0.7687845, Val Precision: 0.7795115, Val Recall: 0.5761509, Val F1: 0.6304630 \n",
      "EarlyStopping counter: 2 out of 10\n"
     ]
    },
    {
     "name": "stderr",
     "output_type": "stream",
     "text": [
      "100%|████████████████████████████████████████████████████████████████████████████████████████████████████████████████████████████████████████████████| 575/575 [17:25<00:00,  1.82s/it]\n",
      "100%|████████████████████████████████████████████████████████████████████████████████████████████████████████████████████████████████████████████████| 144/144 [03:16<00:00,  1.36s/it]\n"
     ]
    },
    {
     "name": "stdout",
     "output_type": "stream",
     "text": [
      "Abstract   Intro      Main       Method     Summary    Caption   \n",
      "74/156     254/361    1372/1584  142/399    99/190     752/757   \n",
      "Epoch: 009, Train Loss: 0.5469609, Val Loss: 0.6093308, Val Acc: 0.7812591, Val Precision: 0.7505407, Val Recall: 0.6524098, Val F1: 0.6826232 \n",
      "Validation loss decreased (0.621797 --> 0.609331). \n"
     ]
    },
    {
     "name": "stderr",
     "output_type": "stream",
     "text": [
      "100%|████████████████████████████████████████████████████████████████████████████████████████████████████████████████████████████████████████████████| 575/575 [17:24<00:00,  1.82s/it]\n",
      "100%|████████████████████████████████████████████████████████████████████████████████████████████████████████████████████████████████████████████████| 144/144 [03:16<00:00,  1.37s/it]\n"
     ]
    },
    {
     "name": "stdout",
     "output_type": "stream",
     "text": [
      "Abstract   Intro      Main       Method     Summary    Caption   \n",
      "63/156     226/361    1430/1584  143/399    104/190    752/757   \n",
      "Epoch: 010, Train Loss: 0.5281436, Val Loss: 0.6137682, Val Acc: 0.7885117, Val Precision: 0.7790446, Val Recall: 0.6386370, Val F1: 0.6831670 \n",
      "EarlyStopping counter: 1 out of 10\n"
     ]
    },
    {
     "name": "stderr",
     "output_type": "stream",
     "text": [
      "100%|████████████████████████████████████████████████████████████████████████████████████████████████████████████████████████████████████████████████| 575/575 [17:24<00:00,  1.82s/it]\n",
      "100%|████████████████████████████████████████████████████████████████████████████████████████████████████████████████████████████████████████████████| 144/144 [03:16<00:00,  1.36s/it]\n"
     ]
    },
    {
     "name": "stdout",
     "output_type": "stream",
     "text": [
      "Abstract   Intro      Main       Method     Summary    Caption   \n",
      "114/156    193/361    1448/1584  103/399    107/190    751/757   \n",
      "Epoch: 011, Train Loss: 0.5041609, Val Loss: 0.5955924, Val Acc: 0.7879315, Val Precision: 0.7530729, Val Recall: 0.6654857, Val F1: 0.6860979 \n",
      "Validation loss decreased (0.609331 --> 0.595592). \n"
     ]
    },
    {
     "name": "stderr",
     "output_type": "stream",
     "text": [
      "100%|████████████████████████████████████████████████████████████████████████████████████████████████████████████████████████████████████████████████| 575/575 [17:24<00:00,  1.82s/it]\n",
      "100%|████████████████████████████████████████████████████████████████████████████████████████████████████████████████████████████████████████████████| 144/144 [03:16<00:00,  1.37s/it]\n"
     ]
    },
    {
     "name": "stdout",
     "output_type": "stream",
     "text": [
      "Abstract   Intro      Main       Method     Summary    Caption   \n",
      "94/156     223/361    1434/1584  121/399    107/190    752/757   \n",
      "Epoch: 012, Train Loss: 0.4857393, Val Loss: 0.5941556, Val Acc: 0.7922831, Val Precision: 0.7709344, Val Recall: 0.6642344, Val F1: 0.7002517 \n",
      "Validation loss decreased (0.595592 --> 0.594156). \n"
     ]
    },
    {
     "name": "stderr",
     "output_type": "stream",
     "text": [
      "100%|████████████████████████████████████████████████████████████████████████████████████████████████████████████████████████████████████████████████| 575/575 [17:24<00:00,  1.82s/it]\n",
      "100%|████████████████████████████████████████████████████████████████████████████████████████████████████████████████████████████████████████████████| 144/144 [03:16<00:00,  1.37s/it]\n"
     ]
    },
    {
     "name": "stdout",
     "output_type": "stream",
     "text": [
      "Abstract   Intro      Main       Method     Summary    Caption   \n",
      "107/156    226/361    1421/1584  124/399    113/190    751/757   \n",
      "Epoch: 013, Train Loss: 0.4692010, Val Loss: 0.5816813, Val Acc: 0.7954743, Val Precision: 0.7629542, Val Recall: 0.6844367, Val F1: 0.7093873 \n",
      "Validation loss decreased (0.594156 --> 0.581681). \n"
     ]
    },
    {
     "name": "stderr",
     "output_type": "stream",
     "text": [
      "100%|████████████████████████████████████████████████████████████████████████████████████████████████████████████████████████████████████████████████| 575/575 [17:24<00:00,  1.82s/it]\n",
      "100%|████████████████████████████████████████████████████████████████████████████████████████████████████████████████████████████████████████████████| 144/144 [03:16<00:00,  1.37s/it]\n"
     ]
    },
    {
     "name": "stdout",
     "output_type": "stream",
     "text": [
      "Abstract   Intro      Main       Method     Summary    Caption   \n",
      "57/156     227/361    1490/1584  83/399     97/190     751/757   \n",
      "Epoch: 014, Train Loss: 0.4453915, Val Loss: 0.6656620, Val Acc: 0.7847404, Val Precision: 0.7994386, Val Recall: 0.6075784, Val F1: 0.6522735 \n",
      "EarlyStopping counter: 1 out of 10\n"
     ]
    },
    {
     "name": "stderr",
     "output_type": "stream",
     "text": [
      "100%|████████████████████████████████████████████████████████████████████████████████████████████████████████████████████████████████████████████████| 575/575 [17:24<00:00,  1.82s/it]\n",
      "100%|████████████████████████████████████████████████████████████████████████████████████████████████████████████████████████████████████████████████| 144/144 [03:16<00:00,  1.37s/it]\n"
     ]
    },
    {
     "name": "stdout",
     "output_type": "stream",
     "text": [
      "Abstract   Intro      Main       Method     Summary    Caption   \n",
      "76/156     231/361    1420/1584  116/399    131/190    754/757   \n",
      "Epoch: 015, Train Loss: 0.4280338, Val Loss: 0.6219359, Val Acc: 0.7914128, Val Precision: 0.7429331, Val Recall: 0.6666285, Val F1: 0.6847617 \n",
      "EarlyStopping counter: 2 out of 10\n"
     ]
    },
    {
     "name": "stderr",
     "output_type": "stream",
     "text": [
      "100%|████████████████████████████████████████████████████████████████████████████████████████████████████████████████████████████████████████████████| 575/575 [17:24<00:00,  1.82s/it]\n",
      "100%|████████████████████████████████████████████████████████████████████████████████████████████████████████████████████████████████████████████████| 144/144 [03:16<00:00,  1.37s/it]\n"
     ]
    },
    {
     "name": "stdout",
     "output_type": "stream",
     "text": [
      "Abstract   Intro      Main       Method     Summary    Caption   \n",
      "72/156     192/361    1425/1584  150/399    120/190    751/757   \n",
      "Epoch: 016, Train Loss: 0.4038839, Val Loss: 0.6548241, Val Acc: 0.7861909, Val Precision: 0.7543580, Val Recall: 0.6487681, Val F1: 0.6865928 \n",
      "EarlyStopping counter: 3 out of 10\n"
     ]
    },
    {
     "name": "stderr",
     "output_type": "stream",
     "text": [
      "100%|████████████████████████████████████████████████████████████████████████████████████████████████████████████████████████████████████████████████| 575/575 [17:24<00:00,  1.82s/it]\n",
      "100%|████████████████████████████████████████████████████████████████████████████████████████████████████████████████████████████████████████████████| 144/144 [03:16<00:00,  1.37s/it]\n"
     ]
    },
    {
     "name": "stdout",
     "output_type": "stream",
     "text": [
      "Abstract   Intro      Main       Method     Summary    Caption   \n",
      "106/156    198/361    1439/1584  139/399    114/190    751/757   \n",
      "Epoch: 017, Train Loss: 0.3817051, Val Loss: 0.6509227, Val Acc: 0.7969249, Val Precision: 0.7606656, Val Recall: 0.6794780, Val F1: 0.7078563 \n",
      "EarlyStopping counter: 4 out of 10\n"
     ]
    },
    {
     "name": "stderr",
     "output_type": "stream",
     "text": [
      "100%|████████████████████████████████████████████████████████████████████████████████████████████████████████████████████████████████████████████████| 575/575 [17:24<00:00,  1.82s/it]\n",
      "100%|████████████████████████████████████████████████████████████████████████████████████████████████████████████████████████████████████████████████| 144/144 [03:16<00:00,  1.37s/it]\n"
     ]
    },
    {
     "name": "stdout",
     "output_type": "stream",
     "text": [
      "Abstract   Intro      Main       Method     Summary    Caption   \n",
      "119/156    241/361    1397/1584  143/399    106/190    751/757   \n",
      "Epoch: 018, Train Loss: 0.3659219, Val Loss: 0.6401155, Val Acc: 0.7998259, Val Precision: 0.7550440, Val Recall: 0.7034533, Val F1: 0.7147502 \n",
      "EarlyStopping counter: 5 out of 10\n"
     ]
    },
    {
     "name": "stderr",
     "output_type": "stream",
     "text": [
      "100%|████████████████████████████████████████████████████████████████████████████████████████████████████████████████████████████████████████████████| 575/575 [17:24<00:00,  1.82s/it]\n",
      "100%|████████████████████████████████████████████████████████████████████████████████████████████████████████████████████████████████████████████████| 144/144 [03:16<00:00,  1.37s/it]\n"
     ]
    },
    {
     "name": "stdout",
     "output_type": "stream",
     "text": [
      "Abstract   Intro      Main       Method     Summary    Caption   \n",
      "96/156     252/361    1318/1584  191/399    118/190    753/757   \n",
      "Epoch: 019, Train Loss: 0.3493425, Val Loss: 0.6481362, Val Acc: 0.7914128, Val Precision: 0.7292224, Val Recall: 0.7066636, Val F1: 0.7165196 \n",
      "EarlyStopping counter: 6 out of 10\n"
     ]
    },
    {
     "name": "stderr",
     "output_type": "stream",
     "text": [
      "100%|████████████████████████████████████████████████████████████████████████████████████████████████████████████████████████████████████████████████| 575/575 [17:24<00:00,  1.82s/it]\n",
      "100%|████████████████████████████████████████████████████████████████████████████████████████████████████████████████████████████████████████████████| 144/144 [03:16<00:00,  1.36s/it]\n"
     ]
    },
    {
     "name": "stdout",
     "output_type": "stream",
     "text": [
      "Abstract   Intro      Main       Method     Summary    Caption   \n",
      "106/156    231/361    1403/1584  145/399    114/190    753/757   \n",
      "Epoch: 020, Train Loss: 0.3304417, Val Loss: 0.6668537, Val Acc: 0.7983754, Val Precision: 0.7483535, Val Recall: 0.6938722, Val F1: 0.7132983 \n",
      "EarlyStopping counter: 7 out of 10\n"
     ]
    },
    {
     "name": "stderr",
     "output_type": "stream",
     "text": [
      "100%|████████████████████████████████████████████████████████████████████████████████████████████████████████████████████████████████████████████████| 575/575 [17:24<00:00,  1.82s/it]\n",
      "100%|████████████████████████████████████████████████████████████████████████████████████████████████████████████████████████████████████████████████| 144/144 [03:16<00:00,  1.37s/it]\n"
     ]
    },
    {
     "name": "stdout",
     "output_type": "stream",
     "text": [
      "Abstract   Intro      Main       Method     Summary    Caption   \n",
      "102/156    257/361    1369/1584  161/399    114/190    752/757   \n",
      "Epoch: 021, Train Loss: 0.3030400, Val Loss: 0.6692483, Val Acc: 0.7992457, Val Precision: 0.7507349, Val Recall: 0.7044882, Val F1: 0.7213396 \n",
      "EarlyStopping counter: 8 out of 10\n"
     ]
    },
    {
     "name": "stderr",
     "output_type": "stream",
     "text": [
      "100%|████████████████████████████████████████████████████████████████████████████████████████████████████████████████████████████████████████████████| 575/575 [17:24<00:00,  1.82s/it]\n",
      "100%|████████████████████████████████████████████████████████████████████████████████████████████████████████████████████████████████████████████████| 144/144 [03:16<00:00,  1.37s/it]\n"
     ]
    },
    {
     "name": "stdout",
     "output_type": "stream",
     "text": [
      "Abstract   Intro      Main       Method     Summary    Caption   \n",
      "107/156    266/361    1215/1584  224/399    112/190    751/757   \n",
      "Epoch: 022, Train Loss: 0.2851107, Val Loss: 0.7110564, Val Acc: 0.7760371, Val Precision: 0.7221151, Val Recall: 0.7221227, Val F1: 0.7190546 \n",
      "EarlyStopping counter: 9 out of 10\n"
     ]
    },
    {
     "name": "stderr",
     "output_type": "stream",
     "text": [
      "100%|████████████████████████████████████████████████████████████████████████████████████████████████████████████████████████████████████████████████| 575/575 [17:21<00:00,  1.81s/it]\n",
      "100%|████████████████████████████████████████████████████████████████████████████████████████████████████████████████████████████████████████████████| 144/144 [03:15<00:00,  1.36s/it]\n"
     ]
    },
    {
     "name": "stdout",
     "output_type": "stream",
     "text": [
      "Abstract   Intro      Main       Method     Summary    Caption   \n",
      "87/156     256/361    1321/1584  185/399    122/190    753/757   \n",
      "Epoch: 023, Train Loss: 0.2686928, Val Loss: 0.7198032, Val Acc: 0.7902524, Val Precision: 0.7286399, Val Recall: 0.7002131, Val F1: 0.7106284 \n",
      "EarlyStopping counter: 10 out of 10\n",
      "Early stopping\n",
      "\n"
     ]
    },
    {
     "data": {
      "text/html": [
       "Waiting for W&B process to finish... <strong style=\"color:green\">(success).</strong>"
      ],
      "text/plain": [
       "<IPython.core.display.HTML object>"
      ]
     },
     "metadata": {},
     "output_type": "display_data"
    },
    {
     "data": {
      "text/html": [
       "<style>\n",
       "    table.wandb td:nth-child(1) { padding: 0 10px; text-align: right }\n",
       "    .wandb-row { display: flex; flex-direction: row; flex-wrap: wrap; width: 100% }\n",
       "    .wandb-col { display: flex; flex-direction: column; flex-basis: 100%; flex: 1; padding: 10px; }\n",
       "    </style>\n",
       "<div class=\"wandb-row\"><div class=\"wandb-col\"><h3>Run history:</h3><br/><table class=\"wandb\"><tr><td>train_loss</td><td>█▆▅▄▄▄▄▃▃▃▃▃▃▂▂▂▂▂▂▁▁▁▁</td></tr><tr><td>val_acc</td><td>▁▄▅▆▆▇▇▇▇█▇██▇█▇█████▇█</td></tr><tr><td>val_f1</td><td>▁▄▅▆▆▇▇▆▇▇▇██▇▇▇███████</td></tr><tr><td>val_loss</td><td>█▅▄▃▂▂▂▃▁▁▁▁▁▂▂▂▂▂▂▂▂▃▃</td></tr><tr><td>val_precision</td><td>▁▅▆▇▇▇▇█▇█▇█▇█▇▇▇▇▇▇▇▇▇</td></tr><tr><td>val_recall</td><td>▁▃▄▅▆▆▆▅▇▆▇▇▇▆▇▇▇██▇███</td></tr></table><br/></div><div class=\"wandb-col\"><h3>Run summary:</h3><br/><table class=\"wandb\"><tr><td>train_loss</td><td>0.26869</td></tr><tr><td>val_acc</td><td>0.79025</td></tr><tr><td>val_f1</td><td>0.71063</td></tr><tr><td>val_loss</td><td>0.7198</td></tr><tr><td>val_precision</td><td>0.72864</td></tr><tr><td>val_recall</td><td>0.70021</td></tr></table><br/></div></div>"
      ],
      "text/plain": [
       "<IPython.core.display.HTML object>"
      ]
     },
     "metadata": {},
     "output_type": "display_data"
    },
    {
     "data": {
      "text/html": [
       "Synced <strong style=\"color:#cdcd00\">daily-universe-4</strong>: <a href=\"https://wandb.ai/ihateml/xlnet_classification/runs/3m9d5d9b\" target=\"_blank\">https://wandb.ai/ihateml/xlnet_classification/runs/3m9d5d9b</a><br/>Synced 7 W&B file(s), 0 media file(s), 0 artifact file(s) and 1 other file(s)"
      ],
      "text/plain": [
       "<IPython.core.display.HTML object>"
      ]
     },
     "metadata": {},
     "output_type": "display_data"
    },
    {
     "data": {
      "text/html": [
       "Find logs at: <code>./wandb/run-20220415_005328-3m9d5d9b/logs</code>"
      ],
      "text/plain": [
       "<IPython.core.display.HTML object>"
      ]
     },
     "metadata": {},
     "output_type": "display_data"
    },
    {
     "name": "stdout",
     "output_type": "stream",
     "text": [
      "huggingface/tokenizers: The current process just got forked, after parallelism has already been used. Disabling parallelism to avoid deadlocks...\n",
      "To disable this warning, you can either:\n",
      "\t- Avoid using `tokenizers` before the fork if possible\n",
      "\t- Explicitly set the environment variable TOKENIZERS_PARALLELISM=(true | false)\n",
      "huggingface/tokenizers: The current process just got forked, after parallelism has already been used. Disabling parallelism to avoid deadlocks...\n",
      "To disable this warning, you can either:\n",
      "\t- Avoid using `tokenizers` before the fork if possible\n",
      "\t- Explicitly set the environment variable TOKENIZERS_PARALLELISM=(true | false)\n"
     ]
    },
    {
     "data": {
      "text/html": [
       "Tracking run with wandb version 0.12.14"
      ],
      "text/plain": [
       "<IPython.core.display.HTML object>"
      ]
     },
     "metadata": {},
     "output_type": "display_data"
    },
    {
     "data": {
      "text/html": [
       "Run data is saved locally in <code>/home/rnwnsgud1234/1.text/textmining/wandb/run-20220415_084946-2raefq6c</code>"
      ],
      "text/plain": [
       "<IPython.core.display.HTML object>"
      ]
     },
     "metadata": {},
     "output_type": "display_data"
    },
    {
     "data": {
      "text/html": [
       "Syncing run <strong><a href=\"https://wandb.ai/ihateml/xlnet_classification/runs/2raefq6c\" target=\"_blank\">vocal-energy-5</a></strong> to <a href=\"https://wandb.ai/ihateml/xlnet_classification\" target=\"_blank\">Weights & Biases</a> (<a href=\"https://wandb.me/run\" target=\"_blank\">docs</a>)<br/>"
      ],
      "text/plain": [
       "<IPython.core.display.HTML object>"
      ]
     },
     "metadata": {},
     "output_type": "display_data"
    },
    {
     "name": "stderr",
     "output_type": "stream",
     "text": [
      "100%|████████████████████████████████████████████████████████████████████████████████████████████████████████████████████████████████████████████████| 575/575 [16:03<00:00,  1.68s/it]\n",
      "100%|████████████████████████████████████████████████████████████████████████████████████████████████████████████████████████████████████████████████| 144/144 [03:16<00:00,  1.36s/it]\n"
     ]
    },
    {
     "name": "stdout",
     "output_type": "stream",
     "text": [
      "Abstract   Intro      Main       Method     Summary    Caption   \n",
      "1/156      97/361     1350/1584  0/399      0/190      717/757   \n",
      "Epoch: 001, Train Loss: 1.2042759, Val Loss: 1.1026686, Val Acc: 0.6280824, Val Precision: 0.4561107, Val Recall: 0.3457568, Val F1: 0.3104912 \n",
      "Validation loss decreased (inf --> 1.102669). \n"
     ]
    },
    {
     "name": "stderr",
     "output_type": "stream",
     "text": [
      "100%|████████████████████████████████████████████████████████████████████████████████████████████████████████████████████████████████████████████████| 575/575 [16:03<00:00,  1.68s/it]\n",
      "100%|████████████████████████████████████████████████████████████████████████████████████████████████████████████████████████████████████████████████| 144/144 [03:16<00:00,  1.36s/it]\n"
     ]
    },
    {
     "name": "stdout",
     "output_type": "stream",
     "text": [
      "Abstract   Intro      Main       Method     Summary    Caption   \n",
      "25/156     151/361    1400/1584  44/399     10/190     735/757   \n",
      "Epoch: 002, Train Loss: 0.8944692, Val Loss: 0.8870098, Val Acc: 0.6861039, Val Precision: 0.6385463, Val Recall: 0.4327038, Val F1: 0.4437496 \n",
      "Validation loss decreased (1.102669 --> 0.887010). \n"
     ]
    },
    {
     "name": "stderr",
     "output_type": "stream",
     "text": [
      "100%|████████████████████████████████████████████████████████████████████████████████████████████████████████████████████████████████████████████████| 575/575 [16:03<00:00,  1.68s/it]\n",
      "100%|████████████████████████████████████████████████████████████████████████████████████████████████████████████████████████████████████████████████| 144/144 [03:16<00:00,  1.36s/it]\n"
     ]
    },
    {
     "name": "stdout",
     "output_type": "stream",
     "text": [
      "Abstract   Intro      Main       Method     Summary    Caption   \n",
      "35/156     163/361    1386/1584  100/399    40/190     735/757   \n",
      "Epoch: 003, Train Loss: 0.7775972, Val Loss: 0.8185553, Val Acc: 0.7133739, Val Precision: 0.6513703, Val Recall: 0.4971622, Val F1: 0.5298446 \n",
      "Validation loss decreased (0.887010 --> 0.818555). \n"
     ]
    },
    {
     "name": "stderr",
     "output_type": "stream",
     "text": [
      "100%|████████████████████████████████████████████████████████████████████████████████████████████████████████████████████████████████████████████████| 575/575 [16:03<00:00,  1.68s/it]\n",
      "100%|████████████████████████████████████████████████████████████████████████████████████████████████████████████████████████████████████████████████| 144/144 [03:16<00:00,  1.36s/it]\n"
     ]
    },
    {
     "name": "stdout",
     "output_type": "stream",
     "text": [
      "Abstract   Intro      Main       Method     Summary    Caption   \n",
      "39/156     131/361    1447/1584  105/399    86/190     721/757   \n",
      "Epoch: 004, Train Loss: 0.7273361, Val Loss: 0.7556800, Val Acc: 0.7336815, Val Precision: 0.7016586, Val Recall: 0.5324374, Val F1: 0.5722123 \n",
      "Validation loss decreased (0.818555 --> 0.755680). \n"
     ]
    },
    {
     "name": "stderr",
     "output_type": "stream",
     "text": [
      " 73%|█████████████████████████████████████████████████████████████████████████████████████████████████████████▋                                      | 422/575 [11:47<04:16,  1.68s/it]wandb: Network error (ReadTimeout), entering retry loop.\n",
      " 91%|███████████████████████████████████████████████████████████████████████████████████████████████████████████████████████████████████▏            | 524/575 [14:38<01:25,  1.68s/it]wandb: ERROR Error while calling W&B API: Error 1040: Too many connections (<Response [500]>)\n",
      "100%|████████████████████████████████████████████████████████████████████████████████████████████████████████████████████████████████████████████████| 575/575 [16:03<00:00,  1.68s/it]\n",
      "100%|████████████████████████████████████████████████████████████████████████████████████████████████████████████████████████████████████████████████| 144/144 [03:16<00:00,  1.36s/it]\n"
     ]
    },
    {
     "name": "stdout",
     "output_type": "stream",
     "text": [
      "Abstract   Intro      Main       Method     Summary    Caption   \n",
      "72/156     174/361    1472/1584  49/399     80/190     727/757   \n",
      "Epoch: 005, Train Loss: 0.6970792, Val Loss: 0.7358936, Val Acc: 0.7467363, Val Precision: 0.7161403, Val Recall: 0.5628426, Val F1: 0.5960509 \n",
      "Validation loss decreased (0.755680 --> 0.735894). \n"
     ]
    },
    {
     "name": "stderr",
     "output_type": "stream",
     "text": [
      "100%|████████████████████████████████████████████████████████████████████████████████████████████████████████████████████████████████████████████████| 575/575 [16:03<00:00,  1.68s/it]\n",
      "100%|████████████████████████████████████████████████████████████████████████████████████████████████████████████████████████████████████████████████| 144/144 [03:16<00:00,  1.36s/it]\n"
     ]
    },
    {
     "name": "stdout",
     "output_type": "stream",
     "text": [
      "Abstract   Intro      Main       Method     Summary    Caption   \n",
      "85/156     212/361    1428/1584  81/399     87/190     740/757   \n",
      "Epoch: 006, Train Loss: 0.6701080, Val Loss: 0.6711693, Val Acc: 0.7638526, Val Precision: 0.7224176, Val Recall: 0.6120150, Val F1: 0.6395221 \n",
      "Validation loss decreased (0.735894 --> 0.671169). \n"
     ]
    },
    {
     "name": "stderr",
     "output_type": "stream",
     "text": [
      "100%|████████████████████████████████████████████████████████████████████████████████████████████████████████████████████████████████████████████████| 575/575 [16:03<00:00,  1.67s/it]\n",
      "100%|████████████████████████████████████████████████████████████████████████████████████████████████████████████████████████████████████████████████| 144/144 [03:16<00:00,  1.36s/it]\n"
     ]
    },
    {
     "name": "stdout",
     "output_type": "stream",
     "text": [
      "Abstract   Intro      Main       Method     Summary    Caption   \n",
      "74/156     242/361    1355/1584  130/399    81/190     748/757   \n",
      "Epoch: 007, Train Loss: 0.6394499, Val Loss: 0.6889305, Val Acc: 0.7629823, Val Precision: 0.7303080, Val Recall: 0.6233983, Val F1: 0.6529661 \n",
      "EarlyStopping counter: 1 out of 10\n"
     ]
    },
    {
     "name": "stderr",
     "output_type": "stream",
     "text": [
      "100%|████████████████████████████████████████████████████████████████████████████████████████████████████████████████████████████████████████████████| 575/575 [16:03<00:00,  1.68s/it]\n",
      "100%|████████████████████████████████████████████████████████████████████████████████████████████████████████████████████████████████████████████████| 144/144 [03:16<00:00,  1.36s/it]\n"
     ]
    },
    {
     "name": "stdout",
     "output_type": "stream",
     "text": [
      "Abstract   Intro      Main       Method     Summary    Caption   \n",
      "40/156     191/361    1488/1584  67/399     91/190     726/757   \n",
      "Epoch: 008, Train Loss: 0.6154618, Val Loss: 0.7117284, Val Acc: 0.7551494, Val Precision: 0.7815281, Val Recall: 0.5551344, Val F1: 0.6022036 \n",
      "EarlyStopping counter: 2 out of 10\n"
     ]
    },
    {
     "name": "stderr",
     "output_type": "stream",
     "text": [
      "100%|████████████████████████████████████████████████████████████████████████████████████████████████████████████████████████████████████████████████| 575/575 [16:03<00:00,  1.67s/it]\n",
      "100%|████████████████████████████████████████████████████████████████████████████████████████████████████████████████████████████████████████████████| 144/144 [03:16<00:00,  1.36s/it]\n"
     ]
    },
    {
     "name": "stdout",
     "output_type": "stream",
     "text": [
      "Abstract   Intro      Main       Method     Summary    Caption   \n",
      "72/156     218/361    1427/1584  122/399    91/190     739/757   \n",
      "Epoch: 009, Train Loss: 0.5926123, Val Loss: 0.6525573, Val Acc: 0.7742965, Val Precision: 0.7740948, Val Recall: 0.6212057, Val F1: 0.6673013 \n",
      "Validation loss decreased (0.671169 --> 0.652557). \n"
     ]
    },
    {
     "name": "stderr",
     "output_type": "stream",
     "text": [
      "100%|████████████████████████████████████████████████████████████████████████████████████████████████████████████████████████████████████████████████| 575/575 [16:03<00:00,  1.68s/it]\n",
      "100%|████████████████████████████████████████████████████████████████████████████████████████████████████████████████████████████████████████████████| 144/144 [03:16<00:00,  1.36s/it]\n"
     ]
    },
    {
     "name": "stdout",
     "output_type": "stream",
     "text": [
      "Abstract   Intro      Main       Method     Summary    Caption   \n",
      "71/156     230/361    1420/1584  134/399    96/190     737/757   \n",
      "Epoch: 010, Train Loss: 0.5740915, Val Loss: 0.6249921, Val Acc: 0.7798085, Val Precision: 0.7707610, Val Recall: 0.6338991, Val F1: 0.6766684 \n",
      "Validation loss decreased (0.652557 --> 0.624992). \n"
     ]
    },
    {
     "name": "stderr",
     "output_type": "stream",
     "text": [
      "100%|████████████████████████████████████████████████████████████████████████████████████████████████████████████████████████████████████████████████| 575/575 [16:03<00:00,  1.68s/it]\n",
      "100%|████████████████████████████████████████████████████████████████████████████████████████████████████████████████████████████████████████████████| 144/144 [03:16<00:00,  1.36s/it]\n"
     ]
    },
    {
     "name": "stdout",
     "output_type": "stream",
     "text": [
      "Abstract   Intro      Main       Method     Summary    Caption   \n",
      "110/156    184/361    1452/1584  109/399    97/190     741/757   \n",
      "Epoch: 011, Train Loss: 0.5544499, Val Loss: 0.6294538, Val Acc: 0.7812591, Val Precision: 0.7650849, Val Recall: 0.6490106, Val F1: 0.6815556 \n",
      "EarlyStopping counter: 1 out of 10\n"
     ]
    },
    {
     "name": "stderr",
     "output_type": "stream",
     "text": [
      "100%|████████████████████████████████████████████████████████████████████████████████████████████████████████████████████████████████████████████████| 575/575 [16:03<00:00,  1.68s/it]\n",
      "100%|████████████████████████████████████████████████████████████████████████████████████████████████████████████████████████████████████████████████| 144/144 [03:16<00:00,  1.37s/it]\n"
     ]
    },
    {
     "name": "stdout",
     "output_type": "stream",
     "text": [
      "Abstract   Intro      Main       Method     Summary    Caption   \n",
      "78/156     226/361    1427/1584  134/399    93/190     742/757   \n",
      "Epoch: 012, Train Loss: 0.5416358, Val Loss: 0.6380366, Val Acc: 0.7832898, Val Precision: 0.7890117, Val Recall: 0.6387368, Val F1: 0.6852107 \n",
      "EarlyStopping counter: 2 out of 10\n"
     ]
    },
    {
     "name": "stderr",
     "output_type": "stream",
     "text": [
      " 29%|██████████████████████████████████████████▎                                                                                                     | 169/575 [04:43<11:21,  1.68s/it]wandb: Network error (ReadTimeout), entering retry loop.\n",
      "100%|████████████████████████████████████████████████████████████████████████████████████████████████████████████████████████████████████████████████| 575/575 [16:04<00:00,  1.68s/it]\n",
      "100%|████████████████████████████████████████████████████████████████████████████████████████████████████████████████████████████████████████████████| 144/144 [03:16<00:00,  1.37s/it]\n"
     ]
    },
    {
     "name": "stdout",
     "output_type": "stream",
     "text": [
      "Abstract   Intro      Main       Method     Summary    Caption   \n",
      "105/156    243/361    1392/1584  127/399    101/190    747/757   \n",
      "Epoch: 013, Train Loss: 0.5243559, Val Loss: 0.6122642, Val Acc: 0.7876414, Val Precision: 0.7655430, Val Recall: 0.6769433, Val F1: 0.7012509 \n",
      "Validation loss decreased (0.624992 --> 0.612264). \n"
     ]
    },
    {
     "name": "stderr",
     "output_type": "stream",
     "text": [
      "100%|████████████████████████████████████████████████████████████████████████████████████████████████████████████████████████████████████████████████| 575/575 [16:04<00:00,  1.68s/it]\n",
      "100%|████████████████████████████████████████████████████████████████████████████████████████████████████████████████████████████████████████████████| 144/144 [03:16<00:00,  1.37s/it]\n"
     ]
    },
    {
     "name": "stdout",
     "output_type": "stream",
     "text": [
      "Abstract   Intro      Main       Method     Summary    Caption   \n",
      "78/156     255/361    1430/1584  90/399     103/190    745/757   \n",
      "Epoch: 014, Train Loss: 0.5084775, Val Loss: 0.6449350, Val Acc: 0.7835799, Val Precision: 0.7863706, Val Recall: 0.6434943, Val F1: 0.6767627 \n",
      "EarlyStopping counter: 1 out of 10\n"
     ]
    },
    {
     "name": "stderr",
     "output_type": "stream",
     "text": [
      "100%|████████████████████████████████████████████████████████████████████████████████████████████████████████████████████████████████████████████████| 575/575 [16:03<00:00,  1.68s/it]\n",
      "100%|████████████████████████████████████████████████████████████████████████████████████████████████████████████████████████████████████████████████| 144/144 [03:16<00:00,  1.36s/it]\n"
     ]
    },
    {
     "name": "stdout",
     "output_type": "stream",
     "text": [
      "Abstract   Intro      Main       Method     Summary    Caption   \n",
      "80/156     195/361    1416/1584  127/399    116/190    751/757   \n",
      "Epoch: 015, Train Loss: 0.4967911, Val Loss: 0.6543402, Val Acc: 0.7789382, Val Precision: 0.7399376, Val Recall: 0.6446370, Val F1: 0.6771555 \n",
      "EarlyStopping counter: 2 out of 10\n"
     ]
    },
    {
     "name": "stderr",
     "output_type": "stream",
     "text": [
      "100%|████████████████████████████████████████████████████████████████████████████████████████████████████████████████████████████████████████████████| 575/575 [16:03<00:00,  1.68s/it]\n",
      "100%|████████████████████████████████████████████████████████████████████████████████████████████████████████████████████████████████████████████████| 144/144 [03:16<00:00,  1.36s/it]\n"
     ]
    },
    {
     "name": "stdout",
     "output_type": "stream",
     "text": [
      "Abstract   Intro      Main       Method     Summary    Caption   \n",
      "85/156     193/361    1437/1584  137/399    113/190    747/757   \n",
      "Epoch: 016, Train Loss: 0.4792727, Val Loss: 0.6400399, Val Acc: 0.7867711, Val Precision: 0.7703532, Val Recall: 0.6519300, Val F1: 0.6951936 \n",
      "EarlyStopping counter: 3 out of 10\n"
     ]
    },
    {
     "name": "stderr",
     "output_type": "stream",
     "text": [
      "100%|████████████████████████████████████████████████████████████████████████████████████████████████████████████████████████████████████████████████| 575/575 [16:03<00:00,  1.68s/it]\n",
      "100%|████████████████████████████████████████████████████████████████████████████████████████████████████████████████████████████████████████████████| 144/144 [03:16<00:00,  1.36s/it]\n"
     ]
    },
    {
     "name": "stdout",
     "output_type": "stream",
     "text": [
      "Abstract   Intro      Main       Method     Summary    Caption   \n",
      "79/156     196/361    1450/1584  137/399    107/190    730/757   \n",
      "Epoch: 017, Train Loss: 0.4676040, Val Loss: 0.6611163, Val Acc: 0.7829997, Val Precision: 0.7826774, Val Recall: 0.6392666, Val F1: 0.6900793 \n",
      "EarlyStopping counter: 4 out of 10\n"
     ]
    },
    {
     "name": "stderr",
     "output_type": "stream",
     "text": [
      "100%|████████████████████████████████████████████████████████████████████████████████████████████████████████████████████████████████████████████████| 575/575 [16:03<00:00,  1.68s/it]\n",
      "100%|████████████████████████████████████████████████████████████████████████████████████████████████████████████████████████████████████████████████| 144/144 [03:16<00:00,  1.36s/it]\n"
     ]
    },
    {
     "name": "stdout",
     "output_type": "stream",
     "text": [
      "Abstract   Intro      Main       Method     Summary    Caption   \n",
      "102/156    235/361    1417/1584  108/399    102/190    746/757   \n",
      "Epoch: 018, Train Loss: 0.4577745, Val Loss: 0.6546877, Val Acc: 0.7861909, Val Precision: 0.7768243, Val Recall: 0.6653957, Val F1: 0.6960352 \n",
      "EarlyStopping counter: 5 out of 10\n"
     ]
    },
    {
     "name": "stderr",
     "output_type": "stream",
     "text": [
      "100%|████████████████████████████████████████████████████████████████████████████████████████████████████████████████████████████████████████████████| 575/575 [16:03<00:00,  1.68s/it]\n",
      "100%|████████████████████████████████████████████████████████████████████████████████████████████████████████████████████████████████████████████████| 144/144 [03:16<00:00,  1.36s/it]\n"
     ]
    },
    {
     "name": "stdout",
     "output_type": "stream",
     "text": [
      "Abstract   Intro      Main       Method     Summary    Caption   \n",
      "96/156     256/361    1354/1584  154/399    116/190    750/757   \n",
      "Epoch: 019, Train Loss: 0.4386229, Val Loss: 0.6352725, Val Acc: 0.7908326, Val Precision: 0.7441897, Val Recall: 0.6944280, Val F1: 0.7124507 \n",
      "EarlyStopping counter: 6 out of 10\n"
     ]
    },
    {
     "name": "stderr",
     "output_type": "stream",
     "text": [
      "100%|████████████████████████████████████████████████████████████████████████████████████████████████████████████████████████████████████████████████| 575/575 [16:03<00:00,  1.68s/it]\n",
      "100%|████████████████████████████████████████████████████████████████████████████████████████████████████████████████████████████████████████████████| 144/144 [03:16<00:00,  1.36s/it]\n"
     ]
    },
    {
     "name": "stdout",
     "output_type": "stream",
     "text": [
      "Abstract   Intro      Main       Method     Summary    Caption   \n",
      "89/156     211/361    1435/1584  117/399    110/190    749/757   \n",
      "Epoch: 020, Train Loss: 0.4208699, Val Loss: 0.6712755, Val Acc: 0.7864810, Val Precision: 0.7673804, Val Recall: 0.6537579, Val F1: 0.6917052 \n",
      "EarlyStopping counter: 7 out of 10\n"
     ]
    },
    {
     "name": "stderr",
     "output_type": "stream",
     "text": [
      "100%|████████████████████████████████████████████████████████████████████████████████████████████████████████████████████████████████████████████████| 575/575 [16:03<00:00,  1.68s/it]\n",
      "100%|████████████████████████████████████████████████████████████████████████████████████████████████████████████████████████████████████████████████| 144/144 [03:16<00:00,  1.36s/it]\n"
     ]
    },
    {
     "name": "stdout",
     "output_type": "stream",
     "text": [
      "Abstract   Intro      Main       Method     Summary    Caption   \n",
      "102/156    190/361    1416/1584  147/399    109/190    747/757   \n",
      "Epoch: 021, Train Loss: 0.4065612, Val Loss: 0.6748477, Val Acc: 0.7864810, Val Precision: 0.7527585, Val Recall: 0.6671661, Val F1: 0.6989286 \n",
      "EarlyStopping counter: 8 out of 10\n"
     ]
    },
    {
     "name": "stderr",
     "output_type": "stream",
     "text": [
      "100%|████████████████████████████████████████████████████████████████████████████████████████████████████████████████████████████████████████████████| 575/575 [16:03<00:00,  1.68s/it]\n",
      "100%|████████████████████████████████████████████████████████████████████████████████████████████████████████████████████████████████████████████████| 144/144 [03:16<00:00,  1.36s/it]\n"
     ]
    },
    {
     "name": "stdout",
     "output_type": "stream",
     "text": [
      "Abstract   Intro      Main       Method     Summary    Caption   \n",
      "106/156    240/361    1339/1584  161/399    115/190    748/757   \n",
      "Epoch: 022, Train Loss: 0.3990625, Val Loss: 0.6491256, Val Acc: 0.7859008, Val Precision: 0.7297744, Val Recall: 0.6977531, Val F1: 0.7098628 \n",
      "EarlyStopping counter: 9 out of 10\n"
     ]
    },
    {
     "name": "stderr",
     "output_type": "stream",
     "text": [
      "100%|████████████████████████████████████████████████████████████████████████████████████████████████████████████████████████████████████████████████| 575/575 [16:04<00:00,  1.68s/it]\n",
      "100%|████████████████████████████████████████████████████████████████████████████████████████████████████████████████████████████████████████████████| 144/144 [03:16<00:00,  1.37s/it]\n"
     ]
    },
    {
     "name": "stdout",
     "output_type": "stream",
     "text": [
      "Abstract   Intro      Main       Method     Summary    Caption   \n",
      "103/156    240/361    1338/1584  160/399    110/190    751/757   \n",
      "Epoch: 023, Train Loss: 0.3840618, Val Loss: 0.7018573, Val Acc: 0.7838700, Val Precision: 0.7421052, Val Recall: 0.6902995, Val F1: 0.7102458 \n",
      "EarlyStopping counter: 10 out of 10\n",
      "Early stopping\n",
      "\n"
     ]
    },
    {
     "data": {
      "text/html": [
       "Waiting for W&B process to finish... <strong style=\"color:green\">(success).</strong>"
      ],
      "text/plain": [
       "<IPython.core.display.HTML object>"
      ]
     },
     "metadata": {},
     "output_type": "display_data"
    },
    {
     "data": {
      "text/html": [
       "<style>\n",
       "    table.wandb td:nth-child(1) { padding: 0 10px; text-align: right }\n",
       "    .wandb-row { display: flex; flex-direction: row; flex-wrap: wrap; width: 100% }\n",
       "    .wandb-col { display: flex; flex-direction: column; flex-basis: 100%; flex: 1; padding: 10px; }\n",
       "    </style>\n",
       "<div class=\"wandb-row\"><div class=\"wandb-col\"><h3>Run history:</h3><br/><table class=\"wandb\"><tr><td>train_loss</td><td>█▅▄▄▄▃▃▃▃▃▂▂▂▂▂▂▂▂▁▁▁▁▁</td></tr><tr><td>val_acc</td><td>▁▃▅▆▆▇▇▆▇█████▇████████</td></tr><tr><td>val_f1</td><td>▁▃▅▆▆▇▇▆▇▇▇██▇▇████████</td></tr><tr><td>val_loss</td><td>█▅▄▃▃▂▂▂▂▁▁▁▁▁▂▁▂▂▁▂▂▂▂</td></tr><tr><td>val_precision</td><td>▁▅▅▆▆▇▇███▇███▇███▇█▇▇▇</td></tr><tr><td>val_recall</td><td>▁▃▄▅▅▆▇▅▆▇▇▇█▇▇▇▇▇█▇▇██</td></tr></table><br/></div><div class=\"wandb-col\"><h3>Run summary:</h3><br/><table class=\"wandb\"><tr><td>train_loss</td><td>0.38406</td></tr><tr><td>val_acc</td><td>0.78387</td></tr><tr><td>val_f1</td><td>0.71025</td></tr><tr><td>val_loss</td><td>0.70186</td></tr><tr><td>val_precision</td><td>0.74211</td></tr><tr><td>val_recall</td><td>0.6903</td></tr></table><br/></div></div>"
      ],
      "text/plain": [
       "<IPython.core.display.HTML object>"
      ]
     },
     "metadata": {},
     "output_type": "display_data"
    },
    {
     "data": {
      "text/html": [
       "Synced <strong style=\"color:#cdcd00\">vocal-energy-5</strong>: <a href=\"https://wandb.ai/ihateml/xlnet_classification/runs/2raefq6c\" target=\"_blank\">https://wandb.ai/ihateml/xlnet_classification/runs/2raefq6c</a><br/>Synced 7 W&B file(s), 0 media file(s), 0 artifact file(s) and 1 other file(s)"
      ],
      "text/plain": [
       "<IPython.core.display.HTML object>"
      ]
     },
     "metadata": {},
     "output_type": "display_data"
    },
    {
     "data": {
      "text/html": [
       "Find logs at: <code>./wandb/run-20220415_084946-2raefq6c/logs</code>"
      ],
      "text/plain": [
       "<IPython.core.display.HTML object>"
      ]
     },
     "metadata": {},
     "output_type": "display_data"
    },
    {
     "name": "stdout",
     "output_type": "stream",
     "text": [
      "huggingface/tokenizers: The current process just got forked, after parallelism has already been used. Disabling parallelism to avoid deadlocks...\n",
      "To disable this warning, you can either:\n",
      "\t- Avoid using `tokenizers` before the fork if possible\n",
      "\t- Explicitly set the environment variable TOKENIZERS_PARALLELISM=(true | false)\n",
      "huggingface/tokenizers: The current process just got forked, after parallelism has already been used. Disabling parallelism to avoid deadlocks...\n",
      "To disable this warning, you can either:\n",
      "\t- Avoid using `tokenizers` before the fork if possible\n",
      "\t- Explicitly set the environment variable TOKENIZERS_PARALLELISM=(true | false)\n"
     ]
    },
    {
     "data": {
      "text/html": [
       "Tracking run with wandb version 0.12.14"
      ],
      "text/plain": [
       "<IPython.core.display.HTML object>"
      ]
     },
     "metadata": {},
     "output_type": "display_data"
    },
    {
     "data": {
      "text/html": [
       "Run data is saved locally in <code>/home/rnwnsgud1234/1.text/textmining/wandb/run-20220415_161500-3u75uono</code>"
      ],
      "text/plain": [
       "<IPython.core.display.HTML object>"
      ]
     },
     "metadata": {},
     "output_type": "display_data"
    },
    {
     "data": {
      "text/html": [
       "Syncing run <strong><a href=\"https://wandb.ai/ihateml/xlnet_classification/runs/3u75uono\" target=\"_blank\">lively-wind-6</a></strong> to <a href=\"https://wandb.ai/ihateml/xlnet_classification\" target=\"_blank\">Weights & Biases</a> (<a href=\"https://wandb.me/run\" target=\"_blank\">docs</a>)<br/>"
      ],
      "text/plain": [
       "<IPython.core.display.HTML object>"
      ]
     },
     "metadata": {},
     "output_type": "display_data"
    },
    {
     "name": "stderr",
     "output_type": "stream",
     "text": [
      "100%|████████████████████████████████████████████████████████████████████████████████████████████████████████████████████████████████████████████████| 575/575 [14:43<00:00,  1.54s/it]\n",
      "100%|████████████████████████████████████████████████████████████████████████████████████████████████████████████████████████████████████████████████| 144/144 [03:16<00:00,  1.36s/it]\n"
     ]
    },
    {
     "name": "stdout",
     "output_type": "stream",
     "text": [
      "Abstract   Intro      Main       Method     Summary    Caption   \n",
      "0/156      9/361      1396/1584  0/399      0/190      691/757   \n",
      "Epoch: 001, Train Loss: 1.2807285, Val Loss: 1.2384067, Val Acc: 0.6080650, Val Precision: 0.2874475, Val Recall: 0.3031763, Val F1: 0.2534351 \n",
      "Validation loss decreased (inf --> 1.238407). \n"
     ]
    },
    {
     "name": "stderr",
     "output_type": "stream",
     "text": [
      "100%|████████████████████████████████████████████████████████████████████████████████████████████████████████████████████████████████████████████████| 575/575 [14:43<00:00,  1.54s/it]\n",
      "100%|████████████████████████████████████████████████████████████████████████████████████████████████████████████████████████████████████████████████| 144/144 [03:16<00:00,  1.37s/it]\n"
     ]
    },
    {
     "name": "stdout",
     "output_type": "stream",
     "text": [
      "Abstract   Intro      Main       Method     Summary    Caption   \n",
      "4/156      93/361     1325/1584  3/399      4/190      744/757   \n",
      "Epoch: 002, Train Loss: 0.9776461, Val Loss: 1.1498353, Val Acc: 0.6304032, Val Precision: 0.5892487, Val Recall: 0.3551912, Val F1: 0.3281755 \n",
      "Validation loss decreased (1.238407 --> 1.149835). \n"
     ]
    },
    {
     "name": "stderr",
     "output_type": "stream",
     "text": [
      " 44%|██████████████████████████████████████████████████████████████▊                                                                                 | 251/575 [06:25<08:18,  1.54s/it]wandb: Network error (ReadTimeout), entering retry loop.\n",
      "100%|████████████████████████████████████████████████████████████████████████████████████████████████████████████████████████████████████████████████| 575/575 [14:43<00:00,  1.54s/it]\n",
      "100%|████████████████████████████████████████████████████████████████████████████████████████████████████████████████████████████████████████████████| 144/144 [03:16<00:00,  1.36s/it]\n"
     ]
    },
    {
     "name": "stdout",
     "output_type": "stream",
     "text": [
      "Abstract   Intro      Main       Method     Summary    Caption   \n",
      "21/156     162/361    1322/1584  45/399     16/190     743/757   \n",
      "Epoch: 003, Train Loss: 0.8622077, Val Loss: 0.9907153, Val Acc: 0.6698578, Val Precision: 0.6214391, Val Recall: 0.4327439, Val F1: 0.4381662 \n",
      "Validation loss decreased (1.149835 --> 0.990715). \n"
     ]
    },
    {
     "name": "stderr",
     "output_type": "stream",
     "text": [
      "100%|████████████████████████████████████████████████████████████████████████████████████████████████████████████████████████████████████████████████| 575/575 [14:43<00:00,  1.54s/it]\n",
      "100%|████████████████████████████████████████████████████████████████████████████████████████████████████████████████████████████████████████████████| 144/144 [03:16<00:00,  1.37s/it]\n"
     ]
    },
    {
     "name": "stdout",
     "output_type": "stream",
     "text": [
      "Abstract   Intro      Main       Method     Summary    Caption   \n",
      "26/156     162/361    1413/1584  61/399     48/190     733/757   \n",
      "Epoch: 004, Train Loss: 0.7969416, Val Loss: 0.8478582, Val Acc: 0.7087322, Val Precision: 0.6476265, Val Recall: 0.4802125, Val F1: 0.5055318 \n",
      "Validation loss decreased (0.990715 --> 0.847858). \n"
     ]
    },
    {
     "name": "stderr",
     "output_type": "stream",
     "text": [
      "100%|████████████████████████████████████████████████████████████████████████████████████████████████████████████████████████████████████████████████| 575/575 [14:43<00:00,  1.54s/it]\n",
      "100%|████████████████████████████████████████████████████████████████████████████████████████████████████████████████████████████████████████████████| 144/144 [03:16<00:00,  1.37s/it]\n"
     ]
    },
    {
     "name": "stdout",
     "output_type": "stream",
     "text": [
      "Abstract   Intro      Main       Method     Summary    Caption   \n",
      "51/156     203/361    1433/1584  35/399     62/190     728/757   \n",
      "Epoch: 005, Train Loss: 0.7547465, Val Loss: 0.8144031, Val Acc: 0.7287496, Val Precision: 0.6737669, Val Recall: 0.5282746, Val F1: 0.5492318 \n",
      "Validation loss decreased (0.847858 --> 0.814403). \n"
     ]
    },
    {
     "name": "stderr",
     "output_type": "stream",
     "text": [
      "100%|████████████████████████████████████████████████████████████████████████████████████████████████████████████████████████████████████████████████| 575/575 [14:43<00:00,  1.54s/it]\n",
      "100%|████████████████████████████████████████████████████████████████████████████████████████████████████████████████████████████████████████████████| 144/144 [03:16<00:00,  1.37s/it]\n"
     ]
    },
    {
     "name": "stdout",
     "output_type": "stream",
     "text": [
      "Abstract   Intro      Main       Method     Summary    Caption   \n",
      "83/156     219/361    1375/1584  83/399     82/190     726/757   \n",
      "Epoch: 006, Train Loss: 0.7308310, Val Loss: 0.7426196, Val Acc: 0.7449956, Val Precision: 0.6819626, Val Recall: 0.6009005, Val F1: 0.6190685 \n",
      "Validation loss decreased (0.814403 --> 0.742620). \n"
     ]
    },
    {
     "name": "stderr",
     "output_type": "stream",
     "text": [
      "100%|████████████████████████████████████████████████████████████████████████████████████████████████████████████████████████████████████████████████| 575/575 [14:42<00:00,  1.54s/it]\n",
      "100%|████████████████████████████████████████████████████████████████████████████████████████████████████████████████████████████████████████████████| 144/144 [03:16<00:00,  1.37s/it]\n"
     ]
    },
    {
     "name": "stdout",
     "output_type": "stream",
     "text": [
      "Abstract   Intro      Main       Method     Summary    Caption   \n",
      "57/156     216/361    1333/1584  88/399     87/190     749/757   \n",
      "Epoch: 007, Train Loss: 0.7045229, Val Loss: 0.7893258, Val Acc: 0.7339716, Val Precision: 0.6874643, Val Recall: 0.5788568, Val F1: 0.6041189 \n",
      "EarlyStopping counter: 1 out of 10\n"
     ]
    },
    {
     "name": "stderr",
     "output_type": "stream",
     "text": [
      "100%|████████████████████████████████████████████████████████████████████████████████████████████████████████████████████████████████████████████████| 575/575 [14:43<00:00,  1.54s/it]\n",
      "100%|████████████████████████████████████████████████████████████████████████████████████████████████████████████████████████████████████████████████| 144/144 [03:16<00:00,  1.37s/it]\n"
     ]
    },
    {
     "name": "stdout",
     "output_type": "stream",
     "text": [
      "Abstract   Intro      Main       Method     Summary    Caption   \n",
      "34/156     197/361    1441/1584  88/399     94/190     728/757   \n",
      "Epoch: 008, Train Loss: 0.6788113, Val Loss: 0.7508247, Val Acc: 0.7490572, Val Precision: 0.7342555, Val Recall: 0.5583927, Val F1: 0.5975788 \n",
      "EarlyStopping counter: 2 out of 10\n"
     ]
    },
    {
     "name": "stderr",
     "output_type": "stream",
     "text": [
      "100%|████████████████████████████████████████████████████████████████████████████████████████████████████████████████████████████████████████████████| 575/575 [14:43<00:00,  1.54s/it]\n",
      "100%|████████████████████████████████████████████████████████████████████████████████████████████████████████████████████████████████████████████████| 144/144 [03:16<00:00,  1.37s/it]\n"
     ]
    },
    {
     "name": "stdout",
     "output_type": "stream",
     "text": [
      "Abstract   Intro      Main       Method     Summary    Caption   \n",
      "63/156     217/361    1399/1584  98/399     93/190     736/757   \n",
      "Epoch: 009, Train Loss: 0.6587839, Val Loss: 0.7112952, Val Acc: 0.7560197, Val Precision: 0.7328528, Val Recall: 0.5992513, Val F1: 0.6369345 \n",
      "Validation loss decreased (0.742620 --> 0.711295). \n"
     ]
    },
    {
     "name": "stderr",
     "output_type": "stream",
     "text": [
      "100%|████████████████████████████████████████████████████████████████████████████████████████████████████████████████████████████████████████████████| 575/575 [14:43<00:00,  1.54s/it]\n",
      "100%|████████████████████████████████████████████████████████████████████████████████████████████████████████████████████████████████████████████████| 144/144 [03:16<00:00,  1.36s/it]\n"
     ]
    },
    {
     "name": "stdout",
     "output_type": "stream",
     "text": [
      "Abstract   Intro      Main       Method     Summary    Caption   \n",
      "58/156     210/361    1419/1584  110/399    96/190     738/757   \n",
      "Epoch: 010, Train Loss: 0.6429032, Val Loss: 0.6906205, Val Acc: 0.7632724, Val Precision: 0.7463707, Val Recall: 0.6008665, Val F1: 0.6434015 \n",
      "Validation loss decreased (0.711295 --> 0.690621). \n"
     ]
    },
    {
     "name": "stderr",
     "output_type": "stream",
     "text": [
      "100%|████████████████████████████████████████████████████████████████████████████████████████████████████████████████████████████████████████████████| 575/575 [14:43<00:00,  1.54s/it]\n",
      "100%|████████████████████████████████████████████████████████████████████████████████████████████████████████████████████████████████████████████████| 144/144 [03:16<00:00,  1.37s/it]\n"
     ]
    },
    {
     "name": "stdout",
     "output_type": "stream",
     "text": [
      "Abstract   Intro      Main       Method     Summary    Caption   \n",
      "75/156     179/361    1433/1584  118/399    93/190     739/757   \n",
      "Epoch: 011, Train Loss: 0.6374149, Val Loss: 0.6939998, Val Acc: 0.7650131, Val Precision: 0.7511827, Val Recall: 0.6071201, Val F1: 0.6539591 \n",
      "EarlyStopping counter: 1 out of 10\n"
     ]
    },
    {
     "name": "stderr",
     "output_type": "stream",
     "text": [
      "100%|████████████████████████████████████████████████████████████████████████████████████████████████████████████████████████████████████████████████| 575/575 [14:43<00:00,  1.54s/it]\n",
      "100%|████████████████████████████████████████████████████████████████████████████████████████████████████████████████████████████████████████████████| 144/144 [03:16<00:00,  1.37s/it]\n"
     ]
    },
    {
     "name": "stdout",
     "output_type": "stream",
     "text": [
      "Abstract   Intro      Main       Method     Summary    Caption   \n",
      "62/156     214/361    1394/1584  127/399    93/190     745/757   \n",
      "Epoch: 012, Train Loss: 0.6240423, Val Loss: 0.6974709, Val Acc: 0.7644328, Val Precision: 0.7478608, Val Recall: 0.6103669, Val F1: 0.6523142 \n",
      "EarlyStopping counter: 2 out of 10\n"
     ]
    },
    {
     "name": "stderr",
     "output_type": "stream",
     "text": [
      "100%|████████████████████████████████████████████████████████████████████████████████████████████████████████████████████████████████████████████████| 575/575 [14:43<00:00,  1.54s/it]\n",
      "100%|████████████████████████████████████████████████████████████████████████████████████████████████████████████████████████████████████████████████| 144/144 [03:16<00:00,  1.37s/it]\n"
     ]
    },
    {
     "name": "stdout",
     "output_type": "stream",
     "text": [
      "Abstract   Intro      Main       Method     Summary    Caption   \n",
      "86/156     204/361    1375/1584  126/399    99/190     745/757   \n",
      "Epoch: 013, Train Loss: 0.6179253, Val Loss: 0.6760668, Val Acc: 0.7644328, Val Precision: 0.7230952, Val Recall: 0.6342374, Val F1: 0.6649161 \n",
      "Validation loss decreased (0.690621 --> 0.676067). \n"
     ]
    },
    {
     "name": "stderr",
     "output_type": "stream",
     "text": [
      "100%|████████████████████████████████████████████████████████████████████████████████████████████████████████████████████████████████████████████████| 575/575 [14:43<00:00,  1.54s/it]\n",
      "100%|████████████████████████████████████████████████████████████████████████████████████████████████████████████████████████████████████████████████| 144/144 [03:16<00:00,  1.36s/it]\n"
     ]
    },
    {
     "name": "stdout",
     "output_type": "stream",
     "text": [
      "Abstract   Intro      Main       Method     Summary    Caption   \n",
      "74/156     246/361    1347/1584  110/399    94/190     745/757   \n",
      "Epoch: 014, Train Loss: 0.6062104, Val Loss: 0.6896688, Val Acc: 0.7589208, Val Precision: 0.7414605, Val Recall: 0.6267920, Val F1: 0.6557544 \n",
      "EarlyStopping counter: 1 out of 10\n"
     ]
    },
    {
     "name": "stderr",
     "output_type": "stream",
     "text": [
      "100%|████████████████████████████████████████████████████████████████████████████████████████████████████████████████████████████████████████████████| 575/575 [14:43<00:00,  1.54s/it]\n",
      "100%|████████████████████████████████████████████████████████████████████████████████████████████████████████████████████████████████████████████████| 144/144 [03:16<00:00,  1.37s/it]\n"
     ]
    },
    {
     "name": "stdout",
     "output_type": "stream",
     "text": [
      "Abstract   Intro      Main       Method     Summary    Caption   \n",
      "59/156     178/361    1406/1584  132/399    94/190     749/757   \n",
      "Epoch: 015, Train Loss: 0.5992845, Val Loss: 0.7294002, Val Acc: 0.7595010, Val Precision: 0.7499269, Val Recall: 0.5956503, Val F1: 0.6444071 \n",
      "EarlyStopping counter: 2 out of 10\n"
     ]
    },
    {
     "name": "stderr",
     "output_type": "stream",
     "text": [
      "100%|████████████████████████████████████████████████████████████████████████████████████████████████████████████████████████████████████████████████| 575/575 [14:43<00:00,  1.54s/it]\n",
      "100%|████████████████████████████████████████████████████████████████████████████████████████████████████████████████████████████████████████████████| 144/144 [03:16<00:00,  1.37s/it]\n"
     ]
    },
    {
     "name": "stdout",
     "output_type": "stream",
     "text": [
      "Abstract   Intro      Main       Method     Summary    Caption   \n",
      "72/156     220/361    1397/1584  133/399    95/190     740/757   \n",
      "Epoch: 016, Train Loss: 0.5905390, Val Loss: 0.6656368, Val Acc: 0.7708152, Val Precision: 0.7620363, Val Recall: 0.6272962, Val F1: 0.6708709 \n",
      "Validation loss decreased (0.676067 --> 0.665637). \n"
     ]
    },
    {
     "name": "stderr",
     "output_type": "stream",
     "text": [
      "100%|████████████████████████████████████████████████████████████████████████████████████████████████████████████████████████████████████████████████| 575/575 [14:43<00:00,  1.54s/it]\n",
      "100%|████████████████████████████████████████████████████████████████████████████████████████████████████████████████████████████████████████████████| 144/144 [03:16<00:00,  1.37s/it]\n"
     ]
    },
    {
     "name": "stdout",
     "output_type": "stream",
     "text": [
      "Abstract   Intro      Main       Method     Summary    Caption   \n",
      "65/156     221/361    1399/1584  132/399    92/190     740/757   \n",
      "Epoch: 017, Train Loss: 0.5863111, Val Loss: 0.6780668, Val Acc: 0.7684943, Val Precision: 0.7670352, Val Recall: 0.6174404, Val F1: 0.6626766 \n",
      "EarlyStopping counter: 1 out of 10\n"
     ]
    },
    {
     "name": "stderr",
     "output_type": "stream",
     "text": [
      "100%|████████████████████████████████████████████████████████████████████████████████████████████████████████████████████████████████████████████████| 575/575 [14:43<00:00,  1.54s/it]\n",
      "100%|████████████████████████████████████████████████████████████████████████████████████████████████████████████████████████████████████████████████| 144/144 [03:16<00:00,  1.37s/it]\n"
     ]
    },
    {
     "name": "stdout",
     "output_type": "stream",
     "text": [
      "Abstract   Intro      Main       Method     Summary    Caption   \n",
      "89/156     233/361    1377/1584  123/399    93/190     741/757   \n",
      "Epoch: 018, Train Loss: 0.5785746, Val Loss: 0.6636924, Val Acc: 0.7705251, Val Precision: 0.7558227, Val Recall: 0.6436448, Val F1: 0.6771368 \n",
      "Validation loss decreased (0.665637 --> 0.663692). \n"
     ]
    },
    {
     "name": "stderr",
     "output_type": "stream",
     "text": [
      "100%|████████████████████████████████████████████████████████████████████████████████████████████████████████████████████████████████████████████████| 575/575 [14:43<00:00,  1.54s/it]\n",
      "100%|████████████████████████████████████████████████████████████████████████████████████████████████████████████████████████████████████████████████| 144/144 [03:16<00:00,  1.37s/it]\n"
     ]
    },
    {
     "name": "stdout",
     "output_type": "stream",
     "text": [
      "Abstract   Intro      Main       Method     Summary    Caption   \n",
      "80/156     244/361    1359/1584  133/399    100/190    749/757   \n",
      "Epoch: 019, Train Loss: 0.5638428, Val Loss: 0.6735652, Val Acc: 0.7731361, Val Precision: 0.7546131, Val Recall: 0.6492927, Val F1: 0.6812525 \n",
      "EarlyStopping counter: 1 out of 10\n"
     ]
    },
    {
     "name": "stderr",
     "output_type": "stream",
     "text": [
      "100%|████████████████████████████████████████████████████████████████████████████████████████████████████████████████████████████████████████████████| 575/575 [14:43<00:00,  1.54s/it]\n",
      "100%|████████████████████████████████████████████████████████████████████████████████████████████████████████████████████████████████████████████████| 144/144 [03:16<00:00,  1.37s/it]\n"
     ]
    },
    {
     "name": "stdout",
     "output_type": "stream",
     "text": [
      "Abstract   Intro      Main       Method     Summary    Caption   \n",
      "62/156     216/361    1419/1584  114/399    92/190     747/757   \n",
      "Epoch: 020, Train Loss: 0.5600818, Val Loss: 0.6936833, Val Acc: 0.7687845, Val Precision: 0.7744514, Val Recall: 0.6080537, Val F1: 0.6554167 \n",
      "EarlyStopping counter: 2 out of 10\n"
     ]
    },
    {
     "name": "stderr",
     "output_type": "stream",
     "text": [
      "100%|████████████████████████████████████████████████████████████████████████████████████████████████████████████████████████████████████████████████| 575/575 [14:43<00:00,  1.54s/it]\n",
      "100%|████████████████████████████████████████████████████████████████████████████████████████████████████████████████████████████████████████████████| 144/144 [03:16<00:00,  1.37s/it]\n"
     ]
    },
    {
     "name": "stdout",
     "output_type": "stream",
     "text": [
      "Abstract   Intro      Main       Method     Summary    Caption   \n",
      "89/156     219/361    1408/1584  126/399    98/190     743/757   \n",
      "Epoch: 021, Train Loss: 0.5503881, Val Loss: 0.6478255, Val Acc: 0.7783580, Val Precision: 0.7728738, Val Recall: 0.6465225, Val F1: 0.6881890 \n",
      "Validation loss decreased (0.663692 --> 0.647826). \n"
     ]
    },
    {
     "name": "stderr",
     "output_type": "stream",
     "text": [
      "100%|████████████████████████████████████████████████████████████████████████████████████████████████████████████████████████████████████████████████| 575/575 [14:43<00:00,  1.54s/it]\n",
      "100%|████████████████████████████████████████████████████████████████████████████████████████████████████████████████████████████████████████████████| 144/144 [03:16<00:00,  1.37s/it]\n"
     ]
    },
    {
     "name": "stdout",
     "output_type": "stream",
     "text": [
      "Abstract   Intro      Main       Method     Summary    Caption   \n",
      "86/156     240/361    1389/1584  132/399    93/190     742/757   \n",
      "Epoch: 022, Train Loss: 0.5469448, Val Loss: 0.6513510, Val Acc: 0.7780679, Val Precision: 0.7725664, Val Recall: 0.6489136, Val F1: 0.6875775 \n",
      "EarlyStopping counter: 1 out of 10\n"
     ]
    },
    {
     "name": "stderr",
     "output_type": "stream",
     "text": [
      "100%|████████████████████████████████████████████████████████████████████████████████████████████████████████████████████████████████████████████████| 575/575 [14:43<00:00,  1.54s/it]\n",
      "100%|████████████████████████████████████████████████████████████████████████████████████████████████████████████████████████████████████████████████| 144/144 [03:16<00:00,  1.36s/it]\n"
     ]
    },
    {
     "name": "stdout",
     "output_type": "stream",
     "text": [
      "Abstract   Intro      Main       Method     Summary    Caption   \n",
      "88/156     246/361    1354/1584  130/399    101/190    746/757   \n",
      "Epoch: 023, Train Loss: 0.5371779, Val Loss: 0.6711150, Val Acc: 0.7731361, Val Precision: 0.7550266, Val Recall: 0.6572006, Val F1: 0.6884297 \n",
      "EarlyStopping counter: 2 out of 10\n"
     ]
    },
    {
     "name": "stderr",
     "output_type": "stream",
     "text": [
      "100%|████████████████████████████████████████████████████████████████████████████████████████████████████████████████████████████████████████████████| 575/575 [14:43<00:00,  1.54s/it]\n",
      "100%|████████████████████████████████████████████████████████████████████████████████████████████████████████████████████████████████████████████████| 144/144 [03:16<00:00,  1.37s/it]\n"
     ]
    },
    {
     "name": "stdout",
     "output_type": "stream",
     "text": [
      "Abstract   Intro      Main       Method     Summary    Caption   \n",
      "69/156     247/361    1380/1584  138/399    103/190    742/757   \n",
      "Epoch: 024, Train Loss: 0.5293170, Val Loss: 0.6484937, Val Acc: 0.7771976, Val Precision: 0.7647387, Val Recall: 0.6443142, Val F1: 0.6810549 \n",
      "EarlyStopping counter: 3 out of 10\n"
     ]
    },
    {
     "name": "stderr",
     "output_type": "stream",
     "text": [
      "100%|████████████████████████████████████████████████████████████████████████████████████████████████████████████████████████████████████████████████| 575/575 [14:43<00:00,  1.54s/it]\n",
      "100%|████████████████████████████████████████████████████████████████████████████████████████████████████████████████████████████████████████████████| 144/144 [03:16<00:00,  1.37s/it]\n"
     ]
    },
    {
     "name": "stdout",
     "output_type": "stream",
     "text": [
      "Abstract   Intro      Main       Method     Summary    Caption   \n",
      "89/156     242/361    1357/1584  141/399    103/190    749/757   \n",
      "Epoch: 025, Train Loss: 0.5183765, Val Loss: 0.6678792, Val Acc: 0.7777778, Val Precision: 0.7618832, Val Recall: 0.6637476, Val F1: 0.6967396 \n",
      "EarlyStopping counter: 4 out of 10\n"
     ]
    },
    {
     "name": "stderr",
     "output_type": "stream",
     "text": [
      "100%|████████████████████████████████████████████████████████████████████████████████████████████████████████████████████████████████████████████████| 575/575 [14:43<00:00,  1.54s/it]\n",
      "100%|████████████████████████████████████████████████████████████████████████████████████████████████████████████████████████████████████████████████| 144/144 [03:16<00:00,  1.37s/it]\n"
     ]
    },
    {
     "name": "stdout",
     "output_type": "stream",
     "text": [
      "Abstract   Intro      Main       Method     Summary    Caption   \n",
      "82/156     228/361    1409/1584  120/399    100/190    744/757   \n",
      "Epoch: 026, Train Loss: 0.5159899, Val Loss: 0.6547602, Val Acc: 0.7783580, Val Precision: 0.7702850, Val Recall: 0.6427725, Val F1: 0.6825871 \n",
      "EarlyStopping counter: 5 out of 10\n"
     ]
    },
    {
     "name": "stderr",
     "output_type": "stream",
     "text": [
      "100%|████████████████████████████████████████████████████████████████████████████████████████████████████████████████████████████████████████████████| 575/575 [14:43<00:00,  1.54s/it]\n",
      "100%|████████████████████████████████████████████████████████████████████████████████████████████████████████████████████████████████████████████████| 144/144 [03:16<00:00,  1.36s/it]\n"
     ]
    },
    {
     "name": "stdout",
     "output_type": "stream",
     "text": [
      "Abstract   Intro      Main       Method     Summary    Caption   \n",
      "67/156     251/361    1310/1584  159/399    105/190    745/757   \n",
      "Epoch: 027, Train Loss: 0.5124439, Val Loss: 0.6709372, Val Acc: 0.7650131, Val Precision: 0.7377363, Val Recall: 0.6478457, Val F1: 0.6745784 \n",
      "EarlyStopping counter: 6 out of 10\n"
     ]
    },
    {
     "name": "stderr",
     "output_type": "stream",
     "text": [
      "100%|████████████████████████████████████████████████████████████████████████████████████████████████████████████████████████████████████████████████| 575/575 [14:42<00:00,  1.54s/it]\n",
      "100%|████████████████████████████████████████████████████████████████████████████████████████████████████████████████████████████████████████████████| 144/144 [03:16<00:00,  1.37s/it]\n"
     ]
    },
    {
     "name": "stdout",
     "output_type": "stream",
     "text": [
      "Abstract   Intro      Main       Method     Summary    Caption   \n",
      "90/156     232/361    1405/1584  126/399    97/190     745/757   \n",
      "Epoch: 028, Train Loss: 0.5035502, Val Loss: 0.6458044, Val Acc: 0.7818393, Val Precision: 0.7762090, Val Recall: 0.6528402, Val F1: 0.6922501 \n",
      "Validation loss decreased (0.647826 --> 0.645804). \n"
     ]
    },
    {
     "name": "stderr",
     "output_type": "stream",
     "text": [
      "100%|████████████████████████████████████████████████████████████████████████████████████████████████████████████████████████████████████████████████| 575/575 [14:43<00:00,  1.54s/it]\n",
      "100%|████████████████████████████████████████████████████████████████████████████████████████████████████████████████████████████████████████████████| 144/144 [03:16<00:00,  1.36s/it]\n"
     ]
    },
    {
     "name": "stdout",
     "output_type": "stream",
     "text": [
      "Abstract   Intro      Main       Method     Summary    Caption   \n",
      "86/156     232/361    1408/1584  127/399    100/190    741/757   \n",
      "Epoch: 029, Train Loss: 0.5036080, Val Loss: 0.6438702, Val Acc: 0.7815492, Val Precision: 0.7666130, Val Recall: 0.6510509, Val F1: 0.6898261 \n",
      "Validation loss decreased (0.645804 --> 0.643870). \n"
     ]
    },
    {
     "name": "stderr",
     "output_type": "stream",
     "text": [
      "100%|████████████████████████████████████████████████████████████████████████████████████████████████████████████████████████████████████████████████| 575/575 [14:43<00:00,  1.54s/it]\n",
      "100%|████████████████████████████████████████████████████████████████████████████████████████████████████████████████████████████████████████████████| 144/144 [03:16<00:00,  1.37s/it]\n"
     ]
    },
    {
     "name": "stdout",
     "output_type": "stream",
     "text": [
      "Abstract   Intro      Main       Method     Summary    Caption   \n",
      "92/156     235/361    1408/1584  116/399    104/190    741/757   \n",
      "Epoch: 030, Train Loss: 0.4985919, Val Loss: 0.6430467, Val Acc: 0.7821294, Val Precision: 0.7686367, Val Recall: 0.6577602, Val F1: 0.6924078 \n",
      "Validation loss decreased (0.643870 --> 0.643047). \n"
     ]
    },
    {
     "name": "stderr",
     "output_type": "stream",
     "text": [
      "100%|████████████████████████████████████████████████████████████████████████████████████████████████████████████████████████████████████████████████| 575/575 [14:43<00:00,  1.54s/it]\n",
      "100%|████████████████████████████████████████████████████████████████████████████████████████████████████████████████████████████████████████████████| 144/144 [03:16<00:00,  1.37s/it]\n"
     ]
    },
    {
     "name": "stdout",
     "output_type": "stream",
     "text": [
      "Abstract   Intro      Main       Method     Summary    Caption   \n",
      "88/156     241/361    1348/1584  150/399    105/190    746/757   \n",
      "Epoch: 031, Train Loss: 0.4864612, Val Loss: 0.6536101, Val Acc: 0.7769075, Val Precision: 0.7512841, Val Recall: 0.6661238, Val F1: 0.6963144 \n",
      "EarlyStopping counter: 1 out of 10\n"
     ]
    },
    {
     "name": "stderr",
     "output_type": "stream",
     "text": [
      "100%|████████████████████████████████████████████████████████████████████████████████████████████████████████████████████████████████████████████████| 575/575 [14:43<00:00,  1.54s/it]\n",
      "100%|████████████████████████████████████████████████████████████████████████████████████████████████████████████████████████████████████████████████| 144/144 [03:16<00:00,  1.37s/it]\n"
     ]
    },
    {
     "name": "stdout",
     "output_type": "stream",
     "text": [
      "Abstract   Intro      Main       Method     Summary    Caption   \n",
      "72/156     237/361    1404/1584  123/399    95/190     744/757   \n",
      "Epoch: 032, Train Loss: 0.4819513, Val Loss: 0.6884754, Val Acc: 0.7760371, Val Precision: 0.7782629, Val Recall: 0.6325849, Val F1: 0.6746717 \n",
      "EarlyStopping counter: 2 out of 10\n"
     ]
    },
    {
     "name": "stderr",
     "output_type": "stream",
     "text": [
      "100%|████████████████████████████████████████████████████████████████████████████████████████████████████████████████████████████████████████████████| 575/575 [14:43<00:00,  1.54s/it]\n",
      "100%|████████████████████████████████████████████████████████████████████████████████████████████████████████████████████████████████████████████████| 144/144 [03:16<00:00,  1.36s/it]\n"
     ]
    },
    {
     "name": "stdout",
     "output_type": "stream",
     "text": [
      "Abstract   Intro      Main       Method     Summary    Caption   \n",
      "85/156     239/361    1396/1584  130/399    103/190    744/757   \n",
      "Epoch: 033, Train Loss: 0.4807619, Val Loss: 0.6607001, Val Acc: 0.7824195, Val Precision: 0.7706008, Val Recall: 0.6564969, Val F1: 0.6936668 \n",
      "EarlyStopping counter: 3 out of 10\n"
     ]
    },
    {
     "name": "stderr",
     "output_type": "stream",
     "text": [
      "100%|████████████████████████████████████████████████████████████████████████████████████████████████████████████████████████████████████████████████| 575/575 [14:42<00:00,  1.54s/it]\n",
      "100%|████████████████████████████████████████████████████████████████████████████████████████████████████████████████████████████████████████████████| 144/144 [03:16<00:00,  1.37s/it]\n"
     ]
    },
    {
     "name": "stdout",
     "output_type": "stream",
     "text": [
      "Abstract   Intro      Main       Method     Summary    Caption   \n",
      "83/156     240/361    1404/1584  111/399    111/190    744/757   \n",
      "Epoch: 034, Train Loss: 0.4711772, Val Loss: 0.6604211, Val Acc: 0.7812591, Val Precision: 0.7649295, Val Recall: 0.6547446, Val F1: 0.6877892 \n",
      "EarlyStopping counter: 4 out of 10\n"
     ]
    },
    {
     "name": "stderr",
     "output_type": "stream",
     "text": [
      "100%|████████████████████████████████████████████████████████████████████████████████████████████████████████████████████████████████████████████████| 575/575 [14:43<00:00,  1.54s/it]\n",
      "100%|████████████████████████████████████████████████████████████████████████████████████████████████████████████████████████████████████████████████| 144/144 [03:16<00:00,  1.37s/it]\n"
     ]
    },
    {
     "name": "stdout",
     "output_type": "stream",
     "text": [
      "Abstract   Intro      Main       Method     Summary    Caption   \n",
      "96/156     235/361    1389/1584  139/399    104/190    741/757   \n",
      "Epoch: 035, Train Loss: 0.4682474, Val Loss: 0.6502342, Val Acc: 0.7844502, Val Precision: 0.7586718, Val Recall: 0.6696419, Val F1: 0.7013976 \n",
      "EarlyStopping counter: 5 out of 10\n"
     ]
    },
    {
     "name": "stderr",
     "output_type": "stream",
     "text": [
      "100%|████████████████████████████████████████████████████████████████████████████████████████████████████████████████████████████████████████████████| 575/575 [14:42<00:00,  1.54s/it]\n",
      "100%|████████████████████████████████████████████████████████████████████████████████████████████████████████████████████████████████████████████████| 144/144 [03:16<00:00,  1.36s/it]\n"
     ]
    },
    {
     "name": "stdout",
     "output_type": "stream",
     "text": [
      "Abstract   Intro      Main       Method     Summary    Caption   \n",
      "95/156     235/361    1379/1584  135/399    104/190    745/757   \n",
      "Epoch: 036, Train Loss: 0.4561465, Val Loss: 0.6666365, Val Acc: 0.7812591, Val Precision: 0.7611931, Val Recall: 0.6667312, Val F1: 0.6997861 \n",
      "EarlyStopping counter: 6 out of 10\n"
     ]
    },
    {
     "name": "stderr",
     "output_type": "stream",
     "text": [
      "100%|████████████████████████████████████████████████████████████████████████████████████████████████████████████████████████████████████████████████| 575/575 [14:43<00:00,  1.54s/it]\n",
      "100%|████████████████████████████████████████████████████████████████████████████████████████████████████████████████████████████████████████████████| 144/144 [03:16<00:00,  1.37s/it]\n"
     ]
    },
    {
     "name": "stdout",
     "output_type": "stream",
     "text": [
      "Abstract   Intro      Main       Method     Summary    Caption   \n",
      "89/156     241/361    1367/1584  144/399    104/190    743/757   \n",
      "Epoch: 037, Train Loss: 0.4560283, Val Loss: 0.6702304, Val Acc: 0.7798085, Val Precision: 0.7561264, Val Recall: 0.6651474, Val F1: 0.6976061 \n",
      "EarlyStopping counter: 7 out of 10\n"
     ]
    },
    {
     "name": "stderr",
     "output_type": "stream",
     "text": [
      "100%|████████████████████████████████████████████████████████████████████████████████████████████████████████████████████████████████████████████████| 575/575 [14:42<00:00,  1.54s/it]\n",
      "100%|████████████████████████████████████████████████████████████████████████████████████████████████████████████████████████████████████████████████| 144/144 [03:16<00:00,  1.36s/it]\n"
     ]
    },
    {
     "name": "stdout",
     "output_type": "stream",
     "text": [
      "Abstract   Intro      Main       Method     Summary    Caption   \n",
      "88/156     259/361    1355/1584  128/399    109/190    744/757   \n",
      "Epoch: 038, Train Loss: 0.4519119, Val Loss: 0.6645460, Val Acc: 0.7783580, Val Precision: 0.7502651, Val Recall: 0.6690494, Val F1: 0.6941611 \n",
      "EarlyStopping counter: 8 out of 10\n"
     ]
    },
    {
     "name": "stderr",
     "output_type": "stream",
     "text": [
      "100%|████████████████████████████████████████████████████████████████████████████████████████████████████████████████████████████████████████████████| 575/575 [14:42<00:00,  1.54s/it]\n",
      "100%|████████████████████████████████████████████████████████████████████████████████████████████████████████████████████████████████████████████████| 144/144 [03:16<00:00,  1.37s/it]\n"
     ]
    },
    {
     "name": "stdout",
     "output_type": "stream",
     "text": [
      "Abstract   Intro      Main       Method     Summary    Caption   \n",
      "83/156     238/361    1404/1584  112/399    105/190    745/757   \n",
      "Epoch: 039, Train Loss: 0.4477857, Val Loss: 0.6723396, Val Acc: 0.7795184, Val Precision: 0.7642608, Val Recall: 0.6491960, Val F1: 0.6837506 \n",
      "EarlyStopping counter: 9 out of 10\n"
     ]
    },
    {
     "name": "stderr",
     "output_type": "stream",
     "text": [
      "100%|████████████████████████████████████████████████████████████████████████████████████████████████████████████████████████████████████████████████| 575/575 [14:43<00:00,  1.54s/it]\n",
      "100%|████████████████████████████████████████████████████████████████████████████████████████████████████████████████████████████████████████████████| 144/144 [03:16<00:00,  1.37s/it]\n"
     ]
    },
    {
     "name": "stdout",
     "output_type": "stream",
     "text": [
      "Abstract   Intro      Main       Method     Summary    Caption   \n",
      "103/156    241/361    1366/1584  119/399    108/190    747/757   \n",
      "Epoch: 040, Train Loss: 0.4471419, Val Loss: 0.6743990, Val Acc: 0.7786481, Val Precision: 0.7376733, Val Recall: 0.6739461, Val F1: 0.6919128 \n",
      "EarlyStopping counter: 10 out of 10\n",
      "Early stopping\n",
      "\n"
     ]
    },
    {
     "data": {
      "text/html": [
       "Waiting for W&B process to finish... <strong style=\"color:green\">(success).</strong>"
      ],
      "text/plain": [
       "<IPython.core.display.HTML object>"
      ]
     },
     "metadata": {},
     "output_type": "display_data"
    },
    {
     "data": {
      "text/html": [
       "<style>\n",
       "    table.wandb td:nth-child(1) { padding: 0 10px; text-align: right }\n",
       "    .wandb-row { display: flex; flex-direction: row; flex-wrap: wrap; width: 100% }\n",
       "    .wandb-col { display: flex; flex-direction: column; flex-basis: 100%; flex: 1; padding: 10px; }\n",
       "    </style>\n",
       "<div class=\"wandb-row\"><div class=\"wandb-col\"><h3>Run history:</h3><br/><table class=\"wandb\"><tr><td>train_loss</td><td>█▅▄▄▄▃▃▃▃▃▃▂▂▂▂▂▂▂▂▂▂▂▂▂▂▂▂▁▁▁▁▁▁▁▁▁▁▁▁▁</td></tr><tr><td>val_acc</td><td>▁▂▃▅▆▆▆▇▇▇▇▇▇▇▇▇▇▇█▇██████▇█████████████</td></tr><tr><td>val_f1</td><td>▁▂▄▅▆▇▆▆▇▇▇▇▇▇▇█▇██▇████████████████████</td></tr><tr><td>val_loss</td><td>█▇▅▃▃▂▃▂▂▂▂▂▁▂▂▁▁▁▁▂▁▁▁▁▁▁▁▁▁▁▁▂▁▁▁▁▁▁▁▁</td></tr><tr><td>val_precision</td><td>▁▅▆▆▇▇▇▇▇███▇▇████████████▇████████████▇</td></tr><tr><td>val_recall</td><td>▁▂▃▄▅▇▆▆▇▇▇▇▇▇▇▇▇▇█▇▇██▇█▇█████▇████████</td></tr></table><br/></div><div class=\"wandb-col\"><h3>Run summary:</h3><br/><table class=\"wandb\"><tr><td>train_loss</td><td>0.44714</td></tr><tr><td>val_acc</td><td>0.77865</td></tr><tr><td>val_f1</td><td>0.69191</td></tr><tr><td>val_loss</td><td>0.6744</td></tr><tr><td>val_precision</td><td>0.73767</td></tr><tr><td>val_recall</td><td>0.67395</td></tr></table><br/></div></div>"
      ],
      "text/plain": [
       "<IPython.core.display.HTML object>"
      ]
     },
     "metadata": {},
     "output_type": "display_data"
    },
    {
     "data": {
      "text/html": [
       "Synced <strong style=\"color:#cdcd00\">lively-wind-6</strong>: <a href=\"https://wandb.ai/ihateml/xlnet_classification/runs/3u75uono\" target=\"_blank\">https://wandb.ai/ihateml/xlnet_classification/runs/3u75uono</a><br/>Synced 7 W&B file(s), 0 media file(s), 0 artifact file(s) and 1 other file(s)"
      ],
      "text/plain": [
       "<IPython.core.display.HTML object>"
      ]
     },
     "metadata": {},
     "output_type": "display_data"
    },
    {
     "data": {
      "text/html": [
       "Find logs at: <code>./wandb/run-20220415_161500-3u75uono/logs</code>"
      ],
      "text/plain": [
       "<IPython.core.display.HTML object>"
      ]
     },
     "metadata": {},
     "output_type": "display_data"
    }
   ],
   "source": [
    "model_name = 'xlnet-base-cased'\n",
    "data_file = './Datasets/check.csv'\n",
    "\n",
    "dropout=0.1\n",
    "lr=1e-5\n",
    "batch_size=24\n",
    "random_state=1000\n",
    "epochs=100\n",
    "data_cut=None\n",
    "max_length=512\n",
    "task_type='scalar'\n",
    "#freeze_layers=3 \n",
    "num_classifier=1\n",
    "\n",
    "wandb_project = 'xlnet_classification'\n",
    "#wandb_project = 'testing'\n",
    "wandb_group = 'freeze_test'\n",
    "wandb_memo = 'freeze layer 개수 testing 중'\n",
    "\n",
    "for i in range(0,11,2):\n",
    "    freeze_layers=i\n",
    "    wandb_name = \"freeze_layer_{0}\".format(freeze_layers)\n",
    "    trainer = NLP_classification(model_name=model_name, max_length=max_length, random_state=random_state, task_type=task_type, freeze_layers=freeze_layers, num_classifier=num_classifier)\n",
    "    trainer.training(data_file, epochs=epochs, batch_size=batch_size, lr=lr, dropout=dropout, data_cut=data_cut, wandb_log=True, wandb_project=wandb_project, wandb_memo=wandb_memo, wandb_name=wandb_name)\n",
    "    wandb.finish()"
   ]
  },
  {
   "cell_type": "code",
   "execution_count": null,
   "id": "16110f36-c5fc-43f2-86eb-c70c0bcc9ef9",
   "metadata": {},
   "outputs": [],
   "source": []
  },
  {
   "cell_type": "markdown",
   "id": "d840a1c2-b024-4a96-9cc3-40bd5cd6583e",
   "metadata": {
    "jp-MarkdownHeadingCollapsed": true,
    "tags": []
   },
   "source": [
    "# num classifier test"
   ]
  },
  {
   "cell_type": "code",
   "execution_count": 2,
   "id": "cc5df121-0088-4953-b0bf-28cd46f879a0",
   "metadata": {
    "tags": []
   },
   "outputs": [
    {
     "name": "stderr",
     "output_type": "stream",
     "text": [
      "Failed to detect the name of this notebook, you can set it manually with the WANDB_NOTEBOOK_NAME environment variable to enable code saving.\n",
      "\u001b[34m\u001b[1mwandb\u001b[0m: Currently logged in as: \u001b[33mihateml\u001b[0m (use `wandb login --relogin` to force relogin)\n"
     ]
    },
    {
     "data": {
      "text/html": [
       "Tracking run with wandb version 0.12.14"
      ],
      "text/plain": [
       "<IPython.core.display.HTML object>"
      ]
     },
     "metadata": {},
     "output_type": "display_data"
    },
    {
     "data": {
      "text/html": [
       "Run data is saved locally in <code>/home/rnwnsgud1234/1.text/textmining/wandb/run-20220416_163042-3p4cha6q</code>"
      ],
      "text/plain": [
       "<IPython.core.display.HTML object>"
      ]
     },
     "metadata": {},
     "output_type": "display_data"
    },
    {
     "data": {
      "text/html": [
       "Syncing run <strong><a href=\"https://wandb.ai/ihateml/xlnet_classification/runs/3p4cha6q\" target=\"_blank\">deft-surf-10</a></strong> to <a href=\"https://wandb.ai/ihateml/xlnet_classification\" target=\"_blank\">Weights & Biases</a> (<a href=\"https://wandb.me/run\" target=\"_blank\">docs</a>)<br/>"
      ],
      "text/plain": [
       "<IPython.core.display.HTML object>"
      ]
     },
     "metadata": {},
     "output_type": "display_data"
    },
    {
     "name": "stderr",
     "output_type": "stream",
     "text": [
      "\u001b[34m\u001b[1mwandb\u001b[0m: \u001b[33mWARNING\u001b[0m Calling wandb.run.save without any arguments is deprecated.Changes to attributes are automatically persisted.\n",
      "100%|████████████████████████████████████████████████████████████████████████████████████████████████████████████████████████████████████████████████| 575/575 [21:36<00:00,  2.25s/it]\n",
      "100%|████████████████████████████████████████████████████████████████████████████████████████████████████████████████████████████████████████████████| 144/144 [03:16<00:00,  1.36s/it]\n"
     ]
    },
    {
     "name": "stdout",
     "output_type": "stream",
     "text": [
      "Abstract   Intro      Main       Method     Summary    Caption   \n",
      "57/156     178/361    1333/1584  73/399     4/190      727/757   \n",
      "Epoch: 001, Train Loss: 1.0343023, Val Loss: 0.8321882, Val Acc: 0.6881346, Val Precision: 0.5559957, Val Recall: 0.4773966, Val F1: 0.4706258 \n",
      "Validation loss decreased (inf --> 0.832188). \n"
     ]
    },
    {
     "name": "stderr",
     "output_type": "stream",
     "text": [
      "100%|████████████████████████████████████████████████████████████████████████████████████████████████████████████████████████████████████████████████| 575/575 [21:35<00:00,  2.25s/it]\n",
      "100%|████████████████████████████████████████████████████████████████████████████████████████████████████████████████████████████████████████████████| 144/144 [03:16<00:00,  1.36s/it]\n"
     ]
    },
    {
     "name": "stdout",
     "output_type": "stream",
     "text": [
      "Abstract   Intro      Main       Method     Summary    Caption   \n",
      "83/156     146/361    1419/1584  106/399    71/190     702/757   \n",
      "Epoch: 002, Train Loss: 0.7402335, Val Loss: 0.7462050, Val Acc: 0.7331012, Val Precision: 0.6381940, Val Recall: 0.5665017, Val F1: 0.5826979 \n",
      "Validation loss decreased (0.832188 --> 0.746205). \n"
     ]
    },
    {
     "name": "stderr",
     "output_type": "stream",
     "text": [
      "100%|████████████████████████████████████████████████████████████████████████████████████████████████████████████████████████████████████████████████| 575/575 [21:35<00:00,  2.25s/it]\n",
      "100%|████████████████████████████████████████████████████████████████████████████████████████████████████████████████████████████████████████████████| 144/144 [03:16<00:00,  1.36s/it]\n"
     ]
    },
    {
     "name": "stdout",
     "output_type": "stream",
     "text": [
      "Abstract   Intro      Main       Method     Summary    Caption   \n",
      "63/156     177/361    1419/1584  124/399    95/190     715/757   \n",
      "Epoch: 003, Train Loss: 0.6328725, Val Loss: 0.6989603, Val Acc: 0.7522483, Val Precision: 0.6793191, Val Recall: 0.5908798, Val F1: 0.6203312 \n",
      "Validation loss decreased (0.746205 --> 0.698960). \n"
     ]
    },
    {
     "name": "stderr",
     "output_type": "stream",
     "text": [
      "100%|████████████████████████████████████████████████████████████████████████████████████████████████████████████████████████████████████████████████| 575/575 [21:35<00:00,  2.25s/it]\n",
      "100%|████████████████████████████████████████████████████████████████████████████████████████████████████████████████████████████████████████████████| 144/144 [03:16<00:00,  1.36s/it]\n"
     ]
    },
    {
     "name": "stdout",
     "output_type": "stream",
     "text": [
      "Abstract   Intro      Main       Method     Summary    Caption   \n",
      "81/156     251/361    1374/1584  156/399    108/190    715/757   \n",
      "Epoch: 004, Train Loss: 0.5561912, Val Loss: 0.6398073, Val Acc: 0.7789382, Val Precision: 0.7196149, Val Recall: 0.6643104, Val F1: 0.6834668 \n",
      "Validation loss decreased (0.698960 --> 0.639807). \n"
     ]
    },
    {
     "name": "stderr",
     "output_type": "stream",
     "text": [
      "100%|████████████████████████████████████████████████████████████████████████████████████████████████████████████████████████████████████████████████| 575/575 [21:35<00:00,  2.25s/it]\n",
      "100%|████████████████████████████████████████████████████████████████████████████████████████████████████████████████████████████████████████████████| 144/144 [03:16<00:00,  1.36s/it]\n"
     ]
    },
    {
     "name": "stdout",
     "output_type": "stream",
     "text": [
      "Abstract   Intro      Main       Method     Summary    Caption   \n",
      "111/156    247/361    1417/1584  98/399     106/190    716/757   \n",
      "Epoch: 005, Train Loss: 0.4721303, Val Loss: 0.6365450, Val Acc: 0.7818393, Val Precision: 0.7319822, Val Recall: 0.6732779, Val F1: 0.6791017 \n",
      "Validation loss decreased (0.639807 --> 0.636545). \n"
     ]
    },
    {
     "name": "stderr",
     "output_type": "stream",
     "text": [
      "100%|████████████████████████████████████████████████████████████████████████████████████████████████████████████████████████████████████████████████| 575/575 [21:35<00:00,  2.25s/it]\n",
      "100%|████████████████████████████████████████████████████████████████████████████████████████████████████████████████████████████████████████████████| 144/144 [03:16<00:00,  1.36s/it]\n"
     ]
    },
    {
     "name": "stdout",
     "output_type": "stream",
     "text": [
      "Abstract   Intro      Main       Method     Summary    Caption   \n",
      "109/156    264/361    1325/1584  191/399    110/190    712/757   \n",
      "Epoch: 006, Train Loss: 0.4095605, Val Loss: 0.6148416, Val Acc: 0.7864810, Val Precision: 0.7249107, Val Recall: 0.7107848, Val F1: 0.7145896 \n",
      "Validation loss decreased (0.636545 --> 0.614842). \n"
     ]
    },
    {
     "name": "stderr",
     "output_type": "stream",
     "text": [
      "100%|████████████████████████████████████████████████████████████████████████████████████████████████████████████████████████████████████████████████| 575/575 [21:35<00:00,  2.25s/it]\n",
      "100%|████████████████████████████████████████████████████████████████████████████████████████████████████████████████████████████████████████████████| 144/144 [03:16<00:00,  1.36s/it]\n"
     ]
    },
    {
     "name": "stdout",
     "output_type": "stream",
     "text": [
      "Abstract   Intro      Main       Method     Summary    Caption   \n",
      "84/156     259/361    1390/1584  163/399    119/190    737/757   \n",
      "Epoch: 007, Train Loss: 0.3578484, Val Loss: 0.6109084, Val Acc: 0.7983754, Val Precision: 0.7474975, Val Recall: 0.6903092, Val F1: 0.7085327 \n",
      "Validation loss decreased (0.614842 --> 0.610908). \n"
     ]
    },
    {
     "name": "stderr",
     "output_type": "stream",
     "text": [
      "100%|████████████████████████████████████████████████████████████████████████████████████████████████████████████████████████████████████████████████| 575/575 [21:35<00:00,  2.25s/it]\n",
      "100%|████████████████████████████████████████████████████████████████████████████████████████████████████████████████████████████████████████████████| 144/144 [03:16<00:00,  1.36s/it]\n"
     ]
    },
    {
     "name": "stdout",
     "output_type": "stream",
     "text": [
      "Abstract   Intro      Main       Method     Summary    Caption   \n",
      "82/156     264/361    1420/1584  152/399    107/190    722/757   \n",
      "Epoch: 008, Train Loss: 0.3209772, Val Loss: 0.6416054, Val Acc: 0.7969249, Val Precision: 0.7623990, Val Recall: 0.6752138, Val F1: 0.7046597 \n",
      "EarlyStopping counter: 1 out of 5\n"
     ]
    },
    {
     "name": "stderr",
     "output_type": "stream",
     "text": [
      "100%|████████████████████████████████████████████████████████████████████████████████████████████████████████████████████████████████████████████████| 575/575 [21:37<00:00,  2.26s/it]\n",
      "100%|████████████████████████████████████████████████████████████████████████████████████████████████████████████████████████████████████████████████| 144/144 [03:16<00:00,  1.36s/it]\n"
     ]
    },
    {
     "name": "stdout",
     "output_type": "stream",
     "text": [
      "Abstract   Intro      Main       Method     Summary    Caption   \n",
      "82/156     259/361    1370/1584  191/399    116/190    732/757   \n",
      "Epoch: 009, Train Loss: 0.2766427, Val Loss: 0.6484213, Val Acc: 0.7977952, Val Precision: 0.7397653, Val Recall: 0.6940316, Val F1: 0.7116759 \n",
      "EarlyStopping counter: 2 out of 5\n"
     ]
    },
    {
     "name": "stderr",
     "output_type": "stream",
     "text": [
      "100%|████████████████████████████████████████████████████████████████████████████████████████████████████████████████████████████████████████████████| 575/575 [21:35<00:00,  2.25s/it]\n",
      "100%|████████████████████████████████████████████████████████████████████████████████████████████████████████████████████████████████████████████████| 144/144 [03:16<00:00,  1.36s/it]\n"
     ]
    },
    {
     "name": "stdout",
     "output_type": "stream",
     "text": [
      "Abstract   Intro      Main       Method     Summary    Caption   \n",
      "86/156     230/361    1408/1584  162/399    117/190    737/757   \n",
      "Epoch: 010, Train Loss: 0.2479406, Val Loss: 0.6889201, Val Acc: 0.7948941, Val Precision: 0.7417910, Val Recall: 0.6787791, Val F1: 0.7034135 \n",
      "EarlyStopping counter: 3 out of 5\n"
     ]
    },
    {
     "name": "stderr",
     "output_type": "stream",
     "text": [
      "100%|████████████████████████████████████████████████████████████████████████████████████████████████████████████████████████████████████████████████| 575/575 [21:35<00:00,  2.25s/it]\n",
      "100%|████████████████████████████████████████████████████████████████████████████████████████████████████████████████████████████████████████████████| 144/144 [03:16<00:00,  1.36s/it]\n"
     ]
    },
    {
     "name": "stdout",
     "output_type": "stream",
     "text": [
      "Abstract   Intro      Main       Method     Summary    Caption   \n",
      "116/156    237/361    1317/1584  203/399    108/190    746/757   \n",
      "Epoch: 011, Train Loss: 0.2130505, Val Loss: 0.7259161, Val Acc: 0.7911227, Val Precision: 0.7178519, Val Recall: 0.7157001, Val F1: 0.7117885 \n",
      "EarlyStopping counter: 4 out of 5\n"
     ]
    },
    {
     "name": "stderr",
     "output_type": "stream",
     "text": [
      "100%|████████████████████████████████████████████████████████████████████████████████████████████████████████████████████████████████████████████████| 575/575 [21:35<00:00,  2.25s/it]\n",
      "100%|████████████████████████████████████████████████████████████████████████████████████████████████████████████████████████████████████████████████| 144/144 [03:16<00:00,  1.36s/it]\n"
     ]
    },
    {
     "name": "stdout",
     "output_type": "stream",
     "text": [
      "Abstract   Intro      Main       Method     Summary    Caption   \n",
      "67/156     275/361    1311/1584  218/399    97/190     736/757   \n",
      "Epoch: 012, Train Loss: 0.1986379, Val Loss: 0.7601506, Val Acc: 0.7844502, Val Precision: 0.7735966, Val Recall: 0.6746771, Val F1: 0.7011857 \n",
      "EarlyStopping counter: 5 out of 5\n",
      "Early stopping\n",
      "\n"
     ]
    },
    {
     "data": {
      "text/html": [
       "Waiting for W&B process to finish... <strong style=\"color:green\">(success).</strong>"
      ],
      "text/plain": [
       "<IPython.core.display.HTML object>"
      ]
     },
     "metadata": {},
     "output_type": "display_data"
    },
    {
     "data": {
      "text/html": [
       "<style>\n",
       "    table.wandb td:nth-child(1) { padding: 0 10px; text-align: right }\n",
       "    .wandb-row { display: flex; flex-direction: row; flex-wrap: wrap; width: 100% }\n",
       "    .wandb-col { display: flex; flex-direction: column; flex-basis: 100%; flex: 1; padding: 10px; }\n",
       "    </style>\n",
       "<div class=\"wandb-row\"><div class=\"wandb-col\"><h3>Run history:</h3><br/><table class=\"wandb\"><tr><td>train_loss</td><td>█▆▅▄▃▃▂▂▂▁▁▁</td></tr><tr><td>val_acc</td><td>▁▄▅▇▇▇█████▇</td></tr><tr><td>val_f1</td><td>▁▄▅▇▇███████</td></tr><tr><td>val_loss</td><td>█▅▄▂▂▁▁▂▂▃▅▆</td></tr><tr><td>val_precision</td><td>▁▄▅▆▇▆▇█▇▇▆█</td></tr><tr><td>val_recall</td><td>▁▄▄▆▇█▇▇▇▇█▇</td></tr></table><br/></div><div class=\"wandb-col\"><h3>Run summary:</h3><br/><table class=\"wandb\"><tr><td>train_loss</td><td>0.19864</td></tr><tr><td>val_acc</td><td>0.78445</td></tr><tr><td>val_f1</td><td>0.70119</td></tr><tr><td>val_loss</td><td>0.76015</td></tr><tr><td>val_precision</td><td>0.7736</td></tr><tr><td>val_recall</td><td>0.67468</td></tr></table><br/></div></div>"
      ],
      "text/plain": [
       "<IPython.core.display.HTML object>"
      ]
     },
     "metadata": {},
     "output_type": "display_data"
    },
    {
     "data": {
      "text/html": [
       "Synced <strong style=\"color:#cdcd00\">deft-surf-10</strong>: <a href=\"https://wandb.ai/ihateml/xlnet_classification/runs/3p4cha6q\" target=\"_blank\">https://wandb.ai/ihateml/xlnet_classification/runs/3p4cha6q</a><br/>Synced 7 W&B file(s), 0 media file(s), 0 artifact file(s) and 1 other file(s)"
      ],
      "text/plain": [
       "<IPython.core.display.HTML object>"
      ]
     },
     "metadata": {},
     "output_type": "display_data"
    },
    {
     "data": {
      "text/html": [
       "Find logs at: <code>./wandb/run-20220416_163042-3p4cha6q/logs</code>"
      ],
      "text/plain": [
       "<IPython.core.display.HTML object>"
      ]
     },
     "metadata": {},
     "output_type": "display_data"
    },
    {
     "name": "stdout",
     "output_type": "stream",
     "text": [
      "huggingface/tokenizers: The current process just got forked, after parallelism has already been used. Disabling parallelism to avoid deadlocks...\n",
      "To disable this warning, you can either:\n",
      "\t- Avoid using `tokenizers` before the fork if possible\n",
      "\t- Explicitly set the environment variable TOKENIZERS_PARALLELISM=(true | false)\n",
      "huggingface/tokenizers: The current process just got forked, after parallelism has already been used. Disabling parallelism to avoid deadlocks...\n",
      "To disable this warning, you can either:\n",
      "\t- Avoid using `tokenizers` before the fork if possible\n",
      "\t- Explicitly set the environment variable TOKENIZERS_PARALLELISM=(true | false)\n"
     ]
    },
    {
     "data": {
      "text/html": [
       "Tracking run with wandb version 0.12.14"
      ],
      "text/plain": [
       "<IPython.core.display.HTML object>"
      ]
     },
     "metadata": {},
     "output_type": "display_data"
    },
    {
     "data": {
      "text/html": [
       "Run data is saved locally in <code>/home/rnwnsgud1234/1.text/textmining/wandb/run-20220416_212940-10ebufv9</code>"
      ],
      "text/plain": [
       "<IPython.core.display.HTML object>"
      ]
     },
     "metadata": {},
     "output_type": "display_data"
    },
    {
     "data": {
      "text/html": [
       "Syncing run <strong><a href=\"https://wandb.ai/ihateml/xlnet_classification/runs/10ebufv9\" target=\"_blank\">sunny-dust-11</a></strong> to <a href=\"https://wandb.ai/ihateml/xlnet_classification\" target=\"_blank\">Weights & Biases</a> (<a href=\"https://wandb.me/run\" target=\"_blank\">docs</a>)<br/>"
      ],
      "text/plain": [
       "<IPython.core.display.HTML object>"
      ]
     },
     "metadata": {},
     "output_type": "display_data"
    },
    {
     "name": "stderr",
     "output_type": "stream",
     "text": [
      "100%|████████████████████████████████████████████████████████████████████████████████████████████████████████████████████████████████████████████████| 575/575 [21:29<00:00,  2.24s/it]\n",
      "100%|████████████████████████████████████████████████████████████████████████████████████████████████████████████████████████████████████████████████| 144/144 [03:15<00:00,  1.36s/it]\n"
     ]
    },
    {
     "name": "stdout",
     "output_type": "stream",
     "text": [
      "Abstract   Intro      Main       Method     Summary    Caption   \n",
      "2/156      178/361    1502/1584  12/399     0/190      650/757   \n",
      "Epoch: 001, Train Loss: 1.0561791, Val Loss: 0.8764530, Val Acc: 0.6800116, Val Precision: 0.4988248, Val Recall: 0.3904759, Val F1: 0.3721077 \n",
      "Validation loss decreased (inf --> 0.876453). \n"
     ]
    },
    {
     "name": "stderr",
     "output_type": "stream",
     "text": [
      "100%|████████████████████████████████████████████████████████████████████████████████████████████████████████████████████████████████████████████████| 575/575 [21:29<00:00,  2.24s/it]\n",
      "100%|████████████████████████████████████████████████████████████████████████████████████████████████████████████████████████████████████████████████| 144/144 [03:15<00:00,  1.36s/it]\n"
     ]
    },
    {
     "name": "stdout",
     "output_type": "stream",
     "text": [
      "Abstract   Intro      Main       Method     Summary    Caption   \n",
      "43/156     135/361    1462/1584  101/399    83/190     694/757   \n",
      "Epoch: 002, Train Loss: 0.7477158, Val Loss: 0.7467144, Val Acc: 0.7304903, Val Precision: 0.6495942, Val Recall: 0.5298890, Val F1: 0.5605041 \n",
      "Validation loss decreased (0.876453 --> 0.746714). \n"
     ]
    },
    {
     "name": "stderr",
     "output_type": "stream",
     "text": [
      "100%|████████████████████████████████████████████████████████████████████████████████████████████████████████████████████████████████████████████████| 575/575 [21:29<00:00,  2.24s/it]\n",
      "100%|████████████████████████████████████████████████████████████████████████████████████████████████████████████████████████████████████████████████| 144/144 [03:15<00:00,  1.36s/it]\n"
     ]
    },
    {
     "name": "stdout",
     "output_type": "stream",
     "text": [
      "Abstract   Intro      Main       Method     Summary    Caption   \n",
      "105/156    214/361    1292/1584  174/399    84/190     728/757   \n",
      "Epoch: 003, Train Loss: 0.6445034, Val Loss: 0.6888596, Val Acc: 0.7534088, Val Precision: 0.6393511, Val Recall: 0.6535696, Val F1: 0.6405418 \n",
      "Validation loss decreased (0.746714 --> 0.688860). \n"
     ]
    },
    {
     "name": "stderr",
     "output_type": "stream",
     "text": [
      "100%|████████████████████████████████████████████████████████████████████████████████████████████████████████████████████████████████████████████████| 575/575 [21:29<00:00,  2.24s/it]\n",
      "100%|████████████████████████████████████████████████████████████████████████████████████████████████████████████████████████████████████████████████| 144/144 [03:15<00:00,  1.36s/it]\n"
     ]
    },
    {
     "name": "stdout",
     "output_type": "stream",
     "text": [
      "Abstract   Intro      Main       Method     Summary    Caption   \n",
      "85/156     268/361    1384/1584  151/399    60/190     693/757   \n",
      "Epoch: 004, Train Loss: 0.5576652, Val Loss: 0.6727527, Val Acc: 0.7661735, Val Precision: 0.7276679, Val Recall: 0.6284471, Val F1: 0.6512647 \n",
      "Validation loss decreased (0.688860 --> 0.672753). \n"
     ]
    },
    {
     "name": "stderr",
     "output_type": "stream",
     "text": [
      "100%|████████████████████████████████████████████████████████████████████████████████████████████████████████████████████████████████████████████████| 575/575 [21:29<00:00,  2.24s/it]\n",
      "100%|████████████████████████████████████████████████████████████████████████████████████████████████████████████████████████████████████████████████| 144/144 [03:15<00:00,  1.36s/it]\n"
     ]
    },
    {
     "name": "stdout",
     "output_type": "stream",
     "text": [
      "Abstract   Intro      Main       Method     Summary    Caption   \n",
      "70/156     249/361    1369/1584  194/399    88/190     690/757   \n",
      "Epoch: 005, Train Loss: 0.4760811, Val Loss: 0.6790760, Val Acc: 0.7716855, Val Precision: 0.7562840, Val Recall: 0.6439337, Val F1: 0.6802289 \n",
      "EarlyStopping counter: 1 out of 5\n"
     ]
    },
    {
     "name": "stderr",
     "output_type": "stream",
     "text": [
      "100%|████████████████████████████████████████████████████████████████████████████████████████████████████████████████████████████████████████████████| 575/575 [21:29<00:00,  2.24s/it]\n",
      "100%|████████████████████████████████████████████████████████████████████████████████████████████████████████████████████████████████████████████████| 144/144 [03:15<00:00,  1.36s/it]\n"
     ]
    },
    {
     "name": "stdout",
     "output_type": "stream",
     "text": [
      "Abstract   Intro      Main       Method     Summary    Caption   \n",
      "83/156     251/361    1331/1584  209/399    101/190    737/757   \n",
      "Epoch: 006, Train Loss: 0.4164630, Val Loss: 0.6193603, Val Acc: 0.7867711, Val Precision: 0.7407666, Val Recall: 0.6827647, Val F1: 0.7048756 \n",
      "Validation loss decreased (0.672753 --> 0.619360). \n"
     ]
    },
    {
     "name": "stderr",
     "output_type": "stream",
     "text": [
      "100%|████████████████████████████████████████████████████████████████████████████████████████████████████████████████████████████████████████████████| 575/575 [21:29<00:00,  2.24s/it]\n",
      "100%|████████████████████████████████████████████████████████████████████████████████████████████████████████████████████████████████████████████████| 144/144 [03:15<00:00,  1.36s/it]\n"
     ]
    },
    {
     "name": "stdout",
     "output_type": "stream",
     "text": [
      "Abstract   Intro      Main       Method     Summary    Caption   \n",
      "114/156    244/361    1252/1584  243/399    105/190    734/757   \n",
      "Epoch: 007, Train Loss: 0.3720596, Val Loss: 0.6545143, Val Acc: 0.7809690, Val Precision: 0.7240537, Val Recall: 0.7213908, Val F1: 0.7180469 \n",
      "EarlyStopping counter: 1 out of 5\n"
     ]
    },
    {
     "name": "stderr",
     "output_type": "stream",
     "text": [
      "100%|████████████████████████████████████████████████████████████████████████████████████████████████████████████████████████████████████████████████| 575/575 [21:32<00:00,  2.25s/it]\n",
      "100%|████████████████████████████████████████████████████████████████████████████████████████████████████████████████████████████████████████████████| 144/144 [03:15<00:00,  1.36s/it]\n"
     ]
    },
    {
     "name": "stdout",
     "output_type": "stream",
     "text": [
      "Abstract   Intro      Main       Method     Summary    Caption   \n",
      "75/156     279/361    1154/1584  250/399    102/190    733/757   \n",
      "Epoch: 008, Train Loss: 0.3235561, Val Loss: 0.7047728, Val Acc: 0.7522483, Val Precision: 0.7228720, Val Recall: 0.6856437, Val F1: 0.6890723 \n",
      "EarlyStopping counter: 2 out of 5\n"
     ]
    },
    {
     "name": "stderr",
     "output_type": "stream",
     "text": [
      "100%|████████████████████████████████████████████████████████████████████████████████████████████████████████████████████████████████████████████████| 575/575 [21:30<00:00,  2.25s/it]\n",
      "100%|████████████████████████████████████████████████████████████████████████████████████████████████████████████████████████████████████████████████| 144/144 [03:15<00:00,  1.36s/it]\n"
     ]
    },
    {
     "name": "stdout",
     "output_type": "stream",
     "text": [
      "Abstract   Intro      Main       Method     Summary    Caption   \n",
      "118/156    213/361    1276/1584  232/399    104/190    742/757   \n",
      "Epoch: 009, Train Loss: 0.2885445, Val Loss: 0.6954791, Val Acc: 0.7789382, Val Precision: 0.7235232, Val Recall: 0.7101668, Val F1: 0.7117478 \n",
      "EarlyStopping counter: 3 out of 5\n"
     ]
    },
    {
     "name": "stderr",
     "output_type": "stream",
     "text": [
      "100%|████████████████████████████████████████████████████████████████████████████████████████████████████████████████████████████████████████████████| 575/575 [21:32<00:00,  2.25s/it]\n",
      "100%|████████████████████████████████████████████████████████████████████████████████████████████████████████████████████████████████████████████████| 144/144 [03:15<00:00,  1.36s/it]\n"
     ]
    },
    {
     "name": "stdout",
     "output_type": "stream",
     "text": [
      "Abstract   Intro      Main       Method     Summary    Caption   \n",
      "113/156    210/361    1463/1584  106/399    107/190    734/757   \n",
      "Epoch: 010, Train Loss: 0.2517984, Val Loss: 0.7769192, Val Acc: 0.7928634, Val Precision: 0.7640786, Val Recall: 0.6713544, Val F1: 0.6929842 \n",
      "EarlyStopping counter: 4 out of 5\n"
     ]
    },
    {
     "name": "stderr",
     "output_type": "stream",
     "text": [
      "100%|████████████████████████████████████████████████████████████████████████████████████████████████████████████████████████████████████████████████| 575/575 [21:30<00:00,  2.25s/it]\n",
      "100%|████████████████████████████████████████████████████████████████████████████████████████████████████████████████████████████████████████████████| 144/144 [03:15<00:00,  1.36s/it]\n"
     ]
    },
    {
     "name": "stdout",
     "output_type": "stream",
     "text": [
      "Abstract   Intro      Main       Method     Summary    Caption   \n",
      "109/156    204/361    1302/1584  230/399    114/190    744/757   \n",
      "Epoch: 011, Train Loss: 0.2305763, Val Loss: 0.7330030, Val Acc: 0.7841601, Val Precision: 0.7204318, Val Recall: 0.7075088, Val F1: 0.7121544 \n",
      "EarlyStopping counter: 5 out of 5\n",
      "Early stopping\n",
      "\n"
     ]
    },
    {
     "data": {
      "text/html": [
       "Waiting for W&B process to finish... <strong style=\"color:green\">(success).</strong>"
      ],
      "text/plain": [
       "<IPython.core.display.HTML object>"
      ]
     },
     "metadata": {},
     "output_type": "display_data"
    },
    {
     "data": {
      "text/html": [
       "<style>\n",
       "    table.wandb td:nth-child(1) { padding: 0 10px; text-align: right }\n",
       "    .wandb-row { display: flex; flex-direction: row; flex-wrap: wrap; width: 100% }\n",
       "    .wandb-col { display: flex; flex-direction: column; flex-basis: 100%; flex: 1; padding: 10px; }\n",
       "    </style>\n",
       "<div class=\"wandb-row\"><div class=\"wandb-col\"><h3>Run history:</h3><br/><table class=\"wandb\"><tr><td>train_loss</td><td>█▅▅▄▃▃▂▂▁▁▁</td></tr><tr><td>val_acc</td><td>▁▄▆▆▇█▇▅▇█▇</td></tr><tr><td>val_f1</td><td>▁▅▆▇▇██▇█▇█</td></tr><tr><td>val_loss</td><td>█▄▃▂▃▁▂▃▃▅▄</td></tr><tr><td>val_precision</td><td>▁▅▅▇█▇▇▇▇█▇</td></tr><tr><td>val_recall</td><td>▁▄▇▆▆▇█▇█▇█</td></tr></table><br/></div><div class=\"wandb-col\"><h3>Run summary:</h3><br/><table class=\"wandb\"><tr><td>train_loss</td><td>0.23058</td></tr><tr><td>val_acc</td><td>0.78416</td></tr><tr><td>val_f1</td><td>0.71215</td></tr><tr><td>val_loss</td><td>0.733</td></tr><tr><td>val_precision</td><td>0.72043</td></tr><tr><td>val_recall</td><td>0.70751</td></tr></table><br/></div></div>"
      ],
      "text/plain": [
       "<IPython.core.display.HTML object>"
      ]
     },
     "metadata": {},
     "output_type": "display_data"
    },
    {
     "data": {
      "text/html": [
       "Synced <strong style=\"color:#cdcd00\">sunny-dust-11</strong>: <a href=\"https://wandb.ai/ihateml/xlnet_classification/runs/10ebufv9\" target=\"_blank\">https://wandb.ai/ihateml/xlnet_classification/runs/10ebufv9</a><br/>Synced 7 W&B file(s), 0 media file(s), 0 artifact file(s) and 1 other file(s)"
      ],
      "text/plain": [
       "<IPython.core.display.HTML object>"
      ]
     },
     "metadata": {},
     "output_type": "display_data"
    },
    {
     "data": {
      "text/html": [
       "Find logs at: <code>./wandb/run-20220416_212940-10ebufv9/logs</code>"
      ],
      "text/plain": [
       "<IPython.core.display.HTML object>"
      ]
     },
     "metadata": {},
     "output_type": "display_data"
    },
    {
     "name": "stdout",
     "output_type": "stream",
     "text": [
      "huggingface/tokenizers: The current process just got forked, after parallelism has already been used. Disabling parallelism to avoid deadlocks...\n",
      "To disable this warning, you can either:\n",
      "\t- Avoid using `tokenizers` before the fork if possible\n",
      "\t- Explicitly set the environment variable TOKENIZERS_PARALLELISM=(true | false)\n",
      "huggingface/tokenizers: The current process just got forked, after parallelism has already been used. Disabling parallelism to avoid deadlocks...\n",
      "To disable this warning, you can either:\n",
      "\t- Avoid using `tokenizers` before the fork if possible\n",
      "\t- Explicitly set the environment variable TOKENIZERS_PARALLELISM=(true | false)\n"
     ]
    },
    {
     "data": {
      "text/html": [
       "Tracking run with wandb version 0.12.14"
      ],
      "text/plain": [
       "<IPython.core.display.HTML object>"
      ]
     },
     "metadata": {},
     "output_type": "display_data"
    },
    {
     "data": {
      "text/html": [
       "Run data is saved locally in <code>/home/rnwnsgud1234/1.text/textmining/wandb/run-20220417_020231-3vseg3wj</code>"
      ],
      "text/plain": [
       "<IPython.core.display.HTML object>"
      ]
     },
     "metadata": {},
     "output_type": "display_data"
    },
    {
     "data": {
      "text/html": [
       "Syncing run <strong><a href=\"https://wandb.ai/ihateml/xlnet_classification/runs/3vseg3wj\" target=\"_blank\">wobbly-valley-12</a></strong> to <a href=\"https://wandb.ai/ihateml/xlnet_classification\" target=\"_blank\">Weights & Biases</a> (<a href=\"https://wandb.me/run\" target=\"_blank\">docs</a>)<br/>"
      ],
      "text/plain": [
       "<IPython.core.display.HTML object>"
      ]
     },
     "metadata": {},
     "output_type": "display_data"
    },
    {
     "name": "stderr",
     "output_type": "stream",
     "text": [
      "100%|████████████████████████████████████████████████████████████████████████████████████████████████████████████████████████████████████████████████| 575/575 [21:32<00:00,  2.25s/it]\n",
      "100%|████████████████████████████████████████████████████████████████████████████████████████████████████████████████████████████████████████████████| 144/144 [03:16<00:00,  1.36s/it]\n"
     ]
    },
    {
     "name": "stdout",
     "output_type": "stream",
     "text": [
      "Abstract   Intro      Main       Method     Summary    Caption   \n",
      "1/156      113/361    1510/1584  9/399      0/190      685/757   \n",
      "Epoch: 001, Train Loss: 1.0832028, Val Loss: 0.8683870, Val Acc: 0.6724688, Val Precision: 0.5767148, Val Recall: 0.3666928, Val F1: 0.3495227 \n",
      "Validation loss decreased (inf --> 0.868387). \n"
     ]
    },
    {
     "name": "stderr",
     "output_type": "stream",
     "text": [
      "100%|████████████████████████████████████████████████████████████████████████████████████████████████████████████████████████████████████████████████| 575/575 [21:30<00:00,  2.24s/it]\n",
      "100%|████████████████████████████████████████████████████████████████████████████████████████████████████████████████████████████████████████████████| 144/144 [03:15<00:00,  1.36s/it]\n"
     ]
    },
    {
     "name": "stdout",
     "output_type": "stream",
     "text": [
      "Abstract   Intro      Main       Method     Summary    Caption   \n",
      "42/156     201/361    1415/1584  145/399    7/190      681/757   \n",
      "Epoch: 002, Train Loss: 0.7730210, Val Loss: 0.7707077, Val Acc: 0.7226574, Val Precision: 0.6480244, Val Recall: 0.5031966, Val F1: 0.5192687 \n",
      "Validation loss decreased (0.868387 --> 0.770708). \n"
     ]
    },
    {
     "name": "stderr",
     "output_type": "stream",
     "text": [
      "100%|████████████████████████████████████████████████████████████████████████████████████████████████████████████████████████████████████████████████| 575/575 [21:30<00:00,  2.24s/it]\n",
      "100%|████████████████████████████████████████████████████████████████████████████████████████████████████████████████████████████████████████████████| 144/144 [03:15<00:00,  1.36s/it]\n"
     ]
    },
    {
     "name": "stdout",
     "output_type": "stream",
     "text": [
      "Abstract   Intro      Main       Method     Summary    Caption   \n",
      "32/156     227/361    1400/1584  133/399    46/190     724/757   \n",
      "Epoch: 003, Train Loss: 0.6641462, Val Loss: 0.6920151, Val Acc: 0.7432550, Val Precision: 0.6786825, Val Recall: 0.5416035, Val F1: 0.5683921 \n",
      "Validation loss decreased (0.770708 --> 0.692015). \n"
     ]
    },
    {
     "name": "stderr",
     "output_type": "stream",
     "text": [
      "100%|████████████████████████████████████████████████████████████████████████████████████████████████████████████████████████████████████████████████| 575/575 [21:30<00:00,  2.24s/it]\n",
      "100%|████████████████████████████████████████████████████████████████████████████████████████████████████████████████████████████████████████████████| 144/144 [03:15<00:00,  1.36s/it]\n"
     ]
    },
    {
     "name": "stdout",
     "output_type": "stream",
     "text": [
      "Abstract   Intro      Main       Method     Summary    Caption   \n",
      "59/156     147/361    1425/1584  159/399    69/190     742/757   \n",
      "Epoch: 004, Train Loss: 0.5761833, Val Loss: 0.7330744, Val Acc: 0.7545692, Val Precision: 0.7305681, Val Recall: 0.5711446, Val F1: 0.6200372 \n",
      "EarlyStopping counter: 1 out of 5\n"
     ]
    },
    {
     "name": "stderr",
     "output_type": "stream",
     "text": [
      "100%|████████████████████████████████████████████████████████████████████████████████████████████████████████████████████████████████████████████████| 575/575 [21:30<00:00,  2.24s/it]\n",
      "100%|████████████████████████████████████████████████████████████████████████████████████████████████████████████████████████████████████████████████| 144/144 [03:15<00:00,  1.36s/it]\n"
     ]
    },
    {
     "name": "stdout",
     "output_type": "stream",
     "text": [
      "Abstract   Intro      Main       Method     Summary    Caption   \n",
      "91/156     242/361    1334/1584  186/399    108/190    736/757   \n",
      "Epoch: 005, Train Loss: 0.4877873, Val Loss: 0.6177597, Val Acc: 0.7824195, Val Precision: 0.7160647, Val Recall: 0.6837851, Val F1: 0.6977470 \n",
      "Validation loss decreased (0.692015 --> 0.617760). \n"
     ]
    },
    {
     "name": "stderr",
     "output_type": "stream",
     "text": [
      "100%|████████████████████████████████████████████████████████████████████████████████████████████████████████████████████████████████████████████████| 575/575 [21:30<00:00,  2.24s/it]\n",
      "100%|████████████████████████████████████████████████████████████████████████████████████████████████████████████████████████████████████████████████| 144/144 [03:15<00:00,  1.36s/it]\n"
     ]
    },
    {
     "name": "stdout",
     "output_type": "stream",
     "text": [
      "Abstract   Intro      Main       Method     Summary    Caption   \n",
      "100/156    267/361    1406/1584  127/399    96/190     734/757   \n",
      "Epoch: 006, Train Loss: 0.4297142, Val Loss: 0.6230924, Val Acc: 0.7919930, Val Precision: 0.7772797, Val Recall: 0.6769066, Val F1: 0.7025511 \n",
      "EarlyStopping counter: 1 out of 5\n"
     ]
    },
    {
     "name": "stderr",
     "output_type": "stream",
     "text": [
      "100%|████████████████████████████████████████████████████████████████████████████████████████████████████████████████████████████████████████████████| 575/575 [21:30<00:00,  2.25s/it]\n",
      "100%|████████████████████████████████████████████████████████████████████████████████████████████████████████████████████████████████████████████████| 144/144 [03:16<00:00,  1.36s/it]\n"
     ]
    },
    {
     "name": "stdout",
     "output_type": "stream",
     "text": [
      "Abstract   Intro      Main       Method     Summary    Caption   \n",
      "116/156    211/361    1423/1584  160/399    98/190     739/757   \n",
      "Epoch: 007, Train Loss: 0.3811375, Val Loss: 0.6427521, Val Acc: 0.7969249, Val Precision: 0.7713660, Val Recall: 0.6865750, Val F1: 0.7120900 \n",
      "EarlyStopping counter: 2 out of 5\n"
     ]
    },
    {
     "name": "stderr",
     "output_type": "stream",
     "text": [
      "100%|████████████████████████████████████████████████████████████████████████████████████████████████████████████████████████████████████████████████| 575/575 [21:30<00:00,  2.24s/it]\n",
      "100%|████████████████████████████████████████████████████████████████████████████████████████████████████████████████████████████████████████████████| 144/144 [03:15<00:00,  1.36s/it]\n"
     ]
    },
    {
     "name": "stdout",
     "output_type": "stream",
     "text": [
      "Abstract   Intro      Main       Method     Summary    Caption   \n",
      "108/156    255/361    1417/1584  143/399    109/190    732/757   \n",
      "Epoch: 008, Train Loss: 0.3392030, Val Loss: 0.6422660, Val Acc: 0.8018567, Val Precision: 0.7610487, Val Recall: 0.6987174, Val F1: 0.7173865 \n",
      "EarlyStopping counter: 3 out of 5\n"
     ]
    },
    {
     "name": "stderr",
     "output_type": "stream",
     "text": [
      "100%|████████████████████████████████████████████████████████████████████████████████████████████████████████████████████████████████████████████████| 575/575 [21:31<00:00,  2.25s/it]\n",
      "100%|████████████████████████████████████████████████████████████████████████████████████████████████████████████████████████████████████████████████| 144/144 [03:16<00:00,  1.36s/it]\n"
     ]
    },
    {
     "name": "stdout",
     "output_type": "stream",
     "text": [
      "Abstract   Intro      Main       Method     Summary    Caption   \n",
      "122/156    258/361    1285/1584  214/399    98/190     736/757   \n",
      "Epoch: 009, Train Loss: 0.2944426, Val Loss: 0.6802099, Val Acc: 0.7870612, Val Precision: 0.7304009, Val Recall: 0.7220599, Val F1: 0.7169068 \n",
      "EarlyStopping counter: 4 out of 5\n"
     ]
    },
    {
     "name": "stderr",
     "output_type": "stream",
     "text": [
      "100%|████████████████████████████████████████████████████████████████████████████████████████████████████████████████████████████████████████████████| 575/575 [21:30<00:00,  2.24s/it]\n",
      "100%|████████████████████████████████████████████████████████████████████████████████████████████████████████████████████████████████████████████████| 144/144 [03:16<00:00,  1.36s/it]\n"
     ]
    },
    {
     "name": "stdout",
     "output_type": "stream",
     "text": [
      "Abstract   Intro      Main       Method     Summary    Caption   \n",
      "80/156     248/361    1404/1584  145/399    123/190    726/757   \n",
      "Epoch: 010, Train Loss: 0.2540257, Val Loss: 0.6951685, Val Acc: 0.7908326, Val Precision: 0.7473909, Val Recall: 0.6759984, Val F1: 0.6990169 \n",
      "EarlyStopping counter: 5 out of 5\n",
      "Early stopping\n",
      "\n"
     ]
    },
    {
     "data": {
      "text/html": [
       "Waiting for W&B process to finish... <strong style=\"color:green\">(success).</strong>"
      ],
      "text/plain": [
       "<IPython.core.display.HTML object>"
      ]
     },
     "metadata": {},
     "output_type": "display_data"
    },
    {
     "data": {
      "text/html": [
       "<style>\n",
       "    table.wandb td:nth-child(1) { padding: 0 10px; text-align: right }\n",
       "    .wandb-row { display: flex; flex-direction: row; flex-wrap: wrap; width: 100% }\n",
       "    .wandb-col { display: flex; flex-direction: column; flex-basis: 100%; flex: 1; padding: 10px; }\n",
       "    </style>\n",
       "<div class=\"wandb-row\"><div class=\"wandb-col\"><h3>Run history:</h3><br/><table class=\"wandb\"><tr><td>train_loss</td><td>█▅▄▄▃▂▂▂▁▁</td></tr><tr><td>val_acc</td><td>▁▄▅▅▇▇██▇▇</td></tr><tr><td>val_f1</td><td>▁▄▅▆██████</td></tr><tr><td>val_loss</td><td>█▅▃▄▁▁▂▂▃▃</td></tr><tr><td>val_precision</td><td>▁▃▅▆▆██▇▆▇</td></tr><tr><td>val_recall</td><td>▁▄▄▅▇▇▇██▇</td></tr></table><br/></div><div class=\"wandb-col\"><h3>Run summary:</h3><br/><table class=\"wandb\"><tr><td>train_loss</td><td>0.25403</td></tr><tr><td>val_acc</td><td>0.79083</td></tr><tr><td>val_f1</td><td>0.69902</td></tr><tr><td>val_loss</td><td>0.69517</td></tr><tr><td>val_precision</td><td>0.74739</td></tr><tr><td>val_recall</td><td>0.676</td></tr></table><br/></div></div>"
      ],
      "text/plain": [
       "<IPython.core.display.HTML object>"
      ]
     },
     "metadata": {},
     "output_type": "display_data"
    },
    {
     "data": {
      "text/html": [
       "Synced <strong style=\"color:#cdcd00\">wobbly-valley-12</strong>: <a href=\"https://wandb.ai/ihateml/xlnet_classification/runs/3vseg3wj\" target=\"_blank\">https://wandb.ai/ihateml/xlnet_classification/runs/3vseg3wj</a><br/>Synced 7 W&B file(s), 0 media file(s), 0 artifact file(s) and 1 other file(s)"
      ],
      "text/plain": [
       "<IPython.core.display.HTML object>"
      ]
     },
     "metadata": {},
     "output_type": "display_data"
    },
    {
     "data": {
      "text/html": [
       "Find logs at: <code>./wandb/run-20220417_020231-3vseg3wj/logs</code>"
      ],
      "text/plain": [
       "<IPython.core.display.HTML object>"
      ]
     },
     "metadata": {},
     "output_type": "display_data"
    },
    {
     "name": "stdout",
     "output_type": "stream",
     "text": [
      "huggingface/tokenizers: The current process just got forked, after parallelism has already been used. Disabling parallelism to avoid deadlocks...\n",
      "To disable this warning, you can either:\n",
      "\t- Avoid using `tokenizers` before the fork if possible\n",
      "\t- Explicitly set the environment variable TOKENIZERS_PARALLELISM=(true | false)\n",
      "huggingface/tokenizers: The current process just got forked, after parallelism has already been used. Disabling parallelism to avoid deadlocks...\n",
      "To disable this warning, you can either:\n",
      "\t- Avoid using `tokenizers` before the fork if possible\n",
      "\t- Explicitly set the environment variable TOKENIZERS_PARALLELISM=(true | false)\n"
     ]
    },
    {
     "data": {
      "text/html": [
       "Tracking run with wandb version 0.12.14"
      ],
      "text/plain": [
       "<IPython.core.display.HTML object>"
      ]
     },
     "metadata": {},
     "output_type": "display_data"
    },
    {
     "data": {
      "text/html": [
       "Run data is saved locally in <code>/home/rnwnsgud1234/1.text/textmining/wandb/run-20220417_061050-hfddk8iu</code>"
      ],
      "text/plain": [
       "<IPython.core.display.HTML object>"
      ]
     },
     "metadata": {},
     "output_type": "display_data"
    },
    {
     "data": {
      "text/html": [
       "Syncing run <strong><a href=\"https://wandb.ai/ihateml/xlnet_classification/runs/hfddk8iu\" target=\"_blank\">twilight-paper-13</a></strong> to <a href=\"https://wandb.ai/ihateml/xlnet_classification\" target=\"_blank\">Weights & Biases</a> (<a href=\"https://wandb.me/run\" target=\"_blank\">docs</a>)<br/>"
      ],
      "text/plain": [
       "<IPython.core.display.HTML object>"
      ]
     },
     "metadata": {},
     "output_type": "display_data"
    },
    {
     "name": "stderr",
     "output_type": "stream",
     "text": [
      "100%|████████████████████████████████████████████████████████████████████████████████████████████████████████████████████████████████████████████████| 575/575 [21:30<00:00,  2.25s/it]\n",
      "100%|████████████████████████████████████████████████████████████████████████████████████████████████████████████████████████████████████████████████| 144/144 [03:16<00:00,  1.36s/it]\n"
     ]
    },
    {
     "name": "stdout",
     "output_type": "stream",
     "text": [
      "Abstract   Intro      Main       Method     Summary    Caption   \n",
      "0/156      274/361    1364/1584  5/399      0/190      671/757   \n",
      "Epoch: 001, Train Loss: 1.0934005, Val Loss: 0.8907777, Val Acc: 0.6713084, Val Precision: 0.4182022, Val Recall: 0.4198398, Val F1: 0.3665564 \n",
      "Validation loss decreased (inf --> 0.890778). \n"
     ]
    },
    {
     "name": "stderr",
     "output_type": "stream",
     "text": [
      "100%|████████████████████████████████████████████████████████████████████████████████████████████████████████████████████████████████████████████████| 575/575 [21:30<00:00,  2.24s/it]\n",
      "100%|████████████████████████████████████████████████████████████████████████████████████████████████████████████████████████████████████████████████| 144/144 [03:16<00:00,  1.36s/it]\n"
     ]
    },
    {
     "name": "stdout",
     "output_type": "stream",
     "text": [
      "Abstract   Intro      Main       Method     Summary    Caption   \n",
      "2/156      294/361    1346/1584  61/399     0/190      721/757   \n",
      "Epoch: 002, Train Loss: 0.7793259, Val Loss: 0.8036529, Val Acc: 0.7032202, Val Precision: 0.5031402, Val Recall: 0.4637164, Val F1: 0.4219246 \n",
      "Validation loss decreased (0.890778 --> 0.803653). \n"
     ]
    },
    {
     "name": "stderr",
     "output_type": "stream",
     "text": [
      "100%|████████████████████████████████████████████████████████████████████████████████████████████████████████████████████████████████████████████████| 575/575 [21:31<00:00,  2.25s/it]\n",
      "100%|████████████████████████████████████████████████████████████████████████████████████████████████████████████████████████████████████████████████| 144/144 [03:15<00:00,  1.36s/it]\n"
     ]
    },
    {
     "name": "stdout",
     "output_type": "stream",
     "text": [
      "Abstract   Intro      Main       Method     Summary    Caption   \n",
      "42/156     141/361    1511/1584  66/399     4/190      692/757   \n",
      "Epoch: 003, Train Loss: 0.6823058, Val Loss: 0.7790287, Val Acc: 0.7125036, Val Precision: 0.6314800, Val Recall: 0.4523879, Val F1: 0.4751672 \n",
      "Validation loss decreased (0.803653 --> 0.779029). \n"
     ]
    },
    {
     "name": "stderr",
     "output_type": "stream",
     "text": [
      "100%|████████████████████████████████████████████████████████████████████████████████████████████████████████████████████████████████████████████████| 575/575 [21:31<00:00,  2.25s/it]\n",
      "100%|████████████████████████████████████████████████████████████████████████████████████████████████████████████████████████████████████████████████| 144/144 [03:16<00:00,  1.36s/it]\n"
     ]
    },
    {
     "name": "stdout",
     "output_type": "stream",
     "text": [
      "Abstract   Intro      Main       Method     Summary    Caption   \n",
      "67/156     243/361    1404/1584  142/399    21/190     713/757   \n",
      "Epoch: 004, Train Loss: 0.6076197, Val Loss: 0.6963285, Val Acc: 0.7513780, Val Precision: 0.6731175, Val Recall: 0.5662121, Val F1: 0.5862786 \n",
      "Validation loss decreased (0.779029 --> 0.696328). \n"
     ]
    },
    {
     "name": "stderr",
     "output_type": "stream",
     "text": [
      "100%|████████████████████████████████████████████████████████████████████████████████████████████████████████████████████████████████████████████████| 575/575 [21:31<00:00,  2.25s/it]\n",
      "100%|████████████████████████████████████████████████████████████████████████████████████████████████████████████████████████████████████████████████| 144/144 [03:16<00:00,  1.37s/it]\n"
     ]
    },
    {
     "name": "stdout",
     "output_type": "stream",
     "text": [
      "Abstract   Intro      Main       Method     Summary    Caption   \n",
      "91/156     282/361    1297/1584  166/399    35/190     728/757   \n",
      "Epoch: 005, Train Loss: 0.5328506, Val Loss: 0.6787487, Val Acc: 0.7539890, Val Precision: 0.6615185, Val Recall: 0.6242086, Val F1: 0.6202551 \n",
      "Validation loss decreased (0.696328 --> 0.678749). \n"
     ]
    },
    {
     "name": "stderr",
     "output_type": "stream",
     "text": [
      "100%|████████████████████████████████████████████████████████████████████████████████████████████████████████████████████████████████████████████████| 575/575 [21:30<00:00,  2.24s/it]\n",
      "100%|████████████████████████████████████████████████████████████████████████████████████████████████████████████████████████████████████████████████| 144/144 [03:16<00:00,  1.36s/it]\n"
     ]
    },
    {
     "name": "stdout",
     "output_type": "stream",
     "text": [
      "Abstract   Intro      Main       Method     Summary    Caption   \n",
      "96/156     243/361    1385/1584  152/399    90/190     731/757   \n",
      "Epoch: 006, Train Loss: 0.4815954, Val Loss: 0.6502469, Val Acc: 0.7824195, Val Precision: 0.7156847, Val Recall: 0.6638623, Val F1: 0.6819932 \n",
      "Validation loss decreased (0.678749 --> 0.650247). \n"
     ]
    },
    {
     "name": "stderr",
     "output_type": "stream",
     "text": [
      "100%|████████████████████████████████████████████████████████████████████████████████████████████████████████████████████████████████████████████████| 575/575 [21:29<00:00,  2.24s/it]\n",
      "100%|████████████████████████████████████████████████████████████████████████████████████████████████████████████████████████████████████████████████| 144/144 [03:15<00:00,  1.36s/it]\n"
     ]
    },
    {
     "name": "stdout",
     "output_type": "stream",
     "text": [
      "Abstract   Intro      Main       Method     Summary    Caption   \n",
      "85/156     269/361    1378/1584  119/399    107/190    731/757   \n",
      "Epoch: 007, Train Loss: 0.4208960, Val Loss: 0.6522618, Val Acc: 0.7800986, Val Precision: 0.7321673, Val Recall: 0.6645052, Val F1: 0.6777366 \n",
      "EarlyStopping counter: 1 out of 5\n"
     ]
    },
    {
     "name": "stderr",
     "output_type": "stream",
     "text": [
      "100%|████████████████████████████████████████████████████████████████████████████████████████████████████████████████████████████████████████████████| 575/575 [21:31<00:00,  2.25s/it]\n",
      "100%|████████████████████████████████████████████████████████████████████████████████████████████████████████████████████████████████████████████████| 144/144 [03:16<00:00,  1.36s/it]\n"
     ]
    },
    {
     "name": "stdout",
     "output_type": "stream",
     "text": [
      "Abstract   Intro      Main       Method     Summary    Caption   \n",
      "87/156     275/361    1282/1584  212/399    99/190     742/757   \n",
      "Epoch: 008, Train Loss: 0.3700745, Val Loss: 0.6493186, Val Acc: 0.7824195, Val Precision: 0.7263422, Val Recall: 0.6935624, Val F1: 0.7038786 \n",
      "Validation loss decreased (0.650247 --> 0.649319). \n"
     ]
    },
    {
     "name": "stderr",
     "output_type": "stream",
     "text": [
      "100%|████████████████████████████████████████████████████████████████████████████████████████████████████████████████████████████████████████████████| 575/575 [21:30<00:00,  2.24s/it]\n",
      "100%|████████████████████████████████████████████████████████████████████████████████████████████████████████████████████████████████████████████████| 144/144 [03:15<00:00,  1.36s/it]\n"
     ]
    },
    {
     "name": "stdout",
     "output_type": "stream",
     "text": [
      "Abstract   Intro      Main       Method     Summary    Caption   \n",
      "105/156    244/361    1399/1584  145/399    92/190     744/757   \n",
      "Epoch: 009, Train Loss: 0.3211659, Val Loss: 0.6886848, Val Acc: 0.7917029, Val Precision: 0.7471803, Val Recall: 0.6771050, Val F1: 0.6975815 \n",
      "EarlyStopping counter: 1 out of 5\n"
     ]
    },
    {
     "name": "stderr",
     "output_type": "stream",
     "text": [
      "100%|████████████████████████████████████████████████████████████████████████████████████████████████████████████████████████████████████████████████| 575/575 [21:30<00:00,  2.24s/it]\n",
      "100%|████████████████████████████████████████████████████████████████████████████████████████████████████████████████████████████████████████████████| 144/144 [03:16<00:00,  1.36s/it]\n"
     ]
    },
    {
     "name": "stdout",
     "output_type": "stream",
     "text": [
      "Abstract   Intro      Main       Method     Summary    Caption   \n",
      "101/156    293/361    1309/1584  198/399    93/190     711/757   \n",
      "Epoch: 010, Train Loss: 0.2841597, Val Loss: 0.7023372, Val Acc: 0.7847404, Val Precision: 0.7486791, Val Recall: 0.7017345, Val F1: 0.7112844 \n",
      "EarlyStopping counter: 2 out of 5\n"
     ]
    },
    {
     "name": "stderr",
     "output_type": "stream",
     "text": [
      "100%|████████████████████████████████████████████████████████████████████████████████████████████████████████████████████████████████████████████████| 575/575 [21:30<00:00,  2.24s/it]\n",
      "100%|████████████████████████████████████████████████████████████████████████████████████████████████████████████████████████████████████████████████| 144/144 [03:15<00:00,  1.36s/it]\n"
     ]
    },
    {
     "name": "stdout",
     "output_type": "stream",
     "text": [
      "Abstract   Intro      Main       Method     Summary    Caption   \n",
      "117/156    253/361    1260/1584  201/399    120/190    742/757   \n",
      "Epoch: 011, Train Loss: 0.2555788, Val Loss: 0.7238783, Val Acc: 0.7812591, Val Precision: 0.6923934, Val Recall: 0.7269681, Val F1: 0.7067807 \n",
      "EarlyStopping counter: 3 out of 5\n"
     ]
    },
    {
     "name": "stderr",
     "output_type": "stream",
     "text": [
      "100%|████████████████████████████████████████████████████████████████████████████████████████████████████████████████████████████████████████████████| 575/575 [21:30<00:00,  2.24s/it]\n",
      "100%|████████████████████████████████████████████████████████████████████████████████████████████████████████████████████████████████████████████████| 144/144 [03:16<00:00,  1.36s/it]\n"
     ]
    },
    {
     "name": "stdout",
     "output_type": "stream",
     "text": [
      "Abstract   Intro      Main       Method     Summary    Caption   \n",
      "112/156    254/361    1201/1584  218/399    124/190    735/757   \n",
      "Epoch: 012, Train Loss: 0.2221681, Val Loss: 0.7672481, Val Acc: 0.7670438, Val Precision: 0.6775748, Val Recall: 0.7249487, Val F1: 0.6980189 \n",
      "EarlyStopping counter: 4 out of 5\n"
     ]
    },
    {
     "name": "stderr",
     "output_type": "stream",
     "text": [
      "100%|████████████████████████████████████████████████████████████████████████████████████████████████████████████████████████████████████████████████| 575/575 [21:30<00:00,  2.24s/it]\n",
      "100%|████████████████████████████████████████████████████████████████████████████████████████████████████████████████████████████████████████████████| 144/144 [03:16<00:00,  1.36s/it]\n"
     ]
    },
    {
     "name": "stdout",
     "output_type": "stream",
     "text": [
      "Abstract   Intro      Main       Method     Summary    Caption   \n",
      "99/156     239/361    1289/1584  213/399    113/190    730/757   \n",
      "Epoch: 013, Train Loss: 0.2012384, Val Loss: 0.7930878, Val Acc: 0.7783580, Val Precision: 0.7067783, Val Recall: 0.7005554, Val F1: 0.7034447 \n",
      "EarlyStopping counter: 5 out of 5\n",
      "Early stopping\n",
      "\n"
     ]
    },
    {
     "data": {
      "text/html": [
       "Waiting for W&B process to finish... <strong style=\"color:green\">(success).</strong>"
      ],
      "text/plain": [
       "<IPython.core.display.HTML object>"
      ]
     },
     "metadata": {},
     "output_type": "display_data"
    },
    {
     "data": {
      "text/html": [
       "<style>\n",
       "    table.wandb td:nth-child(1) { padding: 0 10px; text-align: right }\n",
       "    .wandb-row { display: flex; flex-direction: row; flex-wrap: wrap; width: 100% }\n",
       "    .wandb-col { display: flex; flex-direction: column; flex-basis: 100%; flex: 1; padding: 10px; }\n",
       "    </style>\n",
       "<div class=\"wandb-row\"><div class=\"wandb-col\"><h3>Run history:</h3><br/><table class=\"wandb\"><tr><td>train_loss</td><td>█▆▅▄▄▃▃▂▂▂▁▁▁</td></tr><tr><td>val_acc</td><td>▁▃▃▆▆▇▇▇██▇▇▇</td></tr><tr><td>val_f1</td><td>▁▂▃▅▆▇▇██████</td></tr><tr><td>val_loss</td><td>█▅▅▂▂▁▁▁▂▃▃▄▅</td></tr><tr><td>val_precision</td><td>▁▃▆▆▆▇████▇▆▇</td></tr><tr><td>val_recall</td><td>▁▂▂▄▆▇▇▇▇▇██▇</td></tr></table><br/></div><div class=\"wandb-col\"><h3>Run summary:</h3><br/><table class=\"wandb\"><tr><td>train_loss</td><td>0.20124</td></tr><tr><td>val_acc</td><td>0.77836</td></tr><tr><td>val_f1</td><td>0.70344</td></tr><tr><td>val_loss</td><td>0.79309</td></tr><tr><td>val_precision</td><td>0.70678</td></tr><tr><td>val_recall</td><td>0.70056</td></tr></table><br/></div></div>"
      ],
      "text/plain": [
       "<IPython.core.display.HTML object>"
      ]
     },
     "metadata": {},
     "output_type": "display_data"
    },
    {
     "data": {
      "text/html": [
       "Synced <strong style=\"color:#cdcd00\">twilight-paper-13</strong>: <a href=\"https://wandb.ai/ihateml/xlnet_classification/runs/hfddk8iu\" target=\"_blank\">https://wandb.ai/ihateml/xlnet_classification/runs/hfddk8iu</a><br/>Synced 7 W&B file(s), 0 media file(s), 0 artifact file(s) and 1 other file(s)"
      ],
      "text/plain": [
       "<IPython.core.display.HTML object>"
      ]
     },
     "metadata": {},
     "output_type": "display_data"
    },
    {
     "data": {
      "text/html": [
       "Find logs at: <code>./wandb/run-20220417_061050-hfddk8iu/logs</code>"
      ],
      "text/plain": [
       "<IPython.core.display.HTML object>"
      ]
     },
     "metadata": {},
     "output_type": "display_data"
    },
    {
     "name": "stdout",
     "output_type": "stream",
     "text": [
      "huggingface/tokenizers: The current process just got forked, after parallelism has already been used. Disabling parallelism to avoid deadlocks...\n",
      "To disable this warning, you can either:\n",
      "\t- Avoid using `tokenizers` before the fork if possible\n",
      "\t- Explicitly set the environment variable TOKENIZERS_PARALLELISM=(true | false)\n",
      "huggingface/tokenizers: The current process just got forked, after parallelism has already been used. Disabling parallelism to avoid deadlocks...\n",
      "To disable this warning, you can either:\n",
      "\t- Avoid using `tokenizers` before the fork if possible\n",
      "\t- Explicitly set the environment variable TOKENIZERS_PARALLELISM=(true | false)\n"
     ]
    },
    {
     "data": {
      "text/html": [
       "Tracking run with wandb version 0.12.14"
      ],
      "text/plain": [
       "<IPython.core.display.HTML object>"
      ]
     },
     "metadata": {},
     "output_type": "display_data"
    },
    {
     "data": {
      "text/html": [
       "Run data is saved locally in <code>/home/rnwnsgud1234/1.text/textmining/wandb/run-20220417_113328-yrjy469p</code>"
      ],
      "text/plain": [
       "<IPython.core.display.HTML object>"
      ]
     },
     "metadata": {},
     "output_type": "display_data"
    },
    {
     "data": {
      "text/html": [
       "Syncing run <strong><a href=\"https://wandb.ai/ihateml/xlnet_classification/runs/yrjy469p\" target=\"_blank\">clear-snow-14</a></strong> to <a href=\"https://wandb.ai/ihateml/xlnet_classification\" target=\"_blank\">Weights & Biases</a> (<a href=\"https://wandb.me/run\" target=\"_blank\">docs</a>)<br/>"
      ],
      "text/plain": [
       "<IPython.core.display.HTML object>"
      ]
     },
     "metadata": {},
     "output_type": "display_data"
    },
    {
     "name": "stderr",
     "output_type": "stream",
     "text": [
      "100%|████████████████████████████████████████████████████████████████████████████████████████████████████████████████████████████████████████████████| 575/575 [21:31<00:00,  2.25s/it]\n",
      "100%|████████████████████████████████████████████████████████████████████████████████████████████████████████████████████████████████████████████████| 144/144 [03:15<00:00,  1.36s/it]\n"
     ]
    },
    {
     "name": "stdout",
     "output_type": "stream",
     "text": [
      "Abstract   Intro      Main       Method     Summary    Caption   \n",
      "0/156      180/361    1430/1584  0/399      0/190      722/757   \n",
      "Epoch: 001, Train Loss: 1.1389899, Val Loss: 0.8782665, Val Acc: 0.6765303, Val Precision: 0.3254171, Val Recall: 0.3925263, Val F1: 0.3546344 \n",
      "Validation loss decreased (inf --> 0.878267). \n"
     ]
    },
    {
     "name": "stderr",
     "output_type": "stream",
     "text": [
      "100%|████████████████████████████████████████████████████████████████████████████████████████████████████████████████████████████████████████████████| 575/575 [21:31<00:00,  2.25s/it]\n",
      "100%|████████████████████████████████████████████████████████████████████████████████████████████████████████████████████████████████████████████████| 144/144 [03:15<00:00,  1.36s/it]\n"
     ]
    },
    {
     "name": "stdout",
     "output_type": "stream",
     "text": [
      "Abstract   Intro      Main       Method     Summary    Caption   \n",
      "9/156      192/361    1452/1584  58/399     0/190      708/757   \n",
      "Epoch: 002, Train Loss: 0.8080321, Val Loss: 0.7867527, Val Acc: 0.7017697, Val Precision: 0.5161530, Val Recall: 0.4311415, Val F1: 0.4220949 \n",
      "Validation loss decreased (0.878267 --> 0.786753). \n"
     ]
    },
    {
     "name": "stderr",
     "output_type": "stream",
     "text": [
      "100%|████████████████████████████████████████████████████████████████████████████████████████████████████████████████████████████████████████████████| 575/575 [21:30<00:00,  2.25s/it]\n",
      "100%|████████████████████████████████████████████████████████████████████████████████████████████████████████████████████████████████████████████████| 144/144 [03:16<00:00,  1.36s/it]\n"
     ]
    },
    {
     "name": "stdout",
     "output_type": "stream",
     "text": [
      "Abstract   Intro      Main       Method     Summary    Caption   \n",
      "34/156     272/361    1367/1584  147/399    0/190      685/757   \n",
      "Epoch: 003, Train Loss: 0.7065657, Val Loss: 0.7661449, Val Acc: 0.7267189, Val Precision: 0.5532638, Val Recall: 0.5179542, Val F1: 0.5109845 \n",
      "Validation loss decreased (0.786753 --> 0.766145). \n"
     ]
    },
    {
     "name": "stderr",
     "output_type": "stream",
     "text": [
      "100%|████████████████████████████████████████████████████████████████████████████████████████████████████████████████████████████████████████████████| 575/575 [21:30<00:00,  2.24s/it]\n",
      "100%|████████████████████████████████████████████████████████████████████████████████████████████████████████████████████████████████████████████████| 144/144 [03:16<00:00,  1.36s/it]\n"
     ]
    },
    {
     "name": "stdout",
     "output_type": "stream",
     "text": [
      "Abstract   Intro      Main       Method     Summary    Caption   \n",
      "126/156    156/361    1342/1584  149/399    5/190      731/757   \n",
      "Epoch: 004, Train Loss: 0.6365480, Val Loss: 0.7203084, Val Acc: 0.7278793, Val Precision: 0.5798763, Val Recall: 0.5754085, Val F1: 0.5351812 \n",
      "Validation loss decreased (0.766145 --> 0.720308). \n"
     ]
    },
    {
     "name": "stderr",
     "output_type": "stream",
     "text": [
      "100%|████████████████████████████████████████████████████████████████████████████████████████████████████████████████████████████████████████████████| 575/575 [21:31<00:00,  2.25s/it]\n",
      "100%|████████████████████████████████████████████████████████████████████████████████████████████████████████████████████████████████████████████████| 144/144 [03:15<00:00,  1.36s/it]\n"
     ]
    },
    {
     "name": "stdout",
     "output_type": "stream",
     "text": [
      "Abstract   Intro      Main       Method     Summary    Caption   \n",
      "94/156     158/361    1452/1584  117/399    47/190     716/757   \n",
      "Epoch: 005, Train Loss: 0.5704338, Val Loss: 0.6979972, Val Acc: 0.7496374, Val Precision: 0.6398681, Val Recall: 0.5738907, Val F1: 0.5916694 \n",
      "Validation loss decreased (0.720308 --> 0.697997). \n"
     ]
    },
    {
     "name": "stderr",
     "output_type": "stream",
     "text": [
      "100%|████████████████████████████████████████████████████████████████████████████████████████████████████████████████████████████████████████████████| 575/575 [21:34<00:00,  2.25s/it]\n",
      "100%|████████████████████████████████████████████████████████████████████████████████████████████████████████████████████████████████████████████████| 144/144 [03:15<00:00,  1.36s/it]\n"
     ]
    },
    {
     "name": "stdout",
     "output_type": "stream",
     "text": [
      "Abstract   Intro      Main       Method     Summary    Caption   \n",
      "92/156     243/361    1384/1584  144/399    60/190     730/757   \n",
      "Epoch: 006, Train Loss: 0.5082114, Val Loss: 0.6653753, Val Acc: 0.7696548, Val Precision: 0.6753317, Val Recall: 0.6296060, Val F1: 0.6442282 \n",
      "Validation loss decreased (0.697997 --> 0.665375). \n"
     ]
    },
    {
     "name": "stderr",
     "output_type": "stream",
     "text": [
      "100%|████████████████████████████████████████████████████████████████████████████████████████████████████████████████████████████████████████████████| 575/575 [21:30<00:00,  2.24s/it]\n",
      "100%|████████████████████████████████████████████████████████████████████████████████████████████████████████████████████████████████████████████████| 144/144 [03:16<00:00,  1.36s/it]\n"
     ]
    },
    {
     "name": "stdout",
     "output_type": "stream",
     "text": [
      "Abstract   Intro      Main       Method     Summary    Caption   \n",
      "92/156     237/361    1414/1584  137/399    74/190     738/757   \n",
      "Epoch: 007, Train Loss: 0.4526413, Val Loss: 0.6654125, Val Acc: 0.7809690, Val Precision: 0.7147501, Val Recall: 0.6411105, Val F1: 0.6646207 \n",
      "EarlyStopping counter: 1 out of 5\n"
     ]
    },
    {
     "name": "stderr",
     "output_type": "stream",
     "text": [
      "100%|████████████████████████████████████████████████████████████████████████████████████████████████████████████████████████████████████████████████| 575/575 [21:30<00:00,  2.25s/it]\n",
      "100%|████████████████████████████████████████████████████████████████████████████████████████████████████████████████████████████████████████████████| 144/144 [03:16<00:00,  1.36s/it]\n"
     ]
    },
    {
     "name": "stdout",
     "output_type": "stream",
     "text": [
      "Abstract   Intro      Main       Method     Summary    Caption   \n",
      "106/156    286/361    1222/1584  168/399    98/190     744/757   \n",
      "Epoch: 008, Train Loss: 0.4029590, Val Loss: 0.7142029, Val Acc: 0.7612417, Val Precision: 0.6756371, Val Recall: 0.6938108, Val F1: 0.6751403 \n",
      "EarlyStopping counter: 2 out of 5\n"
     ]
    },
    {
     "name": "stderr",
     "output_type": "stream",
     "text": [
      "100%|████████████████████████████████████████████████████████████████████████████████████████████████████████████████████████████████████████████████| 575/575 [21:30<00:00,  2.24s/it]\n",
      "100%|████████████████████████████████████████████████████████████████████████████████████████████████████████████████████████████████████████████████| 144/144 [03:15<00:00,  1.36s/it]\n"
     ]
    },
    {
     "name": "stdout",
     "output_type": "stream",
     "text": [
      "Abstract   Intro      Main       Method     Summary    Caption   \n",
      "106/156    270/361    1305/1584  192/399    100/190    732/757   \n",
      "Epoch: 009, Train Loss: 0.3539749, Val Loss: 0.6950574, Val Acc: 0.7847404, Val Precision: 0.7237897, Val Recall: 0.7042945, Val F1: 0.7093407 \n",
      "EarlyStopping counter: 3 out of 5\n"
     ]
    },
    {
     "name": "stderr",
     "output_type": "stream",
     "text": [
      "100%|████████████████████████████████████████████████████████████████████████████████████████████████████████████████████████████████████████████████| 575/575 [21:30<00:00,  2.25s/it]\n",
      "100%|████████████████████████████████████████████████████████████████████████████████████████████████████████████████████████████████████████████████| 144/144 [03:16<00:00,  1.36s/it]\n"
     ]
    },
    {
     "name": "stdout",
     "output_type": "stream",
     "text": [
      "Abstract   Intro      Main       Method     Summary    Caption   \n",
      "115/156    231/361    1285/1584  227/399    106/190    737/757   \n",
      "Epoch: 010, Train Loss: 0.3117401, Val Loss: 0.6888410, Val Acc: 0.7835799, Val Precision: 0.7215902, Val Recall: 0.7147838, Val F1: 0.7161679 \n",
      "EarlyStopping counter: 4 out of 5\n"
     ]
    },
    {
     "name": "stderr",
     "output_type": "stream",
     "text": [
      "100%|████████████████████████████████████████████████████████████████████████████████████████████████████████████████████████████████████████████████| 575/575 [21:30<00:00,  2.24s/it]\n",
      "100%|████████████████████████████████████████████████████████████████████████████████████████████████████████████████████████████████████████████████| 144/144 [03:15<00:00,  1.36s/it]\n"
     ]
    },
    {
     "name": "stdout",
     "output_type": "stream",
     "text": [
      "Abstract   Intro      Main       Method     Summary    Caption   \n",
      "102/156    261/361    1313/1584  191/399    109/190    730/757   \n",
      "Epoch: 011, Train Loss: 0.2756191, Val Loss: 0.6985311, Val Acc: 0.7850305, Val Precision: 0.7171440, Val Recall: 0.7037443, Val F1: 0.7079878 \n",
      "EarlyStopping counter: 5 out of 5\n",
      "Early stopping\n",
      "\n"
     ]
    },
    {
     "data": {
      "text/html": [
       "Waiting for W&B process to finish... <strong style=\"color:green\">(success).</strong>"
      ],
      "text/plain": [
       "<IPython.core.display.HTML object>"
      ]
     },
     "metadata": {},
     "output_type": "display_data"
    },
    {
     "data": {
      "text/html": [
       "<style>\n",
       "    table.wandb td:nth-child(1) { padding: 0 10px; text-align: right }\n",
       "    .wandb-row { display: flex; flex-direction: row; flex-wrap: wrap; width: 100% }\n",
       "    .wandb-col { display: flex; flex-direction: column; flex-basis: 100%; flex: 1; padding: 10px; }\n",
       "    </style>\n",
       "<div class=\"wandb-row\"><div class=\"wandb-col\"><h3>Run history:</h3><br/><table class=\"wandb\"><tr><td>train_loss</td><td>█▅▄▄▃▃▂▂▂▁▁</td></tr><tr><td>val_acc</td><td>▁▃▄▄▆▇█▆███</td></tr><tr><td>val_f1</td><td>▁▂▄▄▆▇▇▇███</td></tr><tr><td>val_loss</td><td>█▅▄▃▂▁▁▃▂▂▂</td></tr><tr><td>val_precision</td><td>▁▄▅▅▇▇█▇███</td></tr><tr><td>val_recall</td><td>▁▂▄▅▅▆▆████</td></tr></table><br/></div><div class=\"wandb-col\"><h3>Run summary:</h3><br/><table class=\"wandb\"><tr><td>train_loss</td><td>0.27562</td></tr><tr><td>val_acc</td><td>0.78503</td></tr><tr><td>val_f1</td><td>0.70799</td></tr><tr><td>val_loss</td><td>0.69853</td></tr><tr><td>val_precision</td><td>0.71714</td></tr><tr><td>val_recall</td><td>0.70374</td></tr></table><br/></div></div>"
      ],
      "text/plain": [
       "<IPython.core.display.HTML object>"
      ]
     },
     "metadata": {},
     "output_type": "display_data"
    },
    {
     "data": {
      "text/html": [
       "Synced <strong style=\"color:#cdcd00\">clear-snow-14</strong>: <a href=\"https://wandb.ai/ihateml/xlnet_classification/runs/yrjy469p\" target=\"_blank\">https://wandb.ai/ihateml/xlnet_classification/runs/yrjy469p</a><br/>Synced 7 W&B file(s), 0 media file(s), 0 artifact file(s) and 1 other file(s)"
      ],
      "text/plain": [
       "<IPython.core.display.HTML object>"
      ]
     },
     "metadata": {},
     "output_type": "display_data"
    },
    {
     "data": {
      "text/html": [
       "Find logs at: <code>./wandb/run-20220417_113328-yrjy469p/logs</code>"
      ],
      "text/plain": [
       "<IPython.core.display.HTML object>"
      ]
     },
     "metadata": {},
     "output_type": "display_data"
    }
   ],
   "source": [
    "model_name = 'xlnet-base-cased'\n",
    "data_file = './Datasets/check.csv'\n",
    "\n",
    "dropout=0.1\n",
    "lr=1e-5\n",
    "batch_size=24\n",
    "random_state=1000\n",
    "epochs=100\n",
    "data_cut=None\n",
    "max_length=512\n",
    "task_type='scalar'\n",
    "freeze_layers=0\n",
    "#num_classifier=1\n",
    "\n",
    "wandb_project = 'xlnet_classification'\n",
    "#wandb_project = 'testing'\n",
    "wandb_group = 'num_classfier_test'\n",
    "wandb_memo = 'classifier 개수 testing 중'\n",
    "\n",
    "for i in range(1,6):\n",
    "    num_classifier=i\n",
    "    wandb_name = \"classifier_{0}\".format(num_classifier)\n",
    "    trainer = NLP_classification(model_name=model_name, max_length=max_length, random_state=random_state, task_type=task_type, freeze_layers=freeze_layers, num_classifier=num_classifier)\n",
    "    trainer.training(data_file, epochs=epochs, batch_size=batch_size, lr=lr, dropout=dropout, data_cut=data_cut, wandb_log=True, wandb_project=wandb_project, wandb_group=wandb_group, wandb_memo=wandb_memo, wandb_name=wandb_name)\n",
    "    wandb.finish()"
   ]
  },
  {
   "cell_type": "markdown",
   "id": "71653ada-ec23-4f29-a045-57c0208107c3",
   "metadata": {
    "tags": []
   },
   "source": [
    "# 세부 test"
   ]
  },
  {
   "cell_type": "code",
   "execution_count": 2,
   "id": "b7abaa85-bdf2-45e7-84ad-401b1fd042d8",
   "metadata": {
    "collapsed": true,
    "jupyter": {
     "outputs_hidden": true
    },
    "tags": []
   },
   "outputs": [
    {
     "name": "stderr",
     "output_type": "stream",
     "text": [
      "Failed to detect the name of this notebook, you can set it manually with the WANDB_NOTEBOOK_NAME environment variable to enable code saving.\n",
      "\u001b[34m\u001b[1mwandb\u001b[0m: Currently logged in as: \u001b[33mihateml\u001b[0m (use `wandb login --relogin` to force relogin)\n"
     ]
    },
    {
     "data": {
      "text/html": [
       "Tracking run with wandb version 0.12.14"
      ],
      "text/plain": [
       "<IPython.core.display.HTML object>"
      ]
     },
     "metadata": {},
     "output_type": "display_data"
    },
    {
     "data": {
      "text/html": [
       "Run data is saved locally in <code>/home/rnwnsgud1234/1.text/textmining/wandb/run-20220418_101433-2p94wgma</code>"
      ],
      "text/plain": [
       "<IPython.core.display.HTML object>"
      ]
     },
     "metadata": {},
     "output_type": "display_data"
    },
    {
     "data": {
      "text/html": [
       "Syncing run <strong><a href=\"https://wandb.ai/ihateml/xlnet_classification/runs/2p94wgma\" target=\"_blank\">ethereal-pond-15</a></strong> to <a href=\"https://wandb.ai/ihateml/xlnet_classification\" target=\"_blank\">Weights & Biases</a> (<a href=\"https://wandb.me/run\" target=\"_blank\">docs</a>)<br/>"
      ],
      "text/plain": [
       "<IPython.core.display.HTML object>"
      ]
     },
     "metadata": {},
     "output_type": "display_data"
    },
    {
     "name": "stderr",
     "output_type": "stream",
     "text": [
      "\u001b[34m\u001b[1mwandb\u001b[0m: \u001b[33mWARNING\u001b[0m Calling wandb.run.save without any arguments is deprecated.Changes to attributes are automatically persisted.\n",
      "100%|████████████████████████████████████████████████████████████████████████████████████████████████████████████████████████████████████████████████| 575/575 [20:48<00:00,  2.17s/it]\n",
      "100%|████████████████████████████████████████████████████████████████████████████████████████████████████████████████████████████████████████████████| 144/144 [03:17<00:00,  1.37s/it]\n"
     ]
    },
    {
     "name": "stdout",
     "output_type": "stream",
     "text": [
      "Abstract   Intro      Main       Method     Summary    Caption   \n",
      "0/156      106/361    1474/1584  0/399      0/190      701/757   \n",
      "Epoch: 001, Train Loss: 1.1410906, Val Loss: 0.9169068, Val Acc: 0.6617348, Val Precision: 0.3279043, Val Recall: 0.3583680, Val F1: 0.3335432 \n",
      "Validation loss decreased (inf --> 0.916907). \n"
     ]
    },
    {
     "name": "stderr",
     "output_type": "stream",
     "text": [
      "100%|████████████████████████████████████████████████████████████████████████████████████████████████████████████████████████████████████████████████| 575/575 [20:48<00:00,  2.17s/it]\n",
      "100%|████████████████████████████████████████████████████████████████████████████████████████████████████████████████████████████████████████████████| 144/144 [03:16<00:00,  1.37s/it]\n"
     ]
    },
    {
     "name": "stdout",
     "output_type": "stream",
     "text": [
      "Abstract   Intro      Main       Method     Summary    Caption   \n",
      "55/156     197/361    1362/1584  147/399    36/190     676/757   \n",
      "Epoch: 002, Train Loss: 0.8477802, Val Loss: 0.7915550, Val Acc: 0.7174355, Val Precision: 0.6105126, Val Recall: 0.5348354, Val F1: 0.5589816 \n",
      "Validation loss decreased (0.916907 --> 0.791555). \n"
     ]
    },
    {
     "name": "stderr",
     "output_type": "stream",
     "text": [
      "100%|████████████████████████████████████████████████████████████████████████████████████████████████████████████████████████████████████████████████| 575/575 [20:48<00:00,  2.17s/it]\n",
      "100%|████████████████████████████████████████████████████████████████████████████████████████████████████████████████████████████████████████████████| 144/144 [03:17<00:00,  1.37s/it]\n"
     ]
    },
    {
     "name": "stdout",
     "output_type": "stream",
     "text": [
      "Abstract   Intro      Main       Method     Summary    Caption   \n",
      "32/156     185/361    1366/1584  150/399    66/190     743/757   \n",
      "Epoch: 003, Train Loss: 0.7421278, Val Loss: 0.7361344, Val Acc: 0.7374529, Val Precision: 0.6796969, Val Recall: 0.5474636, Val F1: 0.5810527 \n",
      "Validation loss decreased (0.791555 --> 0.736134). \n"
     ]
    },
    {
     "name": "stderr",
     "output_type": "stream",
     "text": [
      "100%|████████████████████████████████████████████████████████████████████████████████████████████████████████████████████████████████████████████████| 575/575 [20:48<00:00,  2.17s/it]\n",
      "100%|████████████████████████████████████████████████████████████████████████████████████████████████████████████████████████████████████████████████| 144/144 [03:17<00:00,  1.37s/it]\n"
     ]
    },
    {
     "name": "stdout",
     "output_type": "stream",
     "text": [
      "Abstract   Intro      Main       Method     Summary    Caption   \n",
      "54/156     171/361    1423/1584  136/399    71/190     746/757   \n",
      "Epoch: 004, Train Loss: 0.6741600, Val Loss: 0.6947480, Val Acc: 0.7545692, Val Precision: 0.7196590, Val Recall: 0.5697003, Val F1: 0.6155600 \n",
      "Validation loss decreased (0.736134 --> 0.694748). \n"
     ]
    },
    {
     "name": "stderr",
     "output_type": "stream",
     "text": [
      "100%|████████████████████████████████████████████████████████████████████████████████████████████████████████████████████████████████████████████████| 575/575 [20:48<00:00,  2.17s/it]\n",
      "100%|████████████████████████████████████████████████████████████████████████████████████████████████████████████████████████████████████████████████| 144/144 [03:17<00:00,  1.37s/it]\n"
     ]
    },
    {
     "name": "stdout",
     "output_type": "stream",
     "text": [
      "Abstract   Intro      Main       Method     Summary    Caption   \n",
      "75/156     226/361    1410/1584  116/399    101/190    729/757   \n",
      "Epoch: 005, Train Loss: 0.6192677, Val Loss: 0.6242311, Val Acc: 0.7708152, Val Precision: 0.7253588, Val Recall: 0.6303795, Val F1: 0.6606279 \n",
      "Validation loss decreased (0.694748 --> 0.624231). \n"
     ]
    },
    {
     "name": "stderr",
     "output_type": "stream",
     "text": [
      "100%|████████████████████████████████████████████████████████████████████████████████████████████████████████████████████████████████████████████████| 575/575 [20:48<00:00,  2.17s/it]\n",
      "100%|████████████████████████████████████████████████████████████████████████████████████████████████████████████████████████████████████████████████| 144/144 [03:17<00:00,  1.37s/it]\n"
     ]
    },
    {
     "name": "stdout",
     "output_type": "stream",
     "text": [
      "Abstract   Intro      Main       Method     Summary    Caption   \n",
      "77/156     232/361    1399/1584  119/399    93/190     752/757   \n",
      "Epoch: 006, Train Loss: 0.5774685, Val Loss: 0.6210891, Val Acc: 0.7751668, Val Precision: 0.7449400, Val Recall: 0.6334284, Val F1: 0.6653738 \n",
      "Validation loss decreased (0.624231 --> 0.621089). \n"
     ]
    },
    {
     "name": "stderr",
     "output_type": "stream",
     "text": [
      "100%|████████████████████████████████████████████████████████████████████████████████████████████████████████████████████████████████████████████████| 575/575 [20:47<00:00,  2.17s/it]\n",
      "100%|████████████████████████████████████████████████████████████████████████████████████████████████████████████████████████████████████████████████| 144/144 [03:17<00:00,  1.37s/it]\n"
     ]
    },
    {
     "name": "stdout",
     "output_type": "stream",
     "text": [
      "Abstract   Intro      Main       Method     Summary    Caption   \n",
      "107/156    177/361    1445/1584  128/399    91/190     746/757   \n",
      "Epoch: 007, Train Loss: 0.5487472, Val Loss: 0.6243916, Val Acc: 0.7815492, Val Precision: 0.7632010, Val Recall: 0.6456113, Val F1: 0.6805515 \n",
      "EarlyStopping counter: 1 out of 5\n"
     ]
    },
    {
     "name": "stderr",
     "output_type": "stream",
     "text": [
      "100%|████████████████████████████████████████████████████████████████████████████████████████████████████████████████████████████████████████████████| 575/575 [20:48<00:00,  2.17s/it]\n",
      "100%|████████████████████████████████████████████████████████████████████████████████████████████████████████████████████████████████████████████████| 144/144 [03:17<00:00,  1.37s/it]\n"
     ]
    },
    {
     "name": "stdout",
     "output_type": "stream",
     "text": [
      "Abstract   Intro      Main       Method     Summary    Caption   \n",
      "80/156     268/361    1338/1584  165/399    98/190     751/757   \n",
      "Epoch: 008, Train Loss: 0.5247347, Val Loss: 0.6098859, Val Acc: 0.7832898, Val Precision: 0.7477455, Val Recall: 0.6702162, Val F1: 0.6948503 \n",
      "Validation loss decreased (0.621089 --> 0.609886). \n"
     ]
    },
    {
     "name": "stderr",
     "output_type": "stream",
     "text": [
      "100%|████████████████████████████████████████████████████████████████████████████████████████████████████████████████████████████████████████████████| 575/575 [20:48<00:00,  2.17s/it]\n",
      "100%|████████████████████████████████████████████████████████████████████████████████████████████████████████████████████████████████████████████████| 144/144 [03:16<00:00,  1.37s/it]\n"
     ]
    },
    {
     "name": "stdout",
     "output_type": "stream",
     "text": [
      "Abstract   Intro      Main       Method     Summary    Caption   \n",
      "92/156     251/361    1362/1584  170/399    98/190     748/757   \n",
      "Epoch: 009, Train Loss: 0.4954329, Val Loss: 0.5969490, Val Acc: 0.7893821, Val Precision: 0.7536800, Val Recall: 0.6791414, Val F1: 0.7052373 \n",
      "Validation loss decreased (0.609886 --> 0.596949). \n"
     ]
    },
    {
     "name": "stderr",
     "output_type": "stream",
     "text": [
      "100%|████████████████████████████████████████████████████████████████████████████████████████████████████████████████████████████████████████████████| 575/575 [20:48<00:00,  2.17s/it]\n",
      "100%|████████████████████████████████████████████████████████████████████████████████████████████████████████████████████████████████████████████████| 144/144 [03:17<00:00,  1.37s/it]\n"
     ]
    },
    {
     "name": "stdout",
     "output_type": "stream",
     "text": [
      "Abstract   Intro      Main       Method     Summary    Caption   \n",
      "78/156     249/361    1419/1584  104/399    109/190    747/757   \n",
      "Epoch: 010, Train Loss: 0.4743184, Val Loss: 0.5994987, Val Acc: 0.7850305, Val Precision: 0.7603432, Val Recall: 0.6511183, Val F1: 0.6799799 \n",
      "EarlyStopping counter: 1 out of 5\n"
     ]
    },
    {
     "name": "stderr",
     "output_type": "stream",
     "text": [
      "100%|████████████████████████████████████████████████████████████████████████████████████████████████████████████████████████████████████████████████| 575/575 [20:47<00:00,  2.17s/it]\n",
      "100%|████████████████████████████████████████████████████████████████████████████████████████████████████████████████████████████████████████████████| 144/144 [03:17<00:00,  1.37s/it]\n"
     ]
    },
    {
     "name": "stdout",
     "output_type": "stream",
     "text": [
      "Abstract   Intro      Main       Method     Summary    Caption   \n",
      "104/156    218/361    1324/1584  161/399    125/190    751/757   \n",
      "Epoch: 011, Train Loss: 0.4451485, Val Loss: 0.6158984, Val Acc: 0.7783580, Val Precision: 0.7063818, Val Recall: 0.6933135, Val F1: 0.6943785 \n",
      "EarlyStopping counter: 2 out of 5\n"
     ]
    },
    {
     "name": "stderr",
     "output_type": "stream",
     "text": [
      "100%|████████████████████████████████████████████████████████████████████████████████████████████████████████████████████████████████████████████████| 575/575 [20:47<00:00,  2.17s/it]\n",
      "100%|████████████████████████████████████████████████████████████████████████████████████████████████████████████████████████████████████████████████| 144/144 [03:17<00:00,  1.37s/it]\n"
     ]
    },
    {
     "name": "stdout",
     "output_type": "stream",
     "text": [
      "Abstract   Intro      Main       Method     Summary    Caption   \n",
      "104/156    252/361    1374/1584  154/399    106/190    746/757   \n",
      "Epoch: 012, Train Loss: 0.4285173, Val Loss: 0.5891169, Val Acc: 0.7937337, Val Precision: 0.7517270, Val Recall: 0.6935801, Val F1: 0.7134104 \n",
      "Validation loss decreased (0.596949 --> 0.589117). \n"
     ]
    },
    {
     "name": "stderr",
     "output_type": "stream",
     "text": [
      "100%|████████████████████████████████████████████████████████████████████████████████████████████████████████████████████████████████████████████████| 575/575 [20:48<00:00,  2.17s/it]\n",
      "100%|████████████████████████████████████████████████████████████████████████████████████████████████████████████████████████████████████████████████| 144/144 [03:17<00:00,  1.37s/it]\n"
     ]
    },
    {
     "name": "stdout",
     "output_type": "stream",
     "text": [
      "Abstract   Intro      Main       Method     Summary    Caption   \n",
      "120/156    217/361    1388/1584  151/399    122/190    741/757   \n",
      "Epoch: 013, Train Loss: 0.3989215, Val Loss: 0.6056410, Val Acc: 0.7946040, Val Precision: 0.7337705, Val Recall: 0.7076695, Val F1: 0.7135591 \n",
      "EarlyStopping counter: 1 out of 5\n"
     ]
    },
    {
     "name": "stderr",
     "output_type": "stream",
     "text": [
      " 43%|██████████████████████████████████████████████████████████████▎                                                                                 | 249/575 [09:01<11:48,  2.17s/it]wandb: Network error (ReadTimeout), entering retry loop.\n",
      "100%|████████████████████████████████████████████████████████████████████████████████████████████████████████████████████████████████████████████████| 575/575 [20:48<00:00,  2.17s/it]\n",
      "100%|████████████████████████████████████████████████████████████████████████████████████████████████████████████████████████████████████████████████| 144/144 [03:17<00:00,  1.37s/it]\n"
     ]
    },
    {
     "name": "stdout",
     "output_type": "stream",
     "text": [
      "Abstract   Intro      Main       Method     Summary    Caption   \n",
      "81/156     220/361    1341/1584  199/399    105/190    752/757   \n",
      "Epoch: 014, Train Loss: 0.3704545, Val Loss: 0.6791137, Val Acc: 0.7827096, Val Precision: 0.7628639, Val Recall: 0.6700022, Val F1: 0.7050443 \n",
      "EarlyStopping counter: 2 out of 5\n"
     ]
    },
    {
     "name": "stderr",
     "output_type": "stream",
     "text": [
      "100%|████████████████████████████████████████████████████████████████████████████████████████████████████████████████████████████████████████████████| 575/575 [20:48<00:00,  2.17s/it]\n",
      "100%|████████████████████████████████████████████████████████████████████████████████████████████████████████████████████████████████████████████████| 144/144 [03:17<00:00,  1.37s/it]\n"
     ]
    },
    {
     "name": "stdout",
     "output_type": "stream",
     "text": [
      "Abstract   Intro      Main       Method     Summary    Caption   \n",
      "76/156     289/361    1272/1584  186/399    116/190    752/757   \n",
      "Epoch: 015, Train Loss: 0.3450490, Val Loss: 0.6731377, Val Acc: 0.7806789, Val Precision: 0.7295638, Val Recall: 0.6934751, Val F1: 0.6985079 \n",
      "EarlyStopping counter: 3 out of 5\n"
     ]
    },
    {
     "name": "stderr",
     "output_type": "stream",
     "text": [
      "100%|████████████████████████████████████████████████████████████████████████████████████████████████████████████████████████████████████████████████| 575/575 [20:48<00:00,  2.17s/it]\n",
      "100%|████████████████████████████████████████████████████████████████████████████████████████████████████████████████████████████████████████████████| 144/144 [03:17<00:00,  1.37s/it]\n"
     ]
    },
    {
     "name": "stdout",
     "output_type": "stream",
     "text": [
      "Abstract   Intro      Main       Method     Summary    Caption   \n",
      "102/156    274/361    1346/1584  164/399    112/190    749/757   \n",
      "Epoch: 016, Train Loss: 0.3182366, Val Loss: 0.6545608, Val Acc: 0.7969249, Val Precision: 0.7398509, Val Recall: 0.7087549, Val F1: 0.7164555 \n",
      "EarlyStopping counter: 4 out of 5\n"
     ]
    },
    {
     "name": "stderr",
     "output_type": "stream",
     "text": [
      " 29%|██████████████████████████████████████████▎                                                                                                     | 169/575 [06:07<14:42,  2.17s/it]wandb: Network error (ReadTimeout), entering retry loop.\n",
      "100%|████████████████████████████████████████████████████████████████████████████████████████████████████████████████████████████████████████████████| 575/575 [20:48<00:00,  2.17s/it]\n",
      "100%|████████████████████████████████████████████████████████████████████████████████████████████████████████████████████████████████████████████████| 144/144 [03:17<00:00,  1.37s/it]\n"
     ]
    },
    {
     "name": "stdout",
     "output_type": "stream",
     "text": [
      "Abstract   Intro      Main       Method     Summary    Caption   \n",
      "101/156    247/361    1393/1584  138/399    115/190    751/757   \n",
      "Epoch: 017, Train Loss: 0.2913840, Val Loss: 0.6875759, Val Acc: 0.7963446, Val Precision: 0.7506472, Val Recall: 0.6923779, Val F1: 0.7106147 \n",
      "EarlyStopping counter: 5 out of 5\n",
      "Early stopping\n",
      "\n"
     ]
    },
    {
     "data": {
      "text/html": [
       "Waiting for W&B process to finish... <strong style=\"color:green\">(success).</strong>"
      ],
      "text/plain": [
       "<IPython.core.display.HTML object>"
      ]
     },
     "metadata": {},
     "output_type": "display_data"
    },
    {
     "data": {
      "text/html": [
       "<style>\n",
       "    table.wandb td:nth-child(1) { padding: 0 10px; text-align: right }\n",
       "    .wandb-row { display: flex; flex-direction: row; flex-wrap: wrap; width: 100% }\n",
       "    .wandb-col { display: flex; flex-direction: column; flex-basis: 100%; flex: 1; padding: 10px; }\n",
       "    </style>\n",
       "<div class=\"wandb-row\"><div class=\"wandb-col\"><h3>Run history:</h3><br/><table class=\"wandb\"><tr><td>train_loss</td><td>█▆▅▄▄▃▃▃▃▃▂▂▂▂▁▁▁</td></tr><tr><td>val_acc</td><td>▁▄▅▆▇▇▇▇█▇▇██▇▇██</td></tr><tr><td>val_f1</td><td>▁▅▆▆▇▇▇██▇███████</td></tr><tr><td>val_loss</td><td>█▅▄▃▂▂▂▁▁▁▂▁▁▃▃▂▃</td></tr><tr><td>val_precision</td><td>▁▆▇▇▇█████▇███▇██</td></tr><tr><td>val_recall</td><td>▁▅▅▅▆▆▇▇▇▇███▇███</td></tr></table><br/></div><div class=\"wandb-col\"><h3>Run summary:</h3><br/><table class=\"wandb\"><tr><td>train_loss</td><td>0.29138</td></tr><tr><td>val_acc</td><td>0.79634</td></tr><tr><td>val_f1</td><td>0.71061</td></tr><tr><td>val_loss</td><td>0.68758</td></tr><tr><td>val_precision</td><td>0.75065</td></tr><tr><td>val_recall</td><td>0.69238</td></tr></table><br/></div></div>"
      ],
      "text/plain": [
       "<IPython.core.display.HTML object>"
      ]
     },
     "metadata": {},
     "output_type": "display_data"
    },
    {
     "data": {
      "text/html": [
       "Synced <strong style=\"color:#cdcd00\">ethereal-pond-15</strong>: <a href=\"https://wandb.ai/ihateml/xlnet_classification/runs/2p94wgma\" target=\"_blank\">https://wandb.ai/ihateml/xlnet_classification/runs/2p94wgma</a><br/>Synced 7 W&B file(s), 0 media file(s), 0 artifact file(s) and 1 other file(s)"
      ],
      "text/plain": [
       "<IPython.core.display.HTML object>"
      ]
     },
     "metadata": {},
     "output_type": "display_data"
    },
    {
     "data": {
      "text/html": [
       "Find logs at: <code>./wandb/run-20220418_101433-2p94wgma/logs</code>"
      ],
      "text/plain": [
       "<IPython.core.display.HTML object>"
      ]
     },
     "metadata": {},
     "output_type": "display_data"
    }
   ],
   "source": [
    "model_name = 'xlnet-base-cased'\n",
    "data_file = './Datasets/check.csv'\n",
    "\n",
    "dropout=0.1\n",
    "lr=1e-5\n",
    "batch_size=24\n",
    "random_state=1000\n",
    "epochs=100\n",
    "data_cut=None\n",
    "max_length=512\n",
    "task_type='scalar'\n",
    "freeze_layers=1\n",
    "num_classifier=3\n",
    "\n",
    "wandb_project = 'xlnet_classification'\n",
    "#wandb_project = 'testing'\n",
    "wandb_group = 'freeze&classifier_test'\n",
    "wandb_memo = 'freeze&classifier_test 조합 test 중'\n",
    "\n",
    "wandb_name = \"fz_{0}_clf_{1}\".format(freeze_layers, num_classifier)\n",
    "trainer = NLP_classification(model_name=model_name, max_length=max_length, random_state=random_state, task_type=task_type, freeze_layers=freeze_layers, num_classifier=num_classifier)\n",
    "trainer.training(data_file, epochs=epochs, batch_size=batch_size, lr=lr, dropout=dropout, data_cut=data_cut, wandb_log=True, wandb_project=wandb_project, wandb_group=wandb_group, wandb_memo=wandb_memo, wandb_name=wandb_name)\n",
    "wandb.finish()\n"
   ]
  },
  {
   "cell_type": "code",
   "execution_count": 2,
   "id": "9b475fdd-5340-45fb-8f08-fbf0610529ad",
   "metadata": {
    "collapsed": true,
    "jupyter": {
     "outputs_hidden": true
    },
    "tags": []
   },
   "outputs": [
    {
     "name": "stderr",
     "output_type": "stream",
     "text": [
      "Failed to detect the name of this notebook, you can set it manually with the WANDB_NOTEBOOK_NAME environment variable to enable code saving.\n",
      "\u001b[34m\u001b[1mwandb\u001b[0m: Currently logged in as: \u001b[33mihateml\u001b[0m (use `wandb login --relogin` to force relogin)\n"
     ]
    },
    {
     "data": {
      "text/html": [
       "Tracking run with wandb version 0.12.14"
      ],
      "text/plain": [
       "<IPython.core.display.HTML object>"
      ]
     },
     "metadata": {},
     "output_type": "display_data"
    },
    {
     "data": {
      "text/html": [
       "Run data is saved locally in <code>/home/rnwnsgud1234/1.text/textmining/wandb/run-20220418_190710-cfodviwr</code>"
      ],
      "text/plain": [
       "<IPython.core.display.HTML object>"
      ]
     },
     "metadata": {},
     "output_type": "display_data"
    },
    {
     "data": {
      "text/html": [
       "Syncing run <strong><a href=\"https://wandb.ai/ihateml/xlnet_classification/runs/cfodviwr\" target=\"_blank\">fine-resonance-16</a></strong> to <a href=\"https://wandb.ai/ihateml/xlnet_classification\" target=\"_blank\">Weights & Biases</a> (<a href=\"https://wandb.me/run\" target=\"_blank\">docs</a>)<br/>"
      ],
      "text/plain": [
       "<IPython.core.display.HTML object>"
      ]
     },
     "metadata": {},
     "output_type": "display_data"
    },
    {
     "name": "stderr",
     "output_type": "stream",
     "text": [
      "\u001b[34m\u001b[1mwandb\u001b[0m: \u001b[33mWARNING\u001b[0m Calling wandb.run.save without any arguments is deprecated.Changes to attributes are automatically persisted.\n",
      "100%|████████████████████████████████████████████████████████████████████████████████████████████████████████████████████████████████████████████████| 575/575 [20:48<00:00,  2.17s/it]\n",
      "100%|████████████████████████████████████████████████████████████████████████████████████████████████████████████████████████████████████████████████| 144/144 [03:17<00:00,  1.37s/it]\n"
     ]
    },
    {
     "name": "stdout",
     "output_type": "stream",
     "text": [
      "Abstract   Intro      Main       Method     Summary    Caption   \n",
      "0/156      95/361     1369/1584  0/399      0/190      729/757   \n",
      "Epoch: 001, Train Loss: 0.3446012, Val Loss: 0.2768692, Val Acc: 0.6362054, Val Precision: 0.2949726, Val Recall: 0.3484062, Val F1: 0.3130941 \n",
      "Validation loss decreased (inf --> 0.276869). \n"
     ]
    },
    {
     "name": "stderr",
     "output_type": "stream",
     "text": [
      "100%|████████████████████████████████████████████████████████████████████████████████████████████████████████████████████████████████████████████████| 575/575 [20:47<00:00,  2.17s/it]\n",
      "100%|████████████████████████████████████████████████████████████████████████████████████████████████████████████████████████████████████████████████| 144/144 [03:17<00:00,  1.37s/it]\n"
     ]
    },
    {
     "name": "stdout",
     "output_type": "stream",
     "text": [
      "Abstract   Intro      Main       Method     Summary    Caption   \n",
      "3/156      199/361    1453/1584  27/399     0/190      700/757   \n",
      "Epoch: 002, Train Loss: 0.2442377, Val Loss: 0.2310374, Val Acc: 0.6910357, Val Precision: 0.4946742, Val Recall: 0.4133579, Val F1: 0.3907949 \n",
      "Validation loss decreased (0.276869 --> 0.231037). \n"
     ]
    },
    {
     "name": "stderr",
     "output_type": "stream",
     "text": [
      "100%|████████████████████████████████████████████████████████████████████████████████████████████████████████████████████████████████████████████████| 575/575 [20:48<00:00,  2.17s/it]\n",
      "100%|████████████████████████████████████████████████████████████████████████████████████████████████████████████████████████████████████████████████| 144/144 [03:17<00:00,  1.37s/it]\n"
     ]
    },
    {
     "name": "stdout",
     "output_type": "stream",
     "text": [
      "Abstract   Intro      Main       Method     Summary    Caption   \n",
      "9/156      186/361    1420/1584  115/399    0/190      728/757   \n",
      "Epoch: 003, Train Loss: 0.2175566, Val Loss: 0.2137593, Val Acc: 0.7130838, Val Precision: 0.5231483, Val Recall: 0.4532173, Val F1: 0.4516417 \n",
      "Validation loss decreased (0.231037 --> 0.213759). \n"
     ]
    },
    {
     "name": "stderr",
     "output_type": "stream",
     "text": [
      "100%|████████████████████████████████████████████████████████████████████████████████████████████████████████████████████████████████████████████████| 575/575 [20:48<00:00,  2.17s/it]\n",
      "100%|████████████████████████████████████████████████████████████████████████████████████████████████████████████████████████████████████████████████| 144/144 [03:17<00:00,  1.37s/it]\n"
     ]
    },
    {
     "name": "stdout",
     "output_type": "stream",
     "text": [
      "Abstract   Intro      Main       Method     Summary    Caption   \n",
      "15/156     145/361    1483/1584  96/399     12/190     731/757   \n",
      "Epoch: 004, Train Loss: 0.2020079, Val Loss: 0.2125141, Val Acc: 0.7200464, Val Precision: 0.6812476, Val Recall: 0.4505778, Val F1: 0.4708727 \n",
      "Validation loss decreased (0.213759 --> 0.212514). \n"
     ]
    },
    {
     "name": "stderr",
     "output_type": "stream",
     "text": [
      "100%|████████████████████████████████████████████████████████████████████████████████████████████████████████████████████████████████████████████████| 575/575 [20:48<00:00,  2.17s/it]\n",
      "100%|████████████████████████████████████████████████████████████████████████████████████████████████████████████████████████████████████████████████| 144/144 [03:16<00:00,  1.37s/it]\n"
     ]
    },
    {
     "name": "stdout",
     "output_type": "stream",
     "text": [
      "Abstract   Intro      Main       Method     Summary    Caption   \n",
      "48/156     198/361    1464/1584  104/399    77/190     718/757   \n",
      "Epoch: 005, Train Loss: 0.1909384, Val Loss: 0.1931598, Val Acc: 0.7568900, Val Precision: 0.6938591, Val Recall: 0.5658011, Val F1: 0.6022217 \n",
      "Validation loss decreased (0.212514 --> 0.193160). \n"
     ]
    },
    {
     "name": "stderr",
     "output_type": "stream",
     "text": [
      "100%|████████████████████████████████████████████████████████████████████████████████████████████████████████████████████████████████████████████████| 575/575 [20:48<00:00,  2.17s/it]\n",
      "100%|████████████████████████████████████████████████████████████████████████████████████████████████████████████████████████████████████████████████| 144/144 [03:17<00:00,  1.37s/it]\n"
     ]
    },
    {
     "name": "stdout",
     "output_type": "stream",
     "text": [
      "Abstract   Intro      Main       Method     Summary    Caption   \n",
      "77/156     244/361    1377/1584  144/399    70/190     750/757   \n",
      "Epoch: 006, Train Loss: 0.1803689, Val Loss: 0.1819714, Val Acc: 0.7722657, Val Precision: 0.7364395, Val Recall: 0.6264807, Val F1: 0.6546849 \n",
      "Validation loss decreased (0.193160 --> 0.181971). \n"
     ]
    },
    {
     "name": "stderr",
     "output_type": "stream",
     "text": [
      "100%|████████████████████████████████████████████████████████████████████████████████████████████████████████████████████████████████████████████████| 575/575 [20:47<00:00,  2.17s/it]\n",
      "100%|████████████████████████████████████████████████████████████████████████████████████████████████████████████████████████████████████████████████| 144/144 [03:16<00:00,  1.37s/it]\n"
     ]
    },
    {
     "name": "stdout",
     "output_type": "stream",
     "text": [
      "Abstract   Intro      Main       Method     Summary    Caption   \n",
      "115/156    156/361    1425/1584  148/399    87/190     752/757   \n",
      "Epoch: 007, Train Loss: 0.1690968, Val Loss: 0.1815332, Val Acc: 0.7783580, Val Precision: 0.7358856, Val Recall: 0.6485251, Val F1: 0.6656598 \n",
      "Validation loss decreased (0.181971 --> 0.181533). \n"
     ]
    },
    {
     "name": "stderr",
     "output_type": "stream",
     "text": [
      "100%|████████████████████████████████████████████████████████████████████████████████████████████████████████████████████████████████████████████████| 575/575 [20:48<00:00,  2.17s/it]\n",
      "100%|████████████████████████████████████████████████████████████████████████████████████████████████████████████████████████████████████████████████| 144/144 [03:17<00:00,  1.37s/it]\n"
     ]
    },
    {
     "name": "stdout",
     "output_type": "stream",
     "text": [
      "Abstract   Intro      Main       Method     Summary    Caption   \n",
      "84/156     261/361    1326/1584  176/399    92/190     752/757   \n",
      "Epoch: 008, Train Loss: 0.1627755, Val Loss: 0.1776077, Val Acc: 0.7806789, Val Precision: 0.7446638, Val Recall: 0.6695471, Val F1: 0.6918797 \n",
      "Validation loss decreased (0.181533 --> 0.177608). \n"
     ]
    },
    {
     "name": "stderr",
     "output_type": "stream",
     "text": [
      "100%|████████████████████████████████████████████████████████████████████████████████████████████████████████████████████████████████████████████████| 575/575 [20:48<00:00,  2.17s/it]\n",
      "100%|████████████████████████████████████████████████████████████████████████████████████████████████████████████████████████████████████████████████| 144/144 [03:16<00:00,  1.37s/it]\n"
     ]
    },
    {
     "name": "stdout",
     "output_type": "stream",
     "text": [
      "Abstract   Intro      Main       Method     Summary    Caption   \n",
      "101/156    246/361    1364/1584  183/399    89/190     747/757   \n",
      "Epoch: 009, Train Loss: 0.1544858, Val Loss: 0.1716759, Val Acc: 0.7919930, Val Precision: 0.7594675, Val Recall: 0.6839742, Val F1: 0.7067316 \n",
      "Validation loss decreased (0.177608 --> 0.171676). \n"
     ]
    },
    {
     "name": "stderr",
     "output_type": "stream",
     "text": [
      "100%|████████████████████████████████████████████████████████████████████████████████████████████████████████████████████████████████████████████████| 575/575 [20:48<00:00,  2.17s/it]\n",
      "100%|████████████████████████████████████████████████████████████████████████████████████████████████████████████████████████████████████████████████| 144/144 [03:17<00:00,  1.37s/it]\n"
     ]
    },
    {
     "name": "stdout",
     "output_type": "stream",
     "text": [
      "Abstract   Intro      Main       Method     Summary    Caption   \n",
      "72/156     248/361    1430/1584  85/399     103/190    707/757   \n",
      "Epoch: 010, Train Loss: 0.1488634, Val Loss: 0.1861448, Val Acc: 0.7673339, Val Precision: 0.7414823, Val Recall: 0.6233974, Val F1: 0.6515665 \n",
      "EarlyStopping counter: 1 out of 5\n"
     ]
    },
    {
     "name": "stderr",
     "output_type": "stream",
     "text": [
      "100%|████████████████████████████████████████████████████████████████████████████████████████████████████████████████████████████████████████████████| 575/575 [20:48<00:00,  2.17s/it]\n",
      "100%|████████████████████████████████████████████████████████████████████████████████████████████████████████████████████████████████████████████████| 144/144 [03:17<00:00,  1.37s/it]\n"
     ]
    },
    {
     "name": "stdout",
     "output_type": "stream",
     "text": [
      "Abstract   Intro      Main       Method     Summary    Caption   \n",
      "118/156    213/361    1354/1584  158/399    113/190    753/757   \n",
      "Epoch: 011, Train Loss: 0.1415835, Val Loss: 0.1753172, Val Acc: 0.7859008, Val Precision: 0.7079130, Val Recall: 0.6977798, Val F1: 0.6959343 \n",
      "EarlyStopping counter: 2 out of 5\n"
     ]
    },
    {
     "name": "stderr",
     "output_type": "stream",
     "text": [
      "100%|████████████████████████████████████████████████████████████████████████████████████████████████████████████████████████████████████████████████| 575/575 [20:48<00:00,  2.17s/it]\n",
      "100%|████████████████████████████████████████████████████████████████████████████████████████████████████████████████████████████████████████████████| 144/144 [03:17<00:00,  1.37s/it]\n"
     ]
    },
    {
     "name": "stdout",
     "output_type": "stream",
     "text": [
      "Abstract   Intro      Main       Method     Summary    Caption   \n",
      "100/156    258/361    1374/1584  152/399    104/190    750/757   \n",
      "Epoch: 012, Train Loss: 0.1392234, Val Loss: 0.1658099, Val Acc: 0.7943139, Val Precision: 0.7490730, Val Recall: 0.6903675, Val F1: 0.7089502 \n",
      "Validation loss decreased (0.171676 --> 0.165810). \n"
     ]
    },
    {
     "name": "stderr",
     "output_type": "stream",
     "text": [
      "100%|████████████████████████████████████████████████████████████████████████████████████████████████████████████████████████████████████████████████| 575/575 [20:48<00:00,  2.17s/it]\n",
      "100%|████████████████████████████████████████████████████████████████████████████████████████████████████████████████████████████████████████████████| 144/144 [03:17<00:00,  1.37s/it]\n"
     ]
    },
    {
     "name": "stdout",
     "output_type": "stream",
     "text": [
      "Abstract   Intro      Main       Method     Summary    Caption   \n",
      "121/156    195/361    1389/1584  155/399    118/190    750/757   \n",
      "Epoch: 013, Train Loss: 0.1311829, Val Loss: 0.1749685, Val Acc: 0.7914128, Val Precision: 0.7243973, Val Recall: 0.6988297, Val F1: 0.7020935 \n",
      "EarlyStopping counter: 1 out of 5\n"
     ]
    },
    {
     "name": "stderr",
     "output_type": "stream",
     "text": [
      "100%|████████████████████████████████████████████████████████████████████████████████████████████████████████████████████████████████████████████████| 575/575 [20:48<00:00,  2.17s/it]\n",
      "100%|████████████████████████████████████████████████████████████████████████████████████████████████████████████████████████████████████████████████| 144/144 [03:17<00:00,  1.37s/it]\n"
     ]
    },
    {
     "name": "stdout",
     "output_type": "stream",
     "text": [
      "Abstract   Intro      Main       Method     Summary    Caption   \n",
      "96/156     238/361    1328/1584  184/399    111/190    750/757   \n",
      "Epoch: 014, Train Loss: 0.1247156, Val Loss: 0.1680656, Val Acc: 0.7853206, Val Precision: 0.7364894, Val Recall: 0.6915274, Val F1: 0.7107088 \n",
      "EarlyStopping counter: 2 out of 5\n"
     ]
    },
    {
     "name": "stderr",
     "output_type": "stream",
     "text": [
      "100%|████████████████████████████████████████████████████████████████████████████████████████████████████████████████████████████████████████████████| 575/575 [20:48<00:00,  2.17s/it]\n",
      "100%|████████████████████████████████████████████████████████████████████████████████████████████████████████████████████████████████████████████████| 144/144 [03:17<00:00,  1.37s/it]\n"
     ]
    },
    {
     "name": "stdout",
     "output_type": "stream",
     "text": [
      "Abstract   Intro      Main       Method     Summary    Caption   \n",
      "96/156     264/361    1369/1584  145/399    104/190    754/757   \n",
      "Epoch: 015, Train Loss: 0.1189499, Val Loss: 0.1801715, Val Acc: 0.7925733, Val Precision: 0.7488416, Val Recall: 0.6862947, Val F1: 0.7055391 \n",
      "EarlyStopping counter: 3 out of 5\n"
     ]
    },
    {
     "name": "stderr",
     "output_type": "stream",
     "text": [
      "100%|████████████████████████████████████████████████████████████████████████████████████████████████████████████████████████████████████████████████| 575/575 [20:48<00:00,  2.17s/it]\n",
      "100%|████████████████████████████████████████████████████████████████████████████████████████████████████████████████████████████████████████████████| 144/144 [03:17<00:00,  1.37s/it]\n"
     ]
    },
    {
     "name": "stdout",
     "output_type": "stream",
     "text": [
      "Abstract   Intro      Main       Method     Summary    Caption   \n",
      "111/156    246/361    1324/1584  169/399    121/190    754/757   \n",
      "Epoch: 016, Train Loss: 0.1130546, Val Loss: 0.1832746, Val Acc: 0.7905425, Val Precision: 0.7113678, Val Recall: 0.7142126, Val F1: 0.7100931 \n",
      "EarlyStopping counter: 4 out of 5\n"
     ]
    },
    {
     "name": "stderr",
     "output_type": "stream",
     "text": [
      "100%|████████████████████████████████████████████████████████████████████████████████████████████████████████████████████████████████████████████████| 575/575 [20:48<00:00,  2.17s/it]\n",
      "100%|████████████████████████████████████████████████████████████████████████████████████████████████████████████████████████████████████████████████| 144/144 [03:17<00:00,  1.37s/it]\n"
     ]
    },
    {
     "name": "stdout",
     "output_type": "stream",
     "text": [
      "Abstract   Intro      Main       Method     Summary    Caption   \n",
      "104/156    220/361    1396/1584  142/399    126/190    752/757   \n",
      "Epoch: 017, Train Loss: 0.1038428, Val Loss: 0.1809631, Val Acc: 0.7948941, Val Precision: 0.7381821, Val Recall: 0.6949734, Val F1: 0.7086559 \n",
      "EarlyStopping counter: 5 out of 5\n",
      "Early stopping\n",
      "\n"
     ]
    },
    {
     "data": {
      "text/html": [
       "Waiting for W&B process to finish... <strong style=\"color:green\">(success).</strong>"
      ],
      "text/plain": [
       "<IPython.core.display.HTML object>"
      ]
     },
     "metadata": {},
     "output_type": "display_data"
    },
    {
     "data": {
      "text/html": [
       "<style>\n",
       "    table.wandb td:nth-child(1) { padding: 0 10px; text-align: right }\n",
       "    .wandb-row { display: flex; flex-direction: row; flex-wrap: wrap; width: 100% }\n",
       "    .wandb-col { display: flex; flex-direction: column; flex-basis: 100%; flex: 1; padding: 10px; }\n",
       "    </style>\n",
       "<div class=\"wandb-row\"><div class=\"wandb-col\"><h3>Run history:</h3><br/><table class=\"wandb\"><tr><td>train_loss</td><td>█▅▄▄▄▃▃▃▂▂▂▂▂▂▁▁▁</td></tr><tr><td>val_acc</td><td>▁▃▄▅▆▇▇▇█▇███████</td></tr><tr><td>val_f1</td><td>▁▂▃▄▆▇▇██▇███████</td></tr><tr><td>val_loss</td><td>█▅▄▄▃▂▂▂▁▂▂▁▂▁▂▂▂</td></tr><tr><td>val_precision</td><td>▁▄▄▇▇█████▇█▇██▇█</td></tr><tr><td>val_recall</td><td>▁▂▃▃▅▆▇▇▇▆████▇██</td></tr></table><br/></div><div class=\"wandb-col\"><h3>Run summary:</h3><br/><table class=\"wandb\"><tr><td>train_loss</td><td>0.10384</td></tr><tr><td>val_acc</td><td>0.79489</td></tr><tr><td>val_f1</td><td>0.70866</td></tr><tr><td>val_loss</td><td>0.18096</td></tr><tr><td>val_precision</td><td>0.73818</td></tr><tr><td>val_recall</td><td>0.69497</td></tr></table><br/></div></div>"
      ],
      "text/plain": [
       "<IPython.core.display.HTML object>"
      ]
     },
     "metadata": {},
     "output_type": "display_data"
    },
    {
     "data": {
      "text/html": [
       "Synced <strong style=\"color:#cdcd00\">fine-resonance-16</strong>: <a href=\"https://wandb.ai/ihateml/xlnet_classification/runs/cfodviwr\" target=\"_blank\">https://wandb.ai/ihateml/xlnet_classification/runs/cfodviwr</a><br/>Synced 7 W&B file(s), 0 media file(s), 0 artifact file(s) and 1 other file(s)"
      ],
      "text/plain": [
       "<IPython.core.display.HTML object>"
      ]
     },
     "metadata": {},
     "output_type": "display_data"
    },
    {
     "data": {
      "text/html": [
       "Find logs at: <code>./wandb/run-20220418_190710-cfodviwr/logs</code>"
      ],
      "text/plain": [
       "<IPython.core.display.HTML object>"
      ]
     },
     "metadata": {},
     "output_type": "display_data"
    }
   ],
   "source": [
    "model_name = 'xlnet-base-cased'\n",
    "data_file = './Datasets/check.csv'\n",
    "\n",
    "dropout=0.1\n",
    "lr=1e-5\n",
    "batch_size=24\n",
    "random_state=1000\n",
    "epochs=100\n",
    "data_cut=None\n",
    "max_length=512\n",
    "task_type='onehot'\n",
    "freeze_layers=1\n",
    "num_classifier=3\n",
    "\n",
    "wandb_project = 'xlnet_classification'\n",
    "#wandb_project = 'testing'\n",
    "wandb_group = 'freeze&classifier_test'\n",
    "wandb_memo = 'freeze&classifier_test 조합 test 중'\n",
    "\n",
    "wandb_name = \"fz_{0}_clf_{1}_onehot\".format(freeze_layers, num_classifier)\n",
    "trainer = NLP_classification(model_name=model_name, max_length=max_length, random_state=random_state, task_type=task_type, freeze_layers=freeze_layers, num_classifier=num_classifier)\n",
    "trainer.training(data_file, epochs=epochs, batch_size=batch_size, lr=lr, dropout=dropout, data_cut=data_cut, wandb_log=True, wandb_project=wandb_project, wandb_group=wandb_group, wandb_memo=wandb_memo, wandb_name=wandb_name)\n",
    "wandb.finish()"
   ]
  },
  {
   "cell_type": "code",
   "execution_count": 2,
   "id": "13313984-3cf6-40ea-85f6-7262e9a8ea21",
   "metadata": {
    "collapsed": true,
    "jupyter": {
     "outputs_hidden": true
    },
    "tags": []
   },
   "outputs": [
    {
     "name": "stderr",
     "output_type": "stream",
     "text": [
      "Failed to detect the name of this notebook, you can set it manually with the WANDB_NOTEBOOK_NAME environment variable to enable code saving.\n",
      "\u001b[34m\u001b[1mwandb\u001b[0m: Currently logged in as: \u001b[33mihateml\u001b[0m (use `wandb login --relogin` to force relogin)\n"
     ]
    },
    {
     "data": {
      "text/html": [
       "wandb version 0.12.15 is available!  To upgrade, please run:\n",
       " $ pip install wandb --upgrade"
      ],
      "text/plain": [
       "<IPython.core.display.HTML object>"
      ]
     },
     "metadata": {},
     "output_type": "display_data"
    },
    {
     "data": {
      "text/html": [
       "Tracking run with wandb version 0.12.14"
      ],
      "text/plain": [
       "<IPython.core.display.HTML object>"
      ]
     },
     "metadata": {},
     "output_type": "display_data"
    },
    {
     "data": {
      "text/html": [
       "Run data is saved locally in <code>/home/rnwnsgud1234/1.text/textmining/wandb/run-20220422_144640-2yggf7b3</code>"
      ],
      "text/plain": [
       "<IPython.core.display.HTML object>"
      ]
     },
     "metadata": {},
     "output_type": "display_data"
    },
    {
     "data": {
      "text/html": [
       "Syncing run <strong><a href=\"https://wandb.ai/ihateml/xlnet_classification/runs/2yggf7b3\" target=\"_blank\">generous-surf-17</a></strong> to <a href=\"https://wandb.ai/ihateml/xlnet_classification\" target=\"_blank\">Weights & Biases</a> (<a href=\"https://wandb.me/run\" target=\"_blank\">docs</a>)<br/>"
      ],
      "text/plain": [
       "<IPython.core.display.HTML object>"
      ]
     },
     "metadata": {},
     "output_type": "display_data"
    },
    {
     "name": "stderr",
     "output_type": "stream",
     "text": [
      "\u001b[34m\u001b[1mwandb\u001b[0m: \u001b[33mWARNING\u001b[0m Calling wandb.run.save without any arguments is deprecated.Changes to attributes are automatically persisted.\n",
      "100%|████████████████████████████████████████████████████████████████████████████████████████████████████████████████████████████████████████████████| 575/575 [20:09<00:00,  2.10s/it]\n",
      "100%|████████████████████████████████████████████████████████████████████████████████████████████████████████████████████████████████████████████████| 144/144 [03:16<00:00,  1.37s/it]\n"
     ]
    },
    {
     "name": "stdout",
     "output_type": "stream",
     "text": [
      "Abstract   Intro      Main       Method     Summary    Caption   \n",
      "0/156      0/361      1413/1584  0/399      0/190      729/757   \n",
      "Epoch: 001, Train Loss: 0.3726296, Val Loss: 0.2977170, Val Acc: 0.6214099, Val Precision: 0.2215376, Val Recall: 0.3091762, Val F1: 0.2573848 \n",
      "Validation loss decreased (inf --> 0.297717). \n"
     ]
    },
    {
     "name": "stderr",
     "output_type": "stream",
     "text": [
      "100%|████████████████████████████████████████████████████████████████████████████████████████████████████████████████████████████████████████████████| 575/575 [20:08<00:00,  2.10s/it]\n",
      "100%|████████████████████████████████████████████████████████████████████████████████████████████████████████████████████████████████████████████████| 144/144 [03:16<00:00,  1.37s/it]\n"
     ]
    },
    {
     "name": "stdout",
     "output_type": "stream",
     "text": [
      "Abstract   Intro      Main       Method     Summary    Caption   \n",
      "0/156      200/361    1428/1584  0/399      0/190      718/757   \n",
      "Epoch: 002, Train Loss: 0.2576040, Val Loss: 0.2340750, Val Acc: 0.6805918, Val Precision: 0.3256915, Val Recall: 0.4006688, Val F1: 0.3565981 \n",
      "Validation loss decreased (0.297717 --> 0.234075). \n"
     ]
    },
    {
     "name": "stderr",
     "output_type": "stream",
     "text": [
      "100%|████████████████████████████████████████████████████████████████████████████████████████████████████████████████████████████████████████████████| 575/575 [20:08<00:00,  2.10s/it]\n",
      "100%|████████████████████████████████████████████████████████████████████████████████████████████████████████████████████████████████████████████████| 144/144 [03:16<00:00,  1.37s/it]\n"
     ]
    },
    {
     "name": "stdout",
     "output_type": "stream",
     "text": [
      "Abstract   Intro      Main       Method     Summary    Caption   \n",
      "0/156      160/361    1500/1584  12/399     0/190      732/757   \n",
      "Epoch: 003, Train Loss: 0.2266184, Val Loss: 0.2189167, Val Acc: 0.6974180, Val Precision: 0.4156660, Val Recall: 0.3978722, Val F1: 0.3693599 \n",
      "Validation loss decreased (0.234075 --> 0.218917). \n"
     ]
    },
    {
     "name": "stderr",
     "output_type": "stream",
     "text": [
      "100%|████████████████████████████████████████████████████████████████████████████████████████████████████████████████████████████████████████████████| 575/575 [20:08<00:00,  2.10s/it]\n",
      "100%|████████████████████████████████████████████████████████████████████████████████████████████████████████████████████████████████████████████████| 144/144 [03:16<00:00,  1.37s/it]\n"
     ]
    },
    {
     "name": "stdout",
     "output_type": "stream",
     "text": [
      "Abstract   Intro      Main       Method     Summary    Caption   \n",
      "8/156      263/361    1314/1584  123/399    0/190      752/757   \n",
      "Epoch: 004, Train Loss: 0.2127492, Val Loss: 0.2092272, Val Acc: 0.7136641, Val Precision: 0.5167426, Val Recall: 0.4851708, Val F1: 0.4580393 \n",
      "Validation loss decreased (0.218917 --> 0.209227). \n"
     ]
    },
    {
     "name": "stderr",
     "output_type": "stream",
     "text": [
      "100%|████████████████████████████████████████████████████████████████████████████████████████████████████████████████████████████████████████████████| 575/575 [20:08<00:00,  2.10s/it]\n",
      "100%|████████████████████████████████████████████████████████████████████████████████████████████████████████████████████████████████████████████████| 144/144 [03:16<00:00,  1.37s/it]\n"
     ]
    },
    {
     "name": "stdout",
     "output_type": "stream",
     "text": [
      "Abstract   Intro      Main       Method     Summary    Caption   \n",
      "37/156     205/361    1421/1584  108/399    0/190      745/757   \n",
      "Epoch: 005, Train Loss: 0.2033932, Val Loss: 0.1994919, Val Acc: 0.7299101, Val Precision: 0.5438918, Val Recall: 0.4928279, Val F1: 0.4958199 \n",
      "Validation loss decreased (0.209227 --> 0.199492). \n"
     ]
    },
    {
     "name": "stderr",
     "output_type": "stream",
     "text": [
      "100%|████████████████████████████████████████████████████████████████████████████████████████████████████████████████████████████████████████████████| 575/575 [20:08<00:00,  2.10s/it]\n",
      "100%|████████████████████████████████████████████████████████████████████████████████████████████████████████████████████████████████████████████████| 144/144 [03:16<00:00,  1.37s/it]\n"
     ]
    },
    {
     "name": "stdout",
     "output_type": "stream",
     "text": [
      "Abstract   Intro      Main       Method     Summary    Caption   \n",
      "24/156     223/361    1397/1584  141/399    0/190      751/757   \n",
      "Epoch: 006, Train Loss: 0.1953229, Val Loss: 0.1991967, Val Acc: 0.7357122, Val Precision: 0.5477001, Val Recall: 0.4998294, Val F1: 0.4959316 \n",
      "Validation loss decreased (0.199492 --> 0.199197). \n"
     ]
    },
    {
     "name": "stderr",
     "output_type": "stream",
     "text": [
      "100%|████████████████████████████████████████████████████████████████████████████████████████████████████████████████████████████████████████████████| 575/575 [20:08<00:00,  2.10s/it]\n",
      "100%|████████████████████████████████████████████████████████████████████████████████████████████████████████████████████████████████████████████████| 144/144 [03:16<00:00,  1.37s/it]\n"
     ]
    },
    {
     "name": "stdout",
     "output_type": "stream",
     "text": [
      "Abstract   Intro      Main       Method     Summary    Caption   \n",
      "59/156     185/361    1458/1584  109/399    8/190      752/757   \n",
      "Epoch: 007, Train Loss: 0.1869634, Val Loss: 0.1950260, Val Acc: 0.7458660, Val Precision: 0.6690806, Val Recall: 0.5199680, Val F1: 0.5366885 \n",
      "Validation loss decreased (0.199197 --> 0.195026). \n"
     ]
    },
    {
     "name": "stderr",
     "output_type": "stream",
     "text": [
      "100%|████████████████████████████████████████████████████████████████████████████████████████████████████████████████████████████████████████████████| 575/575 [20:08<00:00,  2.10s/it]\n",
      "100%|████████████████████████████████████████████████████████████████████████████████████████████████████████████████████████████████████████████████| 144/144 [03:16<00:00,  1.37s/it]\n"
     ]
    },
    {
     "name": "stdout",
     "output_type": "stream",
     "text": [
      "Abstract   Intro      Main       Method     Summary    Caption   \n",
      "105/156    238/361    1341/1584  138/399    53/190     749/757   \n",
      "Epoch: 008, Train Loss: 0.1793725, Val Loss: 0.1859464, Val Acc: 0.7612417, Val Precision: 0.6407849, Val Recall: 0.6321986, Val F1: 0.6257030 \n",
      "Validation loss decreased (0.195026 --> 0.185946). \n"
     ]
    },
    {
     "name": "stderr",
     "output_type": "stream",
     "text": [
      " 19%|███████████████████████████▊                                                                                                                    | 111/575 [03:53<16:14,  2.10s/it]wandb: Network error (ReadTimeout), entering retry loop.\n",
      "100%|████████████████████████████████████████████████████████████████████████████████████████████████████████████████████████████████████████████████| 575/575 [20:07<00:00,  2.10s/it]\n",
      "100%|████████████████████████████████████████████████████████████████████████████████████████████████████████████████████████████████████████████████| 144/144 [03:16<00:00,  1.37s/it]\n"
     ]
    },
    {
     "name": "stdout",
     "output_type": "stream",
     "text": [
      "Abstract   Intro      Main       Method     Summary    Caption   \n",
      "56/156     250/361    1403/1584  130/399    68/190     755/757   \n",
      "Epoch: 009, Train Loss: 0.1718891, Val Loss: 0.1881560, Val Acc: 0.7722657, Val Precision: 0.7505983, Val Recall: 0.6030491, Val F1: 0.6374842 \n",
      "EarlyStopping counter: 1 out of 5\n"
     ]
    },
    {
     "name": "stderr",
     "output_type": "stream",
     "text": [
      "100%|████████████████████████████████████████████████████████████████████████████████████████████████████████████████████████████████████████████████| 575/575 [20:08<00:00,  2.10s/it]\n",
      "100%|████████████████████████████████████████████████████████████████████████████████████████████████████████████████████████████████████████████████| 144/144 [03:16<00:00,  1.36s/it]\n"
     ]
    },
    {
     "name": "stdout",
     "output_type": "stream",
     "text": [
      "Abstract   Intro      Main       Method     Summary    Caption   \n",
      "84/156     265/361    1403/1584  103/399    91/190     751/757   \n",
      "Epoch: 010, Train Loss: 0.1657259, Val Loss: 0.1770069, Val Acc: 0.7824195, Val Precision: 0.7470058, Val Recall: 0.6479054, Val F1: 0.6717251 \n",
      "Validation loss decreased (0.185946 --> 0.177007). \n"
     ]
    },
    {
     "name": "stderr",
     "output_type": "stream",
     "text": [
      "100%|████████████████████████████████████████████████████████████████████████████████████████████████████████████████████████████████████████████████| 575/575 [20:07<00:00,  2.10s/it]\n",
      "100%|████████████████████████████████████████████████████████████████████████████████████████████████████████████████████████████████████████████████| 144/144 [03:16<00:00,  1.37s/it]\n"
     ]
    },
    {
     "name": "stdout",
     "output_type": "stream",
     "text": [
      "Abstract   Intro      Main       Method     Summary    Caption   \n",
      "86/156     237/361    1418/1584  133/399    93/190     752/757   \n",
      "Epoch: 011, Train Loss: 0.1554908, Val Loss: 0.1745106, Val Acc: 0.7888019, Val Precision: 0.7649120, Val Recall: 0.6531993, Val F1: 0.6886846 \n",
      "Validation loss decreased (0.177007 --> 0.174511). \n"
     ]
    },
    {
     "name": "stderr",
     "output_type": "stream",
     "text": [
      "100%|████████████████████████████████████████████████████████████████████████████████████████████████████████████████████████████████████████████████| 575/575 [20:07<00:00,  2.10s/it]\n",
      "100%|████████████████████████████████████████████████████████████████████████████████████████████████████████████████████████████████████████████████| 144/144 [03:16<00:00,  1.37s/it]\n"
     ]
    },
    {
     "name": "stdout",
     "output_type": "stream",
     "text": [
      "Abstract   Intro      Main       Method     Summary    Caption   \n",
      "107/156    265/361    1359/1584  152/399    89/190     752/757   \n",
      "Epoch: 012, Train Loss: 0.1473252, Val Loss: 0.1757676, Val Acc: 0.7902524, Val Precision: 0.7470465, Val Recall: 0.6867821, Val F1: 0.7003555 \n",
      "EarlyStopping counter: 1 out of 5\n"
     ]
    },
    {
     "name": "stderr",
     "output_type": "stream",
     "text": [
      "100%|████████████████████████████████████████████████████████████████████████████████████████████████████████████████████████████████████████████████| 575/575 [20:07<00:00,  2.10s/it]\n",
      "100%|████████████████████████████████████████████████████████████████████████████████████████████████████████████████████████████████████████████████| 144/144 [03:16<00:00,  1.37s/it]\n"
     ]
    },
    {
     "name": "stdout",
     "output_type": "stream",
     "text": [
      "Abstract   Intro      Main       Method     Summary    Caption   \n",
      "60/156     230/361    1446/1584  122/399    106/190    748/757   \n",
      "Epoch: 013, Train Loss: 0.1404757, Val Loss: 0.1800589, Val Acc: 0.7867711, Val Precision: 0.7692631, Val Recall: 0.6310639, Val F1: 0.6718825 \n",
      "EarlyStopping counter: 2 out of 5\n"
     ]
    },
    {
     "name": "stderr",
     "output_type": "stream",
     "text": [
      "100%|████████████████████████████████████████████████████████████████████████████████████████████████████████████████████████████████████████████████| 575/575 [20:08<00:00,  2.10s/it]\n",
      "100%|████████████████████████████████████████████████████████████████████████████████████████████████████████████████████████████████████████████████| 144/144 [03:16<00:00,  1.37s/it]\n"
     ]
    },
    {
     "name": "stdout",
     "output_type": "stream",
     "text": [
      "Abstract   Intro      Main       Method     Summary    Caption   \n",
      "92/156     287/361    1370/1584  125/399    108/190    748/757   \n",
      "Epoch: 014, Train Loss: 0.1353429, Val Loss: 0.1774057, Val Acc: 0.7919930, Val Precision: 0.7464609, Val Recall: 0.6865786, Val F1: 0.6993479 \n",
      "EarlyStopping counter: 3 out of 5\n"
     ]
    },
    {
     "name": "stderr",
     "output_type": "stream",
     "text": [
      "100%|████████████████████████████████████████████████████████████████████████████████████████████████████████████████████████████████████████████████| 575/575 [20:07<00:00,  2.10s/it]\n",
      "100%|████████████████████████████████████████████████████████████████████████████████████████████████████████████████████████████████████████████████| 144/144 [03:16<00:00,  1.37s/it]\n"
     ]
    },
    {
     "name": "stdout",
     "output_type": "stream",
     "text": [
      "Abstract   Intro      Main       Method     Summary    Caption   \n",
      "101/156    248/361    1425/1584  114/399    110/190    748/757   \n",
      "Epoch: 015, Train Loss: 0.1269703, Val Loss: 0.1749871, Val Acc: 0.7966348, Val Precision: 0.7637096, Val Recall: 0.6811351, Val F1: 0.7054496 \n",
      "EarlyStopping counter: 4 out of 5\n"
     ]
    },
    {
     "name": "stderr",
     "output_type": "stream",
     "text": [
      "100%|████████████████████████████████████████████████████████████████████████████████████████████████████████████████████████████████████████████████| 575/575 [20:07<00:00,  2.10s/it]\n",
      "100%|████████████████████████████████████████████████████████████████████████████████████████████████████████████████████████████████████████████████| 144/144 [03:16<00:00,  1.37s/it]\n"
     ]
    },
    {
     "name": "stdout",
     "output_type": "stream",
     "text": [
      "Abstract   Intro      Main       Method     Summary    Caption   \n",
      "107/156    243/361    1420/1584  132/399    106/190    748/757   \n",
      "Epoch: 016, Train Loss: 0.1197477, Val Loss: 0.1796836, Val Acc: 0.7995358, Val Precision: 0.7694219, Val Recall: 0.6887208, Val F1: 0.7131091 \n",
      "EarlyStopping counter: 5 out of 5\n",
      "Early stopping\n",
      "\n"
     ]
    },
    {
     "data": {
      "text/html": [
       "Waiting for W&B process to finish... <strong style=\"color:green\">(success).</strong>"
      ],
      "text/plain": [
       "<IPython.core.display.HTML object>"
      ]
     },
     "metadata": {},
     "output_type": "display_data"
    },
    {
     "data": {
      "text/html": [
       "<style>\n",
       "    table.wandb td:nth-child(1) { padding: 0 10px; text-align: right }\n",
       "    .wandb-row { display: flex; flex-direction: row; flex-wrap: wrap; width: 100% }\n",
       "    .wandb-col { display: flex; flex-direction: column; flex-basis: 100%; flex: 1; padding: 10px; }\n",
       "    </style>\n",
       "<div class=\"wandb-row\"><div class=\"wandb-col\"><h3>Run history:</h3><br/><table class=\"wandb\"><tr><td>train_loss</td><td>█▅▄▄▃▃▃▃▂▂▂▂▂▁▁▁</td></tr><tr><td>val_acc</td><td>▁▃▄▅▅▅▆▆▇▇██▇███</td></tr><tr><td>val_f1</td><td>▁▃▃▄▅▅▅▇▇▇██▇███</td></tr><tr><td>val_loss</td><td>█▄▄▃▂▂▂▂▂▁▁▁▁▁▁▁</td></tr><tr><td>val_precision</td><td>▁▂▃▅▅▅▇▆████████</td></tr><tr><td>val_recall</td><td>▁▃▃▄▄▅▅▇▆▇▇█▇███</td></tr></table><br/></div><div class=\"wandb-col\"><h3>Run summary:</h3><br/><table class=\"wandb\"><tr><td>train_loss</td><td>0.11975</td></tr><tr><td>val_acc</td><td>0.79954</td></tr><tr><td>val_f1</td><td>0.71311</td></tr><tr><td>val_loss</td><td>0.17968</td></tr><tr><td>val_precision</td><td>0.76942</td></tr><tr><td>val_recall</td><td>0.68872</td></tr></table><br/></div></div>"
      ],
      "text/plain": [
       "<IPython.core.display.HTML object>"
      ]
     },
     "metadata": {},
     "output_type": "display_data"
    },
    {
     "data": {
      "text/html": [
       "Synced <strong style=\"color:#cdcd00\">generous-surf-17</strong>: <a href=\"https://wandb.ai/ihateml/xlnet_classification/runs/2yggf7b3\" target=\"_blank\">https://wandb.ai/ihateml/xlnet_classification/runs/2yggf7b3</a><br/>Synced 7 W&B file(s), 0 media file(s), 0 artifact file(s) and 1 other file(s)"
      ],
      "text/plain": [
       "<IPython.core.display.HTML object>"
      ]
     },
     "metadata": {},
     "output_type": "display_data"
    },
    {
     "data": {
      "text/html": [
       "Find logs at: <code>./wandb/run-20220422_144640-2yggf7b3/logs</code>"
      ],
      "text/plain": [
       "<IPython.core.display.HTML object>"
      ]
     },
     "metadata": {},
     "output_type": "display_data"
    }
   ],
   "source": [
    "model_name = 'xlnet-base-cased'\n",
    "data_file = './Datasets/check.csv'\n",
    "\n",
    "dropout=0.1\n",
    "lr=1e-5\n",
    "batch_size=24\n",
    "random_state=1000\n",
    "epochs=100\n",
    "data_cut=None\n",
    "max_length=512\n",
    "task_type='onehot'\n",
    "freeze_layers=2\n",
    "num_classifier=5\n",
    "\n",
    "wandb_project = 'xlnet_classification'\n",
    "#wandb_project = 'testing'\n",
    "wandb_group = 'freeze&classifier_test'\n",
    "wandb_memo = 'freeze&classifier_test 조합 test 중'\n",
    "\n",
    "wandb_name = \"fz_{0}_clf_{1}_onehot\".format(freeze_layers, num_classifier)\n",
    "trainer = NLP_classification(model_name=model_name, max_length=max_length, random_state=random_state, task_type=task_type, freeze_layers=freeze_layers, num_classifier=num_classifier)\n",
    "trainer.training(data_file, epochs=epochs, batch_size=batch_size, lr=lr, dropout=dropout, data_cut=data_cut, wandb_log=True, wandb_project=wandb_project, wandb_group=wandb_group, wandb_memo=wandb_memo, wandb_name=wandb_name)\n",
    "wandb.finish()"
   ]
  },
  {
   "cell_type": "code",
   "execution_count": 2,
   "id": "e7ff3207-2bf0-494c-99ed-4d1869b88dac",
   "metadata": {
    "collapsed": true,
    "jupyter": {
     "outputs_hidden": true
    },
    "tags": []
   },
   "outputs": [
    {
     "name": "stderr",
     "output_type": "stream",
     "text": [
      "Failed to detect the name of this notebook, you can set it manually with the WANDB_NOTEBOOK_NAME environment variable to enable code saving.\n",
      "\u001b[34m\u001b[1mwandb\u001b[0m: Currently logged in as: \u001b[33mihateml\u001b[0m (use `wandb login --relogin` to force relogin)\n"
     ]
    },
    {
     "data": {
      "text/html": [
       "wandb version 0.12.15 is available!  To upgrade, please run:\n",
       " $ pip install wandb --upgrade"
      ],
      "text/plain": [
       "<IPython.core.display.HTML object>"
      ]
     },
     "metadata": {},
     "output_type": "display_data"
    },
    {
     "data": {
      "text/html": [
       "Tracking run with wandb version 0.12.14"
      ],
      "text/plain": [
       "<IPython.core.display.HTML object>"
      ]
     },
     "metadata": {},
     "output_type": "display_data"
    },
    {
     "data": {
      "text/html": [
       "Run data is saved locally in <code>/home/rnwnsgud1234/1.text/textmining/wandb/run-20220422_215017-2j7lzu8v</code>"
      ],
      "text/plain": [
       "<IPython.core.display.HTML object>"
      ]
     },
     "metadata": {},
     "output_type": "display_data"
    },
    {
     "data": {
      "text/html": [
       "Syncing run <strong><a href=\"https://wandb.ai/ihateml/xlnet_classification/runs/2j7lzu8v\" target=\"_blank\">earthy-star-18</a></strong> to <a href=\"https://wandb.ai/ihateml/xlnet_classification\" target=\"_blank\">Weights & Biases</a> (<a href=\"https://wandb.me/run\" target=\"_blank\">docs</a>)<br/>"
      ],
      "text/plain": [
       "<IPython.core.display.HTML object>"
      ]
     },
     "metadata": {},
     "output_type": "display_data"
    },
    {
     "name": "stderr",
     "output_type": "stream",
     "text": [
      "\u001b[34m\u001b[1mwandb\u001b[0m: \u001b[33mWARNING\u001b[0m Calling wandb.run.save without any arguments is deprecated.Changes to attributes are automatically persisted.\n",
      "100%|████████████████████████████████████████████████████████████████████████████████████████████████████████████████████████████████████████████████| 575/575 [19:27<00:00,  2.03s/it]\n",
      "100%|████████████████████████████████████████████████████████████████████████████████████████████████████████████████████████████████████████████████| 144/144 [03:16<00:00,  1.36s/it]\n"
     ]
    },
    {
     "name": "stdout",
     "output_type": "stream",
     "text": [
      "Abstract   Intro      Main       Method     Summary    Caption   \n",
      "0/156      0/361      1465/1584  0/399      0/190      681/757   \n",
      "Epoch: 001, Train Loss: 0.4246816, Val Loss: 0.3146469, Val Acc: 0.6225704, Val Precision: 0.2147115, Val Recall: 0.3040796, Val F1: 0.2511860 \n",
      "Validation loss decreased (inf --> 0.314647). \n"
     ]
    },
    {
     "name": "stderr",
     "output_type": "stream",
     "text": [
      "100%|████████████████████████████████████████████████████████████████████████████████████████████████████████████████████████████████████████████████| 575/575 [19:27<00:00,  2.03s/it]\n",
      "100%|████████████████████████████████████████████████████████████████████████████████████████████████████████████████████████████████████████████████| 144/144 [03:16<00:00,  1.36s/it]\n"
     ]
    },
    {
     "name": "stdout",
     "output_type": "stream",
     "text": [
      "Abstract   Intro      Main       Method     Summary    Caption   \n",
      "0/156      138/361    1480/1584  0/399      0/190      711/757   \n",
      "Epoch: 002, Train Loss: 0.2708938, Val Loss: 0.2472280, Val Acc: 0.6756600, Val Precision: 0.3242189, Val Recall: 0.3759748, Val F1: 0.3454705 \n",
      "Validation loss decreased (0.314647 --> 0.247228). \n"
     ]
    },
    {
     "name": "stderr",
     "output_type": "stream",
     "text": [
      "100%|████████████████████████████████████████████████████████████████████████████████████████████████████████████████████████████████████████████████| 575/575 [19:27<00:00,  2.03s/it]\n",
      "100%|████████████████████████████████████████████████████████████████████████████████████████████████████████████████████████████████████████████████| 144/144 [03:16<00:00,  1.36s/it]\n"
     ]
    },
    {
     "name": "stdout",
     "output_type": "stream",
     "text": [
      "Abstract   Intro      Main       Method     Summary    Caption   \n",
      "0/156      212/361    1403/1584  0/399      0/190      751/757   \n",
      "Epoch: 003, Train Loss: 0.2335570, Val Loss: 0.2364005, Val Acc: 0.6863940, Val Precision: 0.3226959, Val Recall: 0.4108440, Val F1: 0.3607756 \n",
      "Validation loss decreased (0.247228 --> 0.236400). \n"
     ]
    },
    {
     "name": "stderr",
     "output_type": "stream",
     "text": [
      "100%|████████████████████████████████████████████████████████████████████████████████████████████████████████████████████████████████████████████████| 575/575 [19:26<00:00,  2.03s/it]\n",
      "100%|████████████████████████████████████████████████████████████████████████████████████████████████████████████████████████████████████████████████| 144/144 [03:16<00:00,  1.37s/it]\n"
     ]
    },
    {
     "name": "stdout",
     "output_type": "stream",
     "text": [
      "Abstract   Intro      Main       Method     Summary    Caption   \n",
      "0/156      176/361    1508/1584  0/399      0/190      741/757   \n",
      "Epoch: 004, Train Loss: 0.2194388, Val Loss: 0.2175057, Val Acc: 0.7035103, Val Precision: 0.3416258, Val Recall: 0.4030698, Val F1: 0.3677852 \n",
      "Validation loss decreased (0.236400 --> 0.217506). \n"
     ]
    },
    {
     "name": "stderr",
     "output_type": "stream",
     "text": [
      "100%|████████████████████████████████████████████████████████████████████████████████████████████████████████████████████████████████████████████████| 575/575 [19:27<00:00,  2.03s/it]\n",
      "100%|████████████████████████████████████████████████████████████████████████████████████████████████████████████████████████████████████████████████| 144/144 [03:16<00:00,  1.36s/it]\n"
     ]
    },
    {
     "name": "stdout",
     "output_type": "stream",
     "text": [
      "Abstract   Intro      Main       Method     Summary    Caption   \n",
      "0/156      227/361    1478/1584  0/399      0/190      742/757   \n",
      "Epoch: 005, Train Loss: 0.2117813, Val Loss: 0.2084570, Val Acc: 0.7098927, Val Precision: 0.3443849, Val Recall: 0.4236791, Val F1: 0.3770204 \n",
      "Validation loss decreased (0.217506 --> 0.208457). \n"
     ]
    },
    {
     "name": "stderr",
     "output_type": "stream",
     "text": [
      "100%|████████████████████████████████████████████████████████████████████████████████████████████████████████████████████████████████████████████████| 575/575 [19:26<00:00,  2.03s/it]\n",
      "100%|████████████████████████████████████████████████████████████████████████████████████████████████████████████████████████████████████████████████| 144/144 [03:16<00:00,  1.36s/it]\n"
     ]
    },
    {
     "name": "stdout",
     "output_type": "stream",
     "text": [
      "Abstract   Intro      Main       Method     Summary    Caption   \n",
      "1/156      163/361    1533/1584  0/399      0/190      739/757   \n",
      "Epoch: 006, Train Loss: 0.2058492, Val Loss: 0.2183179, Val Acc: 0.7067015, Val Precision: 0.5123057, Val Recall: 0.4003265, Val F1: 0.3697847 \n",
      "EarlyStopping counter: 1 out of 15\n"
     ]
    },
    {
     "name": "stderr",
     "output_type": "stream",
     "text": [
      "100%|████████████████████████████████████████████████████████████████████████████████████████████████████████████████████████████████████████████████| 575/575 [19:25<00:00,  2.03s/it]\n",
      "100%|████████████████████████████████████████████████████████████████████████████████████████████████████████████████████████████████████████████████| 144/144 [03:16<00:00,  1.36s/it]\n"
     ]
    },
    {
     "name": "stdout",
     "output_type": "stream",
     "text": [
      "Abstract   Intro      Main       Method     Summary    Caption   \n",
      "19/156     238/361    1445/1584  56/399     0/190      751/757   \n",
      "Epoch: 007, Train Loss: 0.1997499, Val Loss: 0.1994884, Val Acc: 0.7278793, Val Precision: 0.5711152, Val Recall: 0.4709578, Val F1: 0.4569135 \n",
      "Validation loss decreased (0.208457 --> 0.199488). \n"
     ]
    },
    {
     "name": "stderr",
     "output_type": "stream",
     "text": [
      "100%|████████████████████████████████████████████████████████████████████████████████████████████████████████████████████████████████████████████████| 575/575 [19:24<00:00,  2.03s/it]\n",
      "100%|████████████████████████████████████████████████████████████████████████████████████████████████████████████████████████████████████████████████| 144/144 [03:15<00:00,  1.36s/it]\n"
     ]
    },
    {
     "name": "stdout",
     "output_type": "stream",
     "text": [
      "Abstract   Intro      Main       Method     Summary    Caption   \n",
      "56/156     199/361    1430/1584  129/399    48/190     751/757   \n",
      "Epoch: 008, Train Loss: 0.1934196, Val Loss: 0.1916943, Val Acc: 0.7580505, Val Precision: 0.6683967, Val Recall: 0.5635021, Val F1: 0.5937606 \n",
      "Validation loss decreased (0.199488 --> 0.191694). \n"
     ]
    },
    {
     "name": "stderr",
     "output_type": "stream",
     "text": [
      "100%|████████████████████████████████████████████████████████████████████████████████████████████████████████████████████████████████████████████████| 575/575 [19:24<00:00,  2.02s/it]\n",
      "100%|████████████████████████████████████████████████████████████████████████████████████████████████████████████████████████████████████████████████| 144/144 [03:15<00:00,  1.36s/it]\n"
     ]
    },
    {
     "name": "stdout",
     "output_type": "stream",
     "text": [
      "Abstract   Intro      Main       Method     Summary    Caption   \n",
      "70/156     243/361    1389/1584  85/399     82/190     753/757   \n",
      "Epoch: 009, Train Loss: 0.1823254, Val Loss: 0.1916609, Val Acc: 0.7606614, Val Precision: 0.6909937, Val Recall: 0.6063449, Val F1: 0.6232876 \n",
      "Validation loss decreased (0.191694 --> 0.191661). \n"
     ]
    },
    {
     "name": "stderr",
     "output_type": "stream",
     "text": [
      "100%|████████████████████████████████████████████████████████████████████████████████████████████████████████████████████████████████████████████████| 575/575 [19:22<00:00,  2.02s/it]\n",
      "100%|████████████████████████████████████████████████████████████████████████████████████████████████████████████████████████████████████████████████| 144/144 [03:15<00:00,  1.36s/it]\n"
     ]
    },
    {
     "name": "stdout",
     "output_type": "stream",
     "text": [
      "Abstract   Intro      Main       Method     Summary    Caption   \n",
      "79/156     170/361    1423/1584  138/399    104/190    740/757   \n",
      "Epoch: 010, Train Loss: 0.1734299, Val Loss: 0.1844834, Val Acc: 0.7699449, Val Precision: 0.6837706, Val Recall: 0.6244098, Val F1: 0.6456562 \n",
      "Validation loss decreased (0.191661 --> 0.184483). \n"
     ]
    },
    {
     "name": "stderr",
     "output_type": "stream",
     "text": [
      "100%|████████████████████████████████████████████████████████████████████████████████████████████████████████████████████████████████████████████████| 575/575 [19:24<00:00,  2.02s/it]\n",
      "100%|████████████████████████████████████████████████████████████████████████████████████████████████████████████████████████████████████████████████| 144/144 [03:16<00:00,  1.36s/it]\n"
     ]
    },
    {
     "name": "stdout",
     "output_type": "stream",
     "text": [
      "Abstract   Intro      Main       Method     Summary    Caption   \n",
      "79/156     240/361    1416/1584  111/399    92/190     748/757   \n",
      "Epoch: 011, Train Loss: 0.1658085, Val Loss: 0.1792382, Val Acc: 0.7792283, Val Precision: 0.7387346, Val Recall: 0.6359478, Val F1: 0.6640105 \n",
      "Validation loss decreased (0.184483 --> 0.179238). \n"
     ]
    },
    {
     "name": "stderr",
     "output_type": "stream",
     "text": [
      "100%|████████████████████████████████████████████████████████████████████████████████████████████████████████████████████████████████████████████████| 575/575 [19:24<00:00,  2.02s/it]\n",
      "100%|████████████████████████████████████████████████████████████████████████████████████████████████████████████████████████████████████████████████| 144/144 [03:15<00:00,  1.36s/it]\n"
     ]
    },
    {
     "name": "stdout",
     "output_type": "stream",
     "text": [
      "Abstract   Intro      Main       Method     Summary    Caption   \n",
      "87/156     213/361    1447/1584  106/399    95/190     741/757   \n",
      "Epoch: 012, Train Loss: 0.1586807, Val Loss: 0.1864847, Val Acc: 0.7800986, Val Precision: 0.7397624, Val Recall: 0.6342930, Val F1: 0.6661614 \n",
      "EarlyStopping counter: 1 out of 15\n"
     ]
    },
    {
     "name": "stderr",
     "output_type": "stream",
     "text": [
      "100%|████████████████████████████████████████████████████████████████████████████████████████████████████████████████████████████████████████████████| 575/575 [19:24<00:00,  2.03s/it]\n",
      "100%|████████████████████████████████████████████████████████████████████████████████████████████████████████████████████████████████████████████████| 144/144 [03:15<00:00,  1.36s/it]\n"
     ]
    },
    {
     "name": "stdout",
     "output_type": "stream",
     "text": [
      "Abstract   Intro      Main       Method     Summary    Caption   \n",
      "72/156     197/361    1445/1584  127/399    95/190     751/757   \n",
      "Epoch: 013, Train Loss: 0.1538178, Val Loss: 0.1879341, Val Acc: 0.7795184, Val Precision: 0.7448958, Val Recall: 0.6216437, Val F1: 0.6628518 \n",
      "EarlyStopping counter: 2 out of 15\n"
     ]
    },
    {
     "name": "stderr",
     "output_type": "stream",
     "text": [
      "100%|████████████████████████████████████████████████████████████████████████████████████████████████████████████████████████████████████████████████| 575/575 [19:23<00:00,  2.02s/it]\n",
      "100%|████████████████████████████████████████████████████████████████████████████████████████████████████████████████████████████████████████████████| 144/144 [03:15<00:00,  1.36s/it]\n"
     ]
    },
    {
     "name": "stdout",
     "output_type": "stream",
     "text": [
      "Abstract   Intro      Main       Method     Summary    Caption   \n",
      "70/156     259/361    1412/1584  118/399    96/190     747/757   \n",
      "Epoch: 014, Train Loss: 0.1452230, Val Loss: 0.1795710, Val Acc: 0.7838700, Val Precision: 0.7584449, Val Recall: 0.6408960, Val F1: 0.6734827 \n",
      "EarlyStopping counter: 3 out of 15\n"
     ]
    },
    {
     "name": "stderr",
     "output_type": "stream",
     "text": [
      "100%|████████████████████████████████████████████████████████████████████████████████████████████████████████████████████████████████████████████████| 575/575 [19:23<00:00,  2.02s/it]\n",
      "100%|████████████████████████████████████████████████████████████████████████████████████████████████████████████████████████████████████████████████| 144/144 [03:15<00:00,  1.36s/it]\n"
     ]
    },
    {
     "name": "stdout",
     "output_type": "stream",
     "text": [
      "Abstract   Intro      Main       Method     Summary    Caption   \n",
      "78/156     259/361    1412/1584  109/399    95/190     752/757   \n",
      "Epoch: 015, Train Loss: 0.1398620, Val Loss: 0.1847662, Val Acc: 0.7847404, Val Precision: 0.7479181, Val Recall: 0.6459073, Val F1: 0.6725122 \n",
      "EarlyStopping counter: 4 out of 15\n"
     ]
    },
    {
     "name": "stderr",
     "output_type": "stream",
     "text": [
      "100%|████████████████████████████████████████████████████████████████████████████████████████████████████████████████████████████████████████████████| 575/575 [19:24<00:00,  2.03s/it]\n",
      "100%|████████████████████████████████████████████████████████████████████████████████████████████████████████████████████████████████████████████████| 144/144 [03:16<00:00,  1.36s/it]\n"
     ]
    },
    {
     "name": "stdout",
     "output_type": "stream",
     "text": [
      "Abstract   Intro      Main       Method     Summary    Caption   \n",
      "91/156     192/361    1416/1584  176/399    97/190     748/757   \n",
      "Epoch: 016, Train Loss: 0.1322964, Val Loss: 0.1883221, Val Acc: 0.7890920, Val Precision: 0.7584628, Val Recall: 0.6581448, Val F1: 0.6972236 \n",
      "EarlyStopping counter: 5 out of 15\n"
     ]
    },
    {
     "name": "stderr",
     "output_type": "stream",
     "text": [
      "100%|████████████████████████████████████████████████████████████████████████████████████████████████████████████████████████████████████████████████| 575/575 [19:24<00:00,  2.03s/it]\n",
      "100%|████████████████████████████████████████████████████████████████████████████████████████████████████████████████████████████████████████████████| 144/144 [03:15<00:00,  1.36s/it]\n"
     ]
    },
    {
     "name": "stdout",
     "output_type": "stream",
     "text": [
      "Abstract   Intro      Main       Method     Summary    Caption   \n",
      "96/156     235/361    1412/1584  154/399    114/190    749/757   \n",
      "Epoch: 017, Train Loss: 0.1278016, Val Loss: 0.1845890, Val Acc: 0.8006963, Val Precision: 0.7613807, Val Recall: 0.6888609, Val F1: 0.7165918 \n",
      "EarlyStopping counter: 6 out of 15\n"
     ]
    },
    {
     "name": "stderr",
     "output_type": "stream",
     "text": [
      "100%|████████████████████████████████████████████████████████████████████████████████████████████████████████████████████████████████████████████████| 575/575 [19:25<00:00,  2.03s/it]\n",
      "100%|████████████████████████████████████████████████████████████████████████████████████████████████████████████████████████████████████████████████| 144/144 [03:16<00:00,  1.36s/it]\n"
     ]
    },
    {
     "name": "stdout",
     "output_type": "stream",
     "text": [
      "Abstract   Intro      Main       Method     Summary    Caption   \n",
      "88/156     221/361    1390/1584  167/399    110/190    748/757   \n",
      "Epoch: 018, Train Loss: 0.1220979, Val Loss: 0.1815626, Val Acc: 0.7902524, Val Precision: 0.7406617, Val Recall: 0.6732368, Val F1: 0.7015078 \n",
      "EarlyStopping counter: 7 out of 15\n"
     ]
    },
    {
     "name": "stderr",
     "output_type": "stream",
     "text": [
      "100%|████████████████████████████████████████████████████████████████████████████████████████████████████████████████████████████████████████████████| 575/575 [19:24<00:00,  2.03s/it]\n",
      "100%|████████████████████████████████████████████████████████████████████████████████████████████████████████████████████████████████████████████████| 144/144 [03:16<00:00,  1.36s/it]\n"
     ]
    },
    {
     "name": "stdout",
     "output_type": "stream",
     "text": [
      "Abstract   Intro      Main       Method     Summary    Caption   \n",
      "92/156     186/361    1387/1584  178/399    108/190    751/757   \n",
      "Epoch: 019, Train Loss: 0.1144657, Val Loss: 0.1968087, Val Acc: 0.7838700, Val Precision: 0.7289345, Val Recall: 0.6645368, Val F1: 0.6913478 \n",
      "EarlyStopping counter: 8 out of 15\n"
     ]
    },
    {
     "name": "stderr",
     "output_type": "stream",
     "text": [
      "100%|████████████████████████████████████████████████████████████████████████████████████████████████████████████████████████████████████████████████| 575/575 [19:25<00:00,  2.03s/it]\n",
      "100%|████████████████████████████████████████████████████████████████████████████████████████████████████████████████████████████████████████████████| 144/144 [03:15<00:00,  1.36s/it]\n"
     ]
    },
    {
     "name": "stdout",
     "output_type": "stream",
     "text": [
      "Abstract   Intro      Main       Method     Summary    Caption   \n",
      "104/156    239/361    1388/1584  148/399    110/190    754/757   \n",
      "Epoch: 020, Train Loss: 0.1069872, Val Loss: 0.2004841, Val Acc: 0.7957644, Val Precision: 0.7471821, Val Recall: 0.6918151, Val F1: 0.7118811 \n",
      "EarlyStopping counter: 9 out of 15\n"
     ]
    },
    {
     "name": "stderr",
     "output_type": "stream",
     "text": [
      "100%|████████████████████████████████████████████████████████████████████████████████████████████████████████████████████████████████████████████████| 575/575 [19:25<00:00,  2.03s/it]\n",
      "100%|████████████████████████████████████████████████████████████████████████████████████████████████████████████████████████████████████████████████| 144/144 [03:15<00:00,  1.36s/it]\n"
     ]
    },
    {
     "name": "stdout",
     "output_type": "stream",
     "text": [
      "Abstract   Intro      Main       Method     Summary    Caption   \n",
      "86/156     159/361    1382/1584  180/399    107/190    749/757   \n",
      "Epoch: 021, Train Loss: 0.0990759, Val Loss: 0.2093013, Val Acc: 0.7725558, Val Precision: 0.7387531, Val Recall: 0.6446529, Val F1: 0.6812036 \n",
      "EarlyStopping counter: 10 out of 15\n"
     ]
    },
    {
     "name": "stderr",
     "output_type": "stream",
     "text": [
      "100%|████████████████████████████████████████████████████████████████████████████████████████████████████████████████████████████████████████████████| 575/575 [19:24<00:00,  2.03s/it]\n",
      "100%|████████████████████████████████████████████████████████████████████████████████████████████████████████████████████████████████████████████████| 144/144 [03:15<00:00,  1.36s/it]\n"
     ]
    },
    {
     "name": "stdout",
     "output_type": "stream",
     "text": [
      "Abstract   Intro      Main       Method     Summary    Caption   \n",
      "97/156     270/361    1371/1584  147/399    116/190    743/757   \n",
      "Epoch: 022, Train Loss: 0.0961080, Val Loss: 0.1931848, Val Acc: 0.7960545, Val Precision: 0.7412383, Val Recall: 0.6992835, Val F1: 0.7128676 \n",
      "EarlyStopping counter: 11 out of 15\n"
     ]
    },
    {
     "name": "stderr",
     "output_type": "stream",
     "text": [
      "100%|████████████████████████████████████████████████████████████████████████████████████████████████████████████████████████████████████████████████| 575/575 [19:24<00:00,  2.03s/it]\n",
      "100%|████████████████████████████████████████████████████████████████████████████████████████████████████████████████████████████████████████████████| 144/144 [03:16<00:00,  1.36s/it]\n"
     ]
    },
    {
     "name": "stdout",
     "output_type": "stream",
     "text": [
      "Abstract   Intro      Main       Method     Summary    Caption   \n",
      "111/156    240/361    1372/1584  154/399    112/190    747/757   \n",
      "Epoch: 023, Train Loss: 0.0892724, Val Loss: 0.2045366, Val Acc: 0.7937337, Val Precision: 0.7339115, Val Recall: 0.7007914, Val F1: 0.7133330 \n",
      "EarlyStopping counter: 12 out of 15\n"
     ]
    },
    {
     "name": "stderr",
     "output_type": "stream",
     "text": [
      "100%|████████████████████████████████████████████████████████████████████████████████████████████████████████████████████████████████████████████████| 575/575 [19:25<00:00,  2.03s/it]\n",
      "100%|████████████████████████████████████████████████████████████████████████████████████████████████████████████████████████████████████████████████| 144/144 [03:16<00:00,  1.36s/it]\n"
     ]
    },
    {
     "name": "stdout",
     "output_type": "stream",
     "text": [
      "Abstract   Intro      Main       Method     Summary    Caption   \n",
      "68/156     259/361    1382/1584  154/399    105/190    748/757   \n",
      "Epoch: 024, Train Loss: 0.0856558, Val Loss: 0.2161720, Val Acc: 0.7879315, Val Precision: 0.7545902, Val Recall: 0.6587552, Val F1: 0.6902087 \n",
      "EarlyStopping counter: 13 out of 15\n"
     ]
    },
    {
     "name": "stderr",
     "output_type": "stream",
     "text": [
      "100%|████████████████████████████████████████████████████████████████████████████████████████████████████████████████████████████████████████████████| 575/575 [19:25<00:00,  2.03s/it]\n",
      "100%|████████████████████████████████████████████████████████████████████████████████████████████████████████████████████████████████████████████████| 144/144 [03:16<00:00,  1.36s/it]\n"
     ]
    },
    {
     "name": "stdout",
     "output_type": "stream",
     "text": [
      "Abstract   Intro      Main       Method     Summary    Caption   \n",
      "106/156    265/361    1284/1584  197/399    112/190    751/757   \n",
      "Epoch: 025, Train Loss: 0.0787834, Val Loss: 0.2116946, Val Acc: 0.7876414, Val Precision: 0.7198987, Val Recall: 0.7165745, Val F1: 0.7170485 \n",
      "EarlyStopping counter: 14 out of 15\n"
     ]
    },
    {
     "name": "stderr",
     "output_type": "stream",
     "text": [
      "100%|████████████████████████████████████████████████████████████████████████████████████████████████████████████████████████████████████████████████| 575/575 [19:24<00:00,  2.03s/it]\n",
      "100%|████████████████████████████████████████████████████████████████████████████████████████████████████████████████████████████████████████████████| 144/144 [03:16<00:00,  1.36s/it]\n"
     ]
    },
    {
     "name": "stdout",
     "output_type": "stream",
     "text": [
      "Abstract   Intro      Main       Method     Summary    Caption   \n",
      "109/156    288/361    1393/1584  97/399     109/190    745/757   \n",
      "Epoch: 026, Train Loss: 0.0732215, Val Loss: 0.2408583, Val Acc: 0.7951842, Val Precision: 0.7611170, Val Recall: 0.6961435, Val F1: 0.7003705 \n",
      "EarlyStopping counter: 15 out of 15\n",
      "Early stopping\n",
      "\n"
     ]
    },
    {
     "data": {
      "text/html": [
       "Waiting for W&B process to finish... <strong style=\"color:green\">(success).</strong>"
      ],
      "text/plain": [
       "<IPython.core.display.HTML object>"
      ]
     },
     "metadata": {},
     "output_type": "display_data"
    },
    {
     "data": {
      "text/html": [
       "<style>\n",
       "    table.wandb td:nth-child(1) { padding: 0 10px; text-align: right }\n",
       "    .wandb-row { display: flex; flex-direction: row; flex-wrap: wrap; width: 100% }\n",
       "    .wandb-col { display: flex; flex-direction: column; flex-basis: 100%; flex: 1; padding: 10px; }\n",
       "    </style>\n",
       "<div class=\"wandb-row\"><div class=\"wandb-col\"><h3>Run history:</h3><br/><table class=\"wandb\"><tr><td>train_loss</td><td>█▅▄▄▄▄▄▃▃▃▃▃▃▂▂▂▂▂▂▂▂▁▁▁▁▁</td></tr><tr><td>val_acc</td><td>▁▃▄▄▄▄▅▆▆▇▇▇▇▇▇███▇█▇██▇▇█</td></tr><tr><td>val_f1</td><td>▁▂▃▃▃▃▄▆▇▇▇▇▇▇▇█████▇█████</td></tr><tr><td>val_loss</td><td>█▅▄▃▃▃▂▂▂▁▁▁▁▁▁▁▁▁▂▂▃▂▂▃▃▄</td></tr><tr><td>val_precision</td><td>▁▂▂▃▃▅▆▇▇▇██████████████▇█</td></tr><tr><td>val_recall</td><td>▁▂▃▃▃▃▄▅▆▆▇▇▆▇▇▇█▇▇█▇██▇██</td></tr></table><br/></div><div class=\"wandb-col\"><h3>Run summary:</h3><br/><table class=\"wandb\"><tr><td>train_loss</td><td>0.07322</td></tr><tr><td>val_acc</td><td>0.79518</td></tr><tr><td>val_f1</td><td>0.70037</td></tr><tr><td>val_loss</td><td>0.24086</td></tr><tr><td>val_precision</td><td>0.76112</td></tr><tr><td>val_recall</td><td>0.69614</td></tr></table><br/></div></div>"
      ],
      "text/plain": [
       "<IPython.core.display.HTML object>"
      ]
     },
     "metadata": {},
     "output_type": "display_data"
    },
    {
     "data": {
      "text/html": [
       "Synced <strong style=\"color:#cdcd00\">earthy-star-18</strong>: <a href=\"https://wandb.ai/ihateml/xlnet_classification/runs/2j7lzu8v\" target=\"_blank\">https://wandb.ai/ihateml/xlnet_classification/runs/2j7lzu8v</a><br/>Synced 7 W&B file(s), 0 media file(s), 0 artifact file(s) and 1 other file(s)"
      ],
      "text/plain": [
       "<IPython.core.display.HTML object>"
      ]
     },
     "metadata": {},
     "output_type": "display_data"
    },
    {
     "data": {
      "text/html": [
       "Find logs at: <code>./wandb/run-20220422_215017-2j7lzu8v/logs</code>"
      ],
      "text/plain": [
       "<IPython.core.display.HTML object>"
      ]
     },
     "metadata": {},
     "output_type": "display_data"
    }
   ],
   "source": [
    "model_name = 'xlnet-base-cased'\n",
    "data_file = './Datasets/check.csv'\n",
    "\n",
    "dropout=0.1\n",
    "lr=1e-5\n",
    "batch_size=24\n",
    "random_state=1000\n",
    "epochs=100\n",
    "data_cut=None\n",
    "max_length=512\n",
    "task_type='onehot'\n",
    "freeze_layers=3\n",
    "num_classifier=8\n",
    "early_stop_count=15\n",
    "\n",
    "wandb_project = 'xlnet_classification'\n",
    "#wandb_project = 'testing'\n",
    "wandb_group = 'freeze&classifier_test'\n",
    "wandb_memo = 'freeze&classifier_test 조합 test 중'\n",
    "\n",
    "wandb_name = \"fz_{0}_clf_{1}_onehot\".format(freeze_layers, num_classifier)\n",
    "trainer = NLP_classification(model_name=model_name, max_length=max_length, random_state=random_state, task_type=task_type, freeze_layers=freeze_layers, num_classifier=num_classifier)\n",
    "trainer.training(data_file, epochs=epochs, batch_size=batch_size, lr=lr, dropout=dropout, data_cut=data_cut, early_stop_count=early_stop_count, wandb_log=True, wandb_project=wandb_project, wandb_group=wandb_group, wandb_memo=wandb_memo, wandb_name=wandb_name)\n",
    "wandb.finish()"
   ]
  },
  {
   "cell_type": "code",
   "execution_count": null,
   "id": "db7d9272-d4cb-40a2-9936-6cc8c9cda8b6",
   "metadata": {},
   "outputs": [],
   "source": []
  }
 ],
 "metadata": {
  "kernelspec": {
   "display_name": "text",
   "language": "python",
   "name": "text"
  },
  "language_info": {
   "codemirror_mode": {
    "name": "ipython",
    "version": 3
   },
   "file_extension": ".py",
   "mimetype": "text/x-python",
   "name": "python",
   "nbconvert_exporter": "python",
   "pygments_lexer": "ipython3",
   "version": "3.9.12"
  }
 },
 "nbformat": 4,
 "nbformat_minor": 5
}
