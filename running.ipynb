{
 "cells": [
  {
   "cell_type": "code",
   "execution_count": 1,
   "id": "4f7a8360-cc7f-468e-a349-55d42eee04c7",
   "metadata": {},
   "outputs": [],
   "source": [
    "from main_code import run\n",
    "from main_code.run import NLP_classification"
   ]
  },
  {
   "cell_type": "code",
   "execution_count": 2,
   "id": "f6b336f2-2f45-42cd-ab57-7949bdb55e18",
   "metadata": {
    "tags": []
   },
   "outputs": [
    {
     "name": "stderr",
     "output_type": "stream",
     "text": [
      "100%|██████████| 80/80 [00:08<00:00,  8.94it/s]\n",
      "100%|██████████| 20/20 [00:00<00:00, 38.78it/s]\n"
     ]
    },
    {
     "name": "stdout",
     "output_type": "stream",
     "text": [
      "Abstract   Intro      Main       Method     Summary    Caption   \n",
      "0/1        0/2        8/8        0/5        0/1        0/3       \n",
      "Epoch: 001, Train Loss: 1.6201905, Val Loss: 1.5721780, Val Acc: 0.4000000, Val Precision: 0.0666667, Val Recall: 0.1666667, Val F1: 0.0952381 \n",
      "Validation loss decreased (inf --> 1.572178). \n"
     ]
    },
    {
     "name": "stderr",
     "output_type": "stream",
     "text": [
      "100%|██████████| 80/80 [00:08<00:00,  9.71it/s]\n",
      "100%|██████████| 20/20 [00:00<00:00, 37.67it/s]\n"
     ]
    },
    {
     "name": "stdout",
     "output_type": "stream",
     "text": [
      "Abstract   Intro      Main       Method     Summary    Caption   \n",
      "0/1        0/2        8/8        0/5        0/1        0/3       \n",
      "Epoch: 002, Train Loss: 1.5302697, Val Loss: 1.5097587, Val Acc: 0.4000000, Val Precision: 0.0666667, Val Recall: 0.1666667, Val F1: 0.0952381 \n",
      "Validation loss decreased (1.572178 --> 1.509759). \n"
     ]
    },
    {
     "name": "stderr",
     "output_type": "stream",
     "text": [
      "100%|██████████| 80/80 [00:08<00:00,  9.65it/s]\n",
      "100%|██████████| 20/20 [00:00<00:00, 38.83it/s]\n"
     ]
    },
    {
     "name": "stdout",
     "output_type": "stream",
     "text": [
      "Abstract   Intro      Main       Method     Summary    Caption   \n",
      "0/1        0/2        8/8        3/5        0/1        0/3       \n",
      "Epoch: 003, Train Loss: 1.4730615, Val Loss: 1.4842414, Val Acc: 0.5500000, Val Precision: 0.2450980, Val Recall: 0.2666667, Val F1: 0.2316667 \n",
      "Validation loss decreased (1.509759 --> 1.484241). \n"
     ]
    },
    {
     "name": "stderr",
     "output_type": "stream",
     "text": [
      "100%|██████████| 80/80 [00:08<00:00,  9.54it/s]\n",
      "100%|██████████| 20/20 [00:00<00:00, 38.13it/s]\n"
     ]
    },
    {
     "name": "stdout",
     "output_type": "stream",
     "text": [
      "Abstract   Intro      Main       Method     Summary    Caption   \n",
      "0/1        0/2        8/8        1/5        0/1        1/3       \n",
      "Epoch: 004, Train Loss: 1.3949835, Val Loss: 1.3288951, Val Acc: 0.5000000, Val Precision: 0.3284314, Val Recall: 0.2555556, Val F1: 0.2288889 \n",
      "Validation loss decreased (1.484241 --> 1.328895). \n"
     ]
    },
    {
     "name": "stderr",
     "output_type": "stream",
     "text": [
      "100%|██████████| 80/80 [00:08<00:00,  9.70it/s]\n",
      "100%|██████████| 20/20 [00:00<00:00, 39.89it/s]\n"
     ]
    },
    {
     "name": "stdout",
     "output_type": "stream",
     "text": [
      "Abstract   Intro      Main       Method     Summary    Caption   \n",
      "0/1        0/2        8/8        4/5        0/1        1/3       \n",
      "Epoch: 005, Train Loss: 1.1457408, Val Loss: 1.0798812, Val Acc: 0.6500000, Val Precision: 0.3192308, Val Recall: 0.3555556, Val F1: 0.3269841 \n",
      "Validation loss decreased (1.328895 --> 1.079881). \n"
     ]
    },
    {
     "name": "stderr",
     "output_type": "stream",
     "text": [
      "100%|██████████| 80/80 [00:08<00:00,  9.39it/s]\n",
      "100%|██████████| 20/20 [00:00<00:00, 36.85it/s]\n"
     ]
    },
    {
     "name": "stdout",
     "output_type": "stream",
     "text": [
      "Abstract   Intro      Main       Method     Summary    Caption   \n",
      "0/1        1/2        8/8        5/5        0/1        1/3       \n",
      "Epoch: 006, Train Loss: 0.8173202, Val Loss: 0.7643387, Val Acc: 0.7500000, Val Precision: 0.4944444, Val Recall: 0.4722222, Val F1: 0.4663300 \n",
      "Validation loss decreased (1.079881 --> 0.764339). \n"
     ]
    },
    {
     "name": "stderr",
     "output_type": "stream",
     "text": [
      "100%|██████████| 80/80 [00:09<00:00,  8.26it/s]\n",
      "100%|██████████| 20/20 [00:00<00:00, 33.91it/s]\n"
     ]
    },
    {
     "name": "stdout",
     "output_type": "stream",
     "text": [
      "Abstract   Intro      Main       Method     Summary    Caption   \n",
      "0/1        2/2        8/8        5/5        0/1        1/3       \n",
      "Epoch: 007, Train Loss: 0.6662994, Val Loss: 0.8336301, Val Acc: 0.8000000, Val Precision: 0.5222222, Val Recall: 0.5555556, Val F1: 0.5329966 \n",
      "EarlyStopping counter: 1 out of 10\n"
     ]
    },
    {
     "name": "stderr",
     "output_type": "stream",
     "text": [
      "100%|██████████| 80/80 [00:08<00:00,  8.90it/s]\n",
      "100%|██████████| 20/20 [00:00<00:00, 38.88it/s]\n"
     ]
    },
    {
     "name": "stdout",
     "output_type": "stream",
     "text": [
      "Abstract   Intro      Main       Method     Summary    Caption   \n",
      "0/1        1/2        8/8        5/5        0/1        1/3       \n",
      "Epoch: 008, Train Loss: 0.4419358, Val Loss: 0.5351846, Val Acc: 0.7500000, Val Precision: 0.4944444, Val Recall: 0.4722222, Val F1: 0.4663300 \n",
      "Validation loss decreased (0.764339 --> 0.535185). \n"
     ]
    },
    {
     "name": "stderr",
     "output_type": "stream",
     "text": [
      "100%|██████████| 80/80 [00:08<00:00,  9.67it/s]\n",
      "100%|██████████| 20/20 [00:00<00:00, 37.94it/s]\n"
     ]
    },
    {
     "name": "stdout",
     "output_type": "stream",
     "text": [
      "Abstract   Intro      Main       Method     Summary    Caption   \n",
      "0/1        2/2        8/8        5/5        0/1        1/3       \n",
      "Epoch: 009, Train Loss: 0.3914363, Val Loss: 0.4093597, Val Acc: 0.8000000, Val Precision: 0.4944444, Val Recall: 0.5555556, Val F1: 0.5148148 \n",
      "Validation loss decreased (0.535185 --> 0.409360). \n"
     ]
    },
    {
     "name": "stderr",
     "output_type": "stream",
     "text": [
      "100%|██████████| 80/80 [00:09<00:00,  8.78it/s]\n",
      "100%|██████████| 20/20 [00:00<00:00, 33.24it/s]\n"
     ]
    },
    {
     "name": "stdout",
     "output_type": "stream",
     "text": [
      "Abstract   Intro      Main       Method     Summary    Caption   \n",
      "1/1        2/2        8/8        5/5        0/1        1/3       \n",
      "Epoch: 010, Train Loss: 0.3074830, Val Loss: 0.4438480, Val Acc: 0.8500000, Val Precision: 0.7722222, Val Recall: 0.7222222, Val F1: 0.7163300 \n",
      "EarlyStopping counter: 1 out of 10\n"
     ]
    },
    {
     "name": "stderr",
     "output_type": "stream",
     "text": [
      " 61%|██████▏   | 49/80 [00:05<00:03,  9.19it/s]\n"
     ]
    },
    {
     "ename": "KeyboardInterrupt",
     "evalue": "",
     "output_type": "error",
     "traceback": [
      "\u001b[0;31m---------------------------------------------------------------------------\u001b[0m",
      "\u001b[0;31mKeyboardInterrupt\u001b[0m                         Traceback (most recent call last)",
      "\u001b[0;32m<ipython-input-2-2e43e3b42a32>\u001b[0m in \u001b[0;36m<module>\u001b[0;34m\u001b[0m\n\u001b[1;32m     14\u001b[0m \u001b[0;34m\u001b[0m\u001b[0m\n\u001b[1;32m     15\u001b[0m \u001b[0mtrainer\u001b[0m \u001b[0;34m=\u001b[0m \u001b[0mNLP_classification\u001b[0m\u001b[0;34m(\u001b[0m\u001b[0mmodel_name\u001b[0m\u001b[0;34m=\u001b[0m\u001b[0mmodel_name\u001b[0m\u001b[0;34m,\u001b[0m \u001b[0mmax_length\u001b[0m\u001b[0;34m=\u001b[0m\u001b[0mmax_length\u001b[0m\u001b[0;34m,\u001b[0m \u001b[0mrandom_state\u001b[0m\u001b[0;34m=\u001b[0m\u001b[0mrandom_state\u001b[0m\u001b[0;34m,\u001b[0m \u001b[0mtask_type\u001b[0m\u001b[0;34m=\u001b[0m\u001b[0mtask_type\u001b[0m\u001b[0;34m,\u001b[0m \u001b[0mfreeze_layers\u001b[0m\u001b[0;34m=\u001b[0m\u001b[0mfreeze_layers\u001b[0m\u001b[0;34m,\u001b[0m \u001b[0mnum_classifier\u001b[0m\u001b[0;34m=\u001b[0m\u001b[0mnum_classifier\u001b[0m\u001b[0;34m)\u001b[0m\u001b[0;34m\u001b[0m\u001b[0;34m\u001b[0m\u001b[0m\n\u001b[0;32m---> 16\u001b[0;31m \u001b[0mtrainer\u001b[0m\u001b[0;34m.\u001b[0m\u001b[0mtraining\u001b[0m\u001b[0;34m(\u001b[0m\u001b[0mdata_file\u001b[0m\u001b[0;34m,\u001b[0m \u001b[0mepochs\u001b[0m\u001b[0;34m=\u001b[0m\u001b[0mepochs\u001b[0m\u001b[0;34m,\u001b[0m \u001b[0mbatch_size\u001b[0m\u001b[0;34m=\u001b[0m\u001b[0mbatch_size\u001b[0m\u001b[0;34m,\u001b[0m \u001b[0mlr\u001b[0m\u001b[0;34m=\u001b[0m\u001b[0mlr\u001b[0m\u001b[0;34m,\u001b[0m \u001b[0mdropout\u001b[0m\u001b[0;34m=\u001b[0m\u001b[0mdropout\u001b[0m\u001b[0;34m,\u001b[0m \u001b[0mdata_cut\u001b[0m\u001b[0;34m=\u001b[0m\u001b[0mdata_cut\u001b[0m\u001b[0;34m)\u001b[0m\u001b[0;34m\u001b[0m\u001b[0;34m\u001b[0m\u001b[0m\n\u001b[0m",
      "\u001b[0;32m~/6.소재데이터/2.paragraph_classification_1/main_code/run.py\u001b[0m in \u001b[0;36mtraining\u001b[0;34m(self, data_file, epochs, batch_size, lr, dropout, data_cut, wandb_log, wandb_project, wandb_group, wandb_name, wandb_memo)\u001b[0m\n\u001b[1;32m    103\u001b[0m                 \u001b[0mloss_all\u001b[0m \u001b[0;34m+=\u001b[0m \u001b[0mloss\u001b[0m\u001b[0;34m.\u001b[0m\u001b[0mitem\u001b[0m\u001b[0;34m(\u001b[0m\u001b[0;34m)\u001b[0m\u001b[0;34m\u001b[0m\u001b[0;34m\u001b[0m\u001b[0m\n\u001b[1;32m    104\u001b[0m \u001b[0;34m\u001b[0m\u001b[0m\n\u001b[0;32m--> 105\u001b[0;31m                 \u001b[0mloss\u001b[0m\u001b[0;34m.\u001b[0m\u001b[0mbackward\u001b[0m\u001b[0;34m(\u001b[0m\u001b[0;34m)\u001b[0m\u001b[0;34m\u001b[0m\u001b[0;34m\u001b[0m\u001b[0m\n\u001b[0m\u001b[1;32m    106\u001b[0m                 \u001b[0moptimizer\u001b[0m\u001b[0;34m.\u001b[0m\u001b[0mstep\u001b[0m\u001b[0;34m(\u001b[0m\u001b[0;34m)\u001b[0m\u001b[0;34m\u001b[0m\u001b[0;34m\u001b[0m\u001b[0m\n\u001b[1;32m    107\u001b[0m                 \u001b[0mscheduler\u001b[0m\u001b[0;34m.\u001b[0m\u001b[0mstep\u001b[0m\u001b[0;34m(\u001b[0m\u001b[0;34m)\u001b[0m\u001b[0;34m\u001b[0m\u001b[0;34m\u001b[0m\u001b[0m\n",
      "\u001b[0;32m~/.conda/envs/MXMNET/lib/python3.9/site-packages/torch/_tensor.py\u001b[0m in \u001b[0;36mbackward\u001b[0;34m(self, gradient, retain_graph, create_graph, inputs)\u001b[0m\n\u001b[1;32m    253\u001b[0m                 \u001b[0mcreate_graph\u001b[0m\u001b[0;34m=\u001b[0m\u001b[0mcreate_graph\u001b[0m\u001b[0;34m,\u001b[0m\u001b[0;34m\u001b[0m\u001b[0;34m\u001b[0m\u001b[0m\n\u001b[1;32m    254\u001b[0m                 inputs=inputs)\n\u001b[0;32m--> 255\u001b[0;31m         \u001b[0mtorch\u001b[0m\u001b[0;34m.\u001b[0m\u001b[0mautograd\u001b[0m\u001b[0;34m.\u001b[0m\u001b[0mbackward\u001b[0m\u001b[0;34m(\u001b[0m\u001b[0mself\u001b[0m\u001b[0;34m,\u001b[0m \u001b[0mgradient\u001b[0m\u001b[0;34m,\u001b[0m \u001b[0mretain_graph\u001b[0m\u001b[0;34m,\u001b[0m \u001b[0mcreate_graph\u001b[0m\u001b[0;34m,\u001b[0m \u001b[0minputs\u001b[0m\u001b[0;34m=\u001b[0m\u001b[0minputs\u001b[0m\u001b[0;34m)\u001b[0m\u001b[0;34m\u001b[0m\u001b[0;34m\u001b[0m\u001b[0m\n\u001b[0m\u001b[1;32m    256\u001b[0m \u001b[0;34m\u001b[0m\u001b[0m\n\u001b[1;32m    257\u001b[0m     \u001b[0;32mdef\u001b[0m \u001b[0mregister_hook\u001b[0m\u001b[0;34m(\u001b[0m\u001b[0mself\u001b[0m\u001b[0;34m,\u001b[0m \u001b[0mhook\u001b[0m\u001b[0;34m)\u001b[0m\u001b[0;34m:\u001b[0m\u001b[0;34m\u001b[0m\u001b[0;34m\u001b[0m\u001b[0m\n",
      "\u001b[0;32m~/.conda/envs/MXMNET/lib/python3.9/site-packages/torch/autograd/__init__.py\u001b[0m in \u001b[0;36mbackward\u001b[0;34m(tensors, grad_tensors, retain_graph, create_graph, grad_variables, inputs)\u001b[0m\n\u001b[1;32m    145\u001b[0m         \u001b[0mretain_graph\u001b[0m \u001b[0;34m=\u001b[0m \u001b[0mcreate_graph\u001b[0m\u001b[0;34m\u001b[0m\u001b[0;34m\u001b[0m\u001b[0m\n\u001b[1;32m    146\u001b[0m \u001b[0;34m\u001b[0m\u001b[0m\n\u001b[0;32m--> 147\u001b[0;31m     Variable._execution_engine.run_backward(\n\u001b[0m\u001b[1;32m    148\u001b[0m         \u001b[0mtensors\u001b[0m\u001b[0;34m,\u001b[0m \u001b[0mgrad_tensors_\u001b[0m\u001b[0;34m,\u001b[0m \u001b[0mretain_graph\u001b[0m\u001b[0;34m,\u001b[0m \u001b[0mcreate_graph\u001b[0m\u001b[0;34m,\u001b[0m \u001b[0minputs\u001b[0m\u001b[0;34m,\u001b[0m\u001b[0;34m\u001b[0m\u001b[0;34m\u001b[0m\u001b[0m\n\u001b[1;32m    149\u001b[0m         allow_unreachable=True, accumulate_grad=True)  # allow_unreachable flag\n",
      "\u001b[0;31mKeyboardInterrupt\u001b[0m: "
     ]
    }
   ],
   "source": [
    "model_name = 'xlnet-base-cased'\n",
    "data_file = './1.tutorial/check.csv'\n",
    "\n",
    "dropout=0.1\n",
    "lr=1e-5\n",
    "batch_size=1\n",
    "random_state=1000\n",
    "epochs=50\n",
    "data_cut=100\n",
    "max_length=128\n",
    "task_type='scalar'\n",
    "freeze_layers=3 \n",
    "num_classifier=2\n",
    "\n",
    "trainer = NLP_classification(model_name=model_name, max_length=max_length, random_state=random_state, task_type=task_type, freeze_layers=freeze_layers, num_classifier=num_classifier)\n",
    "trainer.training(data_file, epochs=epochs, batch_size=batch_size, lr=lr, dropout=dropout, data_cut=data_cut)"
   ]
  },
  {
   "cell_type": "code",
   "execution_count": null,
   "id": "750ba899-8e0a-4ba8-b1a5-d6bbb0a3a41e",
   "metadata": {},
   "outputs": [],
   "source": []
  }
 ],
 "metadata": {
  "kernelspec": {
   "display_name": "MXMNET",
   "language": "python",
   "name": "mxmnet"
  },
  "language_info": {
   "codemirror_mode": {
    "name": "ipython",
    "version": 3
   },
   "file_extension": ".py",
   "mimetype": "text/x-python",
   "name": "python",
   "nbconvert_exporter": "python",
   "pygments_lexer": "ipython3",
   "version": "3.9.6"
  }
 },
 "nbformat": 4,
 "nbformat_minor": 5
}
